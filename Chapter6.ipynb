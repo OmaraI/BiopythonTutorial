{
 "metadata": {
  "name": "",
  "signature": "sha256:1233322c3282e50bed42759d56f0cf5af1e3c7ec9519330d5f2c9da375b9bf2d"
 },
 "nbformat": 3,
 "nbformat_minor": 0,
 "worksheets": [
  {
   "cells": [
    {
     "cell_type": "markdown",
     "metadata": {},
     "source": [
      "# Chapter 6  Multiple Sequence Alignment objects"
     ]
    },
    {
     "cell_type": "markdown",
     "metadata": {},
     "source": [
      "This chapter is about Multiple Sequence Alignments, by which we mean a collection of multiple sequences which have been aligned together \u2013 usually with the insertion of gap characters, and addition of leading or trailing gaps \u2013 such that all the sequence strings are the same length. Such an alignment can be regarded as a matrix of letters, where each row is held as a SeqRecord object internally.\n",
      "\n",
      "We will introduce the MultipleSeqAlignment object which holds this kind of data, and the Bio.AlignIO module for reading and writing them as various file formats (following the design of the Bio.SeqIO module from the previous chapter). Note that both Bio.SeqIO and Bio.AlignIO can read and write sequence alignment files. The appropriate choice will depend largely on what you want to do with the data.\n",
      "\n",
      "The final part of this chapter is about our command line wrappers for common multiple sequence alignment tools like ClustalW and MUSCLE."
     ]
    },
    {
     "cell_type": "markdown",
     "metadata": {},
     "source": [
      "## 6.1  Parsing or Reading Sequence Alignments\n",
      "\n",
      "We have two functions for reading in sequence alignments, Bio.AlignIO.read() and Bio.AlignIO.parse() which following the convention introduced in Bio.SeqIO are for files containing one or multiple alignments respectively.\n",
      "\n",
      "Using Bio.AlignIO.parse() will return an iterator which gives MultipleSeqAlignment objects. Iterators are typically used in a for loop. Examples of situations where you will have multiple different alignments include resampled alignments from the PHYLIP tool seqboot, or multiple pairwise alignments from the EMBOSS tools water or needle, or Bill Pearson\u2019s FASTA tools.\n",
      "\n",
      "However, in many situations you will be dealing with files which contain only a single alignment. In this case, you should use the Bio.AlignIO.read() function which returns a single MultipleSeqAlignment object.\n",
      "\n",
      "Both functions expect two mandatory arguments:\n",
      "\n",
      "1. The first argument is a handle to read the data from, typically an open file (see Section 22.1), or a filename.\n",
      "2. The second argument is a lower case string specifying the alignment format. As in Bio.SeqIO we don\u2019t try and guess the file format for you! See http://biopython.org/wiki/AlignIO for a full listing of supported formats.\n",
      "\n",
      "There is also an optional seq_count argument which is discussed in Section 6.1.3 below for dealing with ambiguous file formats which may contain more than one alignment.\n",
      "\n",
      "A further optional alphabet argument allowing you to specify the expected alphabet. This can be useful as many alignment file formats do not explicitly label the sequences as RNA, DNA or protein \u2013 which means Bio.AlignIO will default to using a generic alphabet."
     ]
    },
    {
     "cell_type": "markdown",
     "metadata": {},
     "source": [
      "6.1.1  Single Alignments\n",
      "\n",
      "As an example, consider the following annotation rich protein alignment in the PFAM or Stockholm file format:\n",
      "```\n",
      "# STOCKHOLM 1.0\n",
      "#=GS COATB_BPIKE/30-81  AC P03620.1\n",
      "#=GS COATB_BPIKE/30-81  DR PDB; 1ifl ; 1-52;\n",
      "#=GS Q9T0Q8_BPIKE/1-52  AC Q9T0Q8.1\n",
      "#=GS COATB_BPI22/32-83  AC P15416.1\n",
      "#=GS COATB_BPM13/24-72  AC P69541.1\n",
      "#=GS COATB_BPM13/24-72  DR PDB; 2cpb ; 1-49;\n",
      "#=GS COATB_BPM13/24-72  DR PDB; 2cps ; 1-49;\n",
      "#=GS COATB_BPZJ2/1-49   AC P03618.1\n",
      "#=GS Q9T0Q9_BPFD/1-49   AC Q9T0Q9.1\n",
      "#=GS Q9T0Q9_BPFD/1-49   DR PDB; 1nh4 A; 1-49;\n",
      "#=GS COATB_BPIF1/22-73  AC P03619.2\n",
      "#=GS COATB_BPIF1/22-73  DR PDB; 1ifk ; 1-50;\n",
      "COATB_BPIKE/30-81             AEPNAATNYATEAMDSLKTQAIDLISQTWPVVTTVVVAGLVIRLFKKFSSKA\n",
      "#=GR COATB_BPIKE/30-81  SS    -HHHHHHHHHHHHHH--HHHHHHHH--HHHHHHHHHHHHHHHHHHHHH----\n",
      "Q9T0Q8_BPIKE/1-52             AEPNAATNYATEAMDSLKTQAIDLISQTWPVVTTVVVAGLVIKLFKKFVSRA\n",
      "COATB_BPI22/32-83             DGTSTATSYATEAMNSLKTQATDLIDQTWPVVTSVAVAGLAIRLFKKFSSKA\n",
      "COATB_BPM13/24-72             AEGDDP...AKAAFNSLQASATEYIGYAWAMVVVIVGATIGIKLFKKFTSKA\n",
      "#=GR COATB_BPM13/24-72  SS    ---S-T...CHCHHHHCCCCTCCCTTCHHHHHHHHHHHHHHHHHHHHCTT--\n",
      "COATB_BPZJ2/1-49              AEGDDP...AKAAFDSLQASATEYIGYAWAMVVVIVGATIGIKLFKKFASKA\n",
      "Q9T0Q9_BPFD/1-49              AEGDDP...AKAAFDSLQASATEYIGYAWAMVVVIVGATIGIKLFKKFTSKA\n",
      "#=GR Q9T0Q9_BPFD/1-49   SS    ------...-HHHHHHHHHHHHHHHHHHHHHHHHHHHHHHHHHHHHHHHH--\n",
      "COATB_BPIF1/22-73             FAADDATSQAKAAFDSLTAQATEMSGYAWALVVLVVGATVGIKLFKKFVSRA\n",
      "#=GR COATB_BPIF1/22-73  SS    XX-HHHH--HHHHHH--HHHHHHH--HHHHHHHHHHHHHHHHHHHHHHH---\n",
      "#=GC SS_cons                  XHHHHHHHHHHHHHHHCHHHHHHHHCHHHHHHHHHHHHHHHHHHHHHHHC--\n",
      "#=GC seq_cons                 AEssss...AptAhDSLpspAT-hIu.sWshVsslVsAsluIKLFKKFsSKA\n",
      "//\n",
      "```"
     ]
    },
    {
     "cell_type": "markdown",
     "metadata": {},
     "source": [
      "This is the seed alignment for the Phage_Coat_Gp8 (PF05371) PFAM entry, downloaded from a now out of date release of PFAM from http://pfam.sanger.ac.uk/. We can load this file as follows (assuming it has been saved to disk as \u201cPF05371_seed.sth\u201d in the current working directory):"
     ]
    },
    {
     "cell_type": "code",
     "collapsed": false,
     "input": [
      ">>> from Bio import AlignIO\n",
      ">>> alignment = AlignIO.read(\"PF05371_seed.sth\", \"stockholm\")"
     ],
     "language": "python",
     "metadata": {},
     "outputs": [],
     "prompt_number": 4
    },
    {
     "cell_type": "markdown",
     "metadata": {},
     "source": [
      "This code will print out a summary of the alignment:"
     ]
    },
    {
     "cell_type": "code",
     "collapsed": false,
     "input": [
      ">>> print(alignment)"
     ],
     "language": "python",
     "metadata": {},
     "outputs": [
      {
       "output_type": "stream",
       "stream": "stdout",
       "text": [
        "SingleLetterAlphabet() alignment with 7 rows and 52 columns\n",
        "AEPNAATNYATEAMDSLKTQAIDLISQTWPVVTTVVVAGLVIRL...SKA COATB_BPIKE/30-81\n",
        "AEPNAATNYATEAMDSLKTQAIDLISQTWPVVTTVVVAGLVIKL...SRA Q9T0Q8_BPIKE/1-52\n",
        "DGTSTATSYATEAMNSLKTQATDLIDQTWPVVTSVAVAGLAIRL...SKA COATB_BPI22/32-83\n",
        "AEGDDP---AKAAFNSLQASATEYIGYAWAMVVVIVGATIGIKL...SKA COATB_BPM13/24-72\n",
        "AEGDDP---AKAAFDSLQASATEYIGYAWAMVVVIVGATIGIKL...SKA COATB_BPZJ2/1-49\n",
        "AEGDDP---AKAAFDSLQASATEYIGYAWAMVVVIVGATIGIKL...SKA Q9T0Q9_BPFD/1-49\n",
        "FAADDATSQAKAAFDSLTAQATEMSGYAWALVVLVVGATVGIKL...SRA COATB_BPIF1/22-73\n"
       ]
      }
     ],
     "prompt_number": 6
    },
    {
     "cell_type": "markdown",
     "metadata": {},
     "source": [
      "You\u2019ll notice in the above output the sequences have been truncated. We could instead write our own code to format this as we please by iterating over the rows as SeqRecord objects:"
     ]
    },
    {
     "cell_type": "code",
     "collapsed": false,
     "input": [
      ">>> from Bio import AlignIO\n",
      ">>> alignment = AlignIO.read(\"PF05371_seed.sth\", \"stockholm\")\n",
      ">>> print(\"Alignment length %i\" % alignment.get_alignment_length())"
     ],
     "language": "python",
     "metadata": {},
     "outputs": [
      {
       "output_type": "stream",
       "stream": "stdout",
       "text": [
        "Alignment length 52\n"
       ]
      }
     ],
     "prompt_number": 7
    },
    {
     "cell_type": "code",
     "collapsed": false,
     "input": [
      ">>> for record in alignment:\n",
      "...     print(\"%s - %s\" % (record.seq, record.id))"
     ],
     "language": "python",
     "metadata": {},
     "outputs": [
      {
       "output_type": "stream",
       "stream": "stdout",
       "text": [
        "AEPNAATNYATEAMDSLKTQAIDLISQTWPVVTTVVVAGLVIRLFKKFSSKA - COATB_BPIKE/30-81\n",
        "AEPNAATNYATEAMDSLKTQAIDLISQTWPVVTTVVVAGLVIKLFKKFVSRA - Q9T0Q8_BPIKE/1-52\n",
        "DGTSTATSYATEAMNSLKTQATDLIDQTWPVVTSVAVAGLAIRLFKKFSSKA - COATB_BPI22/32-83\n",
        "AEGDDP---AKAAFNSLQASATEYIGYAWAMVVVIVGATIGIKLFKKFTSKA - COATB_BPM13/24-72\n",
        "AEGDDP---AKAAFDSLQASATEYIGYAWAMVVVIVGATIGIKLFKKFASKA - COATB_BPZJ2/1-49\n",
        "AEGDDP---AKAAFDSLQASATEYIGYAWAMVVVIVGATIGIKLFKKFTSKA - Q9T0Q9_BPFD/1-49\n",
        "FAADDATSQAKAAFDSLTAQATEMSGYAWALVVLVVGATVGIKLFKKFVSRA - COATB_BPIF1/22-73\n"
       ]
      }
     ],
     "prompt_number": 8
    },
    {
     "cell_type": "markdown",
     "metadata": {},
     "source": [
      "You could also use the alignment object\u2019s format method to show it in a particular file format \u2013 see Section 6.2.2 for details.\n",
      "\n",
      "Did you notice in the raw file above that several of the sequences include database cross-references to the PDB and the associated known secondary structure? Try this:"
     ]
    },
    {
     "cell_type": "code",
     "collapsed": false,
     "input": [
      ">>> for record in alignment:\n",
      "...     if record.dbxrefs:\n",
      "...         print(\"%s %s\" % (record.id, record.dbxrefs))"
     ],
     "language": "python",
     "metadata": {},
     "outputs": [
      {
       "output_type": "stream",
       "stream": "stdout",
       "text": [
        "COATB_BPIKE/30-81 ['PDB; 1ifl ; 1-52;']\n",
        "COATB_BPM13/24-72 ['PDB; 2cpb ; 1-49;', 'PDB; 2cps ; 1-49;']\n",
        "Q9T0Q9_BPFD/1-49 ['PDB; 1nh4 A; 1-49;']\n",
        "COATB_BPIF1/22-73 ['PDB; 1ifk ; 1-50;']\n"
       ]
      }
     ],
     "prompt_number": 10
    },
    {
     "cell_type": "markdown",
     "metadata": {},
     "source": [
      "To have a look at all the sequence annotation, try this:"
     ]
    },
    {
     "cell_type": "code",
     "collapsed": false,
     "input": [
      ">>> for record in alignment:\n",
      "...     print(record)"
     ],
     "language": "python",
     "metadata": {},
     "outputs": [
      {
       "output_type": "stream",
       "stream": "stdout",
       "text": [
        "ID: COATB_BPIKE/30-81\n",
        "Name: COATB_BPIKE\n",
        "Description: COATB_BPIKE/30-81\n",
        "Database cross-references: PDB; 1ifl ; 1-52;\n",
        "Number of features: 0\n",
        "/start=30\n",
        "/end=81\n",
        "/accession=P03620.1\n",
        "Per letter annotation for: secondary_structure\n",
        "Seq('AEPNAATNYATEAMDSLKTQAIDLISQTWPVVTTVVVAGLVIRLFKKFSSKA', SingleLetterAlphabet())\n",
        "ID: Q9T0Q8_BPIKE/1-52\n",
        "Name: Q9T0Q8_BPIKE\n",
        "Description: Q9T0Q8_BPIKE/1-52\n",
        "Number of features: 0\n",
        "/start=1\n",
        "/end=52\n",
        "/accession=Q9T0Q8.1\n",
        "Seq('AEPNAATNYATEAMDSLKTQAIDLISQTWPVVTTVVVAGLVIKLFKKFVSRA', SingleLetterAlphabet())\n",
        "ID: COATB_BPI22/32-83\n",
        "Name: COATB_BPI22\n",
        "Description: COATB_BPI22/32-83\n",
        "Number of features: 0\n",
        "/start=32\n",
        "/end=83\n",
        "/accession=P15416.1\n",
        "Seq('DGTSTATSYATEAMNSLKTQATDLIDQTWPVVTSVAVAGLAIRLFKKFSSKA', SingleLetterAlphabet())\n",
        "ID: COATB_BPM13/24-72\n",
        "Name: COATB_BPM13\n",
        "Description: COATB_BPM13/24-72\n",
        "Database cross-references: PDB; 2cpb ; 1-49;, PDB; 2cps ; 1-49;\n",
        "Number of features: 0\n",
        "/start=24\n",
        "/end=72\n",
        "/accession=P69541.1\n",
        "Per letter annotation for: secondary_structure\n",
        "Seq('AEGDDP---AKAAFNSLQASATEYIGYAWAMVVVIVGATIGIKLFKKFTSKA', SingleLetterAlphabet())\n",
        "ID: COATB_BPZJ2/1-49\n",
        "Name: COATB_BPZJ2\n",
        "Description: COATB_BPZJ2/1-49\n",
        "Number of features: 0\n",
        "/start=1\n",
        "/end=49\n",
        "/accession=P03618.1\n",
        "Seq('AEGDDP---AKAAFDSLQASATEYIGYAWAMVVVIVGATIGIKLFKKFASKA', SingleLetterAlphabet())\n",
        "ID: Q9T0Q9_BPFD/1-49\n",
        "Name: Q9T0Q9_BPFD\n",
        "Description: Q9T0Q9_BPFD/1-49\n",
        "Database cross-references: PDB; 1nh4 A; 1-49;\n",
        "Number of features: 0\n",
        "/start=1\n",
        "/end=49\n",
        "/accession=Q9T0Q9.1\n",
        "Per letter annotation for: secondary_structure\n",
        "Seq('AEGDDP---AKAAFDSLQASATEYIGYAWAMVVVIVGATIGIKLFKKFTSKA', SingleLetterAlphabet())\n",
        "ID: COATB_BPIF1/22-73\n",
        "Name: COATB_BPIF1\n",
        "Description: COATB_BPIF1/22-73\n",
        "Database cross-references: PDB; 1ifk ; 1-50;\n",
        "Number of features: 0\n",
        "/start=22\n",
        "/end=73\n",
        "/accession=P03619.2\n",
        "Per letter annotation for: secondary_structure\n",
        "Seq('FAADDATSQAKAAFDSLTAQATEMSGYAWALVVLVVGATVGIKLFKKFVSRA', SingleLetterAlphabet())\n"
       ]
      }
     ],
     "prompt_number": 11
    },
    {
     "cell_type": "markdown",
     "metadata": {},
     "source": [
      "Sanger provide a nice web interface at http://pfam.sanger.ac.uk/family?acc=PF05371 which will actually let you download this alignment in several other formats. This is what the file looks like in the FASTA file format:\n",
      "```\n",
      ">COATB_BPIKE/30-81\n",
      "AEPNAATNYATEAMDSLKTQAIDLISQTWPVVTTVVVAGLVIRLFKKFSSKA\n",
      ">Q9T0Q8_BPIKE/1-52\n",
      "AEPNAATNYATEAMDSLKTQAIDLISQTWPVVTTVVVAGLVIKLFKKFVSRA\n",
      ">COATB_BPI22/32-83\n",
      "DGTSTATSYATEAMNSLKTQATDLIDQTWPVVTSVAVAGLAIRLFKKFSSKA\n",
      ">COATB_BPM13/24-72\n",
      "AEGDDP---AKAAFNSLQASATEYIGYAWAMVVVIVGATIGIKLFKKFTSKA\n",
      ">COATB_BPZJ2/1-49\n",
      "AEGDDP---AKAAFDSLQASATEYIGYAWAMVVVIVGATIGIKLFKKFASKA\n",
      ">Q9T0Q9_BPFD/1-49\n",
      "AEGDDP---AKAAFDSLQASATEYIGYAWAMVVVIVGATIGIKLFKKFTSKA\n",
      ">COATB_BPIF1/22-73\n",
      "FAADDATSQAKAAFDSLTAQATEMSGYAWALVVLVVGATVGIKLFKKFVSRA\n",
      "```"
     ]
    },
    {
     "cell_type": "markdown",
     "metadata": {},
     "source": [
      "Note the website should have an option about showing gaps as periods (dots) or dashes, we\u2019ve shown dashes above. Assuming you download and save this as file \u201cPF05371_seed.faa\u201d then you can load it with almost exactly the same code:"
     ]
    },
    {
     "cell_type": "code",
     "collapsed": false,
     "input": [
      "from Bio import AlignIO\n",
      "alignment = AlignIO.read(\"PF05371_seed.faa\", \"fasta\")\n",
      "print(alignment)"
     ],
     "language": "python",
     "metadata": {},
     "outputs": [
      {
       "output_type": "stream",
       "stream": "stdout",
       "text": [
        "SingleLetterAlphabet() alignment with 7 rows and 52 columns\n",
        "AEPNAATNYATEAMDSLKTQAIDLISQTWPVVTTVVVAGLVIRL...SKA COATB_BPIKE/30-81\n",
        "AEPNAATNYATEAMDSLKTQAIDLISQTWPVVTTVVVAGLVIKL...SRA Q9T0Q8_BPIKE/1-52\n",
        "DGTSTATSYATEAMNSLKTQATDLIDQTWPVVTSVAVAGLAIRL...SKA COATB_BPI22/32-83\n",
        "AEGDDP---AKAAFNSLQASATEYIGYAWAMVVVIVGATIGIKL...SKA COATB_BPM13/24-72\n",
        "AEGDDP---AKAAFDSLQASATEYIGYAWAMVVVIVGATIGIKL...SKA COATB_BPZJ2/1-49\n",
        "AEGDDP---AKAAFDSLQASATEYIGYAWAMVVVIVGATIGIKL...SKA Q9T0Q9_BPFD/1-49\n",
        "FAADDATSQAKAAFDSLTAQATEMSGYAWALVVLVVGATVGIKL...SRA COATB_BPIF1/22-73\n"
       ]
      }
     ],
     "prompt_number": 13
    },
    {
     "cell_type": "markdown",
     "metadata": {},
     "source": [
      "All that has changed in this code is the filename and the format string. You\u2019ll get the same output as before, the sequences and record identifiers are the same. However, as you should expect, if you check each SeqRecord there is no annotation nor database cross-references because these are not included in the FASTA file format.\n",
      "\n",
      "Note that rather than using the Sanger website, you could have used Bio.AlignIO to convert the original Stockholm format file into a FASTA file yourself (see below).\n",
      "\n",
      "With any supported file format, you can load an alignment in exactly the same way just by changing the format string. For example, use \u201cphylip\u201d for PHYLIP files, \u201cnexus\u201d for NEXUS files or \u201cemboss\u201d for the alignments output by the EMBOSS tools. There is a full listing on the wiki page (http://biopython.org/wiki/AlignIO) and in the built in documentation (also [online](http://biopython.org/DIST/docs/api/Bio.AlignIO-module.html)):"
     ]
    },
    {
     "cell_type": "code",
     "collapsed": false,
     "input": [
      ">>> from Bio import AlignIO\n",
      "#>>> help(AlignIO)"
     ],
     "language": "python",
     "metadata": {},
     "outputs": [],
     "prompt_number": 16
    },
    {
     "cell_type": "markdown",
     "metadata": {},
     "source": [
      "### 6.1.2  Multiple Alignments\n",
      "\n",
      "The previous section focused on reading files containing a single alignment. In general however, files can contain more than one alignment, and to read these files we must use the Bio.AlignIO.parse() function.\n",
      "\n",
      "Suppose you have a small alignment in PHYLIP format:\n",
      "```\n",
      "    5    6\n",
      "Alpha     AACAAC\n",
      "Beta      AACCCC\n",
      "Gamma     ACCAAC\n",
      "Delta     CCACCA\n",
      "Epsilon   CCAAAC\n",
      "```\n",
      "If you wanted to bootstrap a phylogenetic tree using the PHYLIP tools, one of the steps would be to create a set of many resampled alignments using the tool bootseq. This would give output something like this, which has been abbreviated for conciseness:\n",
      "```\n",
      "    5     6\n",
      "Alpha     AAACCA\n",
      "Beta      AAACCC\n",
      "Gamma     ACCCCA\n",
      "Delta     CCCAAC\n",
      "Epsilon   CCCAAA\n",
      "    5     6\n",
      "Alpha     AAACAA\n",
      "Beta      AAACCC\n",
      "Gamma     ACCCAA\n",
      "Delta     CCCACC\n",
      "Epsilon   CCCAAA\n",
      "    5     6\n",
      "Alpha     AAAAAC\n",
      "Beta      AAACCC\n",
      "Gamma     AACAAC\n",
      "Delta     CCCCCA\n",
      "Epsilon   CCCAAC\n",
      "...\n",
      "    5     6\n",
      "Alpha     AAAACC\n",
      "Beta      ACCCCC\n",
      "Gamma     AAAACC\n",
      "Delta     CCCCAA\n",
      "Epsilon   CAAACC\n",
      "```"
     ]
    },
    {
     "cell_type": "markdown",
     "metadata": {},
     "source": [
      "If you wanted to read this in using Bio.AlignIO you could use:"
     ]
    },
    {
     "cell_type": "code",
     "collapsed": false,
     "input": [
      "from Bio import AlignIO\n",
      "alignments = AlignIO.parse(\"resampled.phy\", \"phylip\")\n",
      "for alignment in alignments:\n",
      "    print(alignment)\n",
      "    print(\"\")"
     ],
     "language": "python",
     "metadata": {},
     "outputs": [
      {
       "output_type": "stream",
       "stream": "stdout",
       "text": [
        "SingleLetterAlphabet() alignment with 5 rows and 6 columns\n",
        "AAACCA Alpha\n",
        "AAACCC Beta\n",
        "ACCCCA Gamma\n",
        "CCCAAC Delta\n",
        "CCCAAA Epsilon\n",
        "\n",
        "SingleLetterAlphabet() alignment with 5 rows and 6 columns\n",
        "AAACAA Alpha\n",
        "AAACCC Beta\n",
        "ACCCAA Gamma\n",
        "CCCACC Delta\n",
        "CCCAAA Epsilon\n",
        "\n",
        "SingleLetterAlphabet() alignment with 5 rows and 6 columns\n",
        "AAAAAC Alpha\n",
        "AAACCC Beta\n",
        "AACAAC Gamma\n",
        "CCCCCA Delta\n",
        "CCCAAC Epsilon\n",
        "\n",
        "SingleLetterAlphabet() alignment with 5 rows and 6 columns\n",
        "AAAACC Alpha\n",
        "ACCCCC Beta\n",
        "AAAACC Gamma\n",
        "CCCCAA Delta\n",
        "CAAACC Epsilon\n",
        "\n"
       ]
      }
     ],
     "prompt_number": 21
    },
    {
     "cell_type": "markdown",
     "metadata": {},
     "source": [
      "As with the function Bio.SeqIO.parse(), using Bio.AlignIO.parse() returns an iterator. If you want to keep all the alignments in memory at once, which will allow you to access them in any order, then turn the iterator into a list:"
     ]
    },
    {
     "cell_type": "code",
     "collapsed": false,
     "input": [
      "from Bio import AlignIO\n",
      "alignments = list(AlignIO.parse(\"resampled.phy\", \"phylip\"))\n",
      "last_align = alignments[-1]\n",
      "first_align = alignments[0]"
     ],
     "language": "python",
     "metadata": {},
     "outputs": [],
     "prompt_number": 22
    },
    {
     "cell_type": "markdown",
     "metadata": {},
     "source": [
      "### 6.1.3  Ambiguous Alignments\n",
      "\n",
      "Many alignment file formats can explicitly store more than one alignment, and the division between each alignment is clear. However, when a general sequence file format has been used there is no such block structure. The most common such situation is when alignments have been saved in the FASTA file format. For example consider the following:\n",
      "```\n",
      ">Alpha\n",
      "ACTACGACTAGCTCAG--G\n",
      ">Beta\n",
      "ACTACCGCTAGCTCAGAAG\n",
      ">Gamma\n",
      "ACTACGGCTAGCACAGAAG\n",
      ">Alpha\n",
      "ACTACGACTAGCTCAGG--\n",
      ">Beta\n",
      "ACTACCGCTAGCTCAGAAG\n",
      ">Gamma\n",
      "ACTACGGCTAGCACAGAAG\n",
      "```\n",
      "This could be a single alignment containing six sequences (with repeated identifiers). Or, judging from the identifiers, this is probably two different alignments each with three sequences, which happen to all have the same length.\n",
      "\n",
      "What about this next example?\n",
      "```\n",
      ">Alpha\n",
      "ACTACGACTAGCTCAG--G\n",
      ">Beta\n",
      "ACTACCGCTAGCTCAGAAG\n",
      ">Alpha\n",
      "ACTACGACTAGCTCAGG--\n",
      ">Gamma\n",
      "ACTACGGCTAGCACAGAAG\n",
      ">Alpha\n",
      "ACTACGACTAGCTCAGG--\n",
      ">Delta\n",
      "ACTACGGCTAGCACAGAAG\n",
      "```\n",
      "Again, this could be a single alignment with six sequences. However this time based on the identifiers we might guess this is three pairwise alignments which by chance have all got the same lengths.\n",
      "\n",
      "This final example is similar:\n",
      "```\n",
      ">Alpha\n",
      "ACTACGACTAGCTCAG--G\n",
      ">XXX\n",
      "ACTACCGCTAGCTCAGAAG\n",
      ">Alpha\n",
      "ACTACGACTAGCTCAGG\n",
      ">YYY\n",
      "ACTACGGCAAGCACAGG\n",
      ">Alpha\n",
      "--ACTACGAC--TAGCTCAGG\n",
      ">ZZZ\n",
      "GGACTACGACAATAGCTCAGG\n",
      "```\n",
      "In this third example, because of the differing lengths, this cannot be treated as a single alignment containing all six records. However, it could be three pairwise alignments.\n",
      "\n",
      "Clearly trying to store more than one alignment in a FASTA file is not ideal. However, if you are forced to deal with these as input files Bio.AlignIO can cope with the most common situation where all the alignments have the same number of records. One example of this is a collection of pairwise alignments, which can be produced by the EMBOSS tools needle and water \u2013 although in this situation, Bio.AlignIO should be able to understand their native output using \u201cemboss\u201d as the format string.\n",
      "\n",
      "To interpret these FASTA examples as several separate alignments, we can use Bio.AlignIO.parse() with the optional seq_count argument which specifies how many sequences are expected in each alignment (in these examples, 3, 2 and 2 respectively). For example, using the third example as the input data:"
     ]
    },
    {
     "cell_type": "code",
     "collapsed": false,
     "input": [
      "for alignment in AlignIO.parse(\"handle.phy\", \"fasta\", seq_count=2):\n",
      "    print(\"Alignment length %i\" % alignment.get_alignment_length())\n",
      "    for record in alignment:\n",
      "        print(\"%s - %s\" % (record.seq, record.id))\n",
      "    print(\"\")"
     ],
     "language": "python",
     "metadata": {},
     "outputs": [
      {
       "output_type": "stream",
       "stream": "stdout",
       "text": [
        "Alignment length 19\n",
        "ACTACGACTAGCTCAG--G - Alpha\n",
        "ACTACCGCTAGCTCAGAAG - XXX\n",
        "\n",
        "Alignment length 17\n",
        "ACTACGACTAGCTCAGG - Alpha\n",
        "ACTACGGCAAGCACAGG - YYY\n",
        "\n",
        "Alignment length 21\n",
        "--ACTACGAC--TAGCTCAGG - Alpha\n",
        "GGACTACGACAATAGCTCAGG - ZZZ\n",
        "\n"
       ]
      }
     ],
     "prompt_number": 25
    },
    {
     "cell_type": "markdown",
     "metadata": {},
     "source": [
      "giving:\n",
      "```\n",
      "Alignment length 19\n",
      "ACTACGACTAGCTCAG--G - Alpha\n",
      "ACTACCGCTAGCTCAGAAG - XXX\n",
      "\n",
      "Alignment length 17\n",
      "ACTACGACTAGCTCAGG - Alpha\n",
      "ACTACGGCAAGCACAGG - YYY\n",
      "\n",
      "Alignment length 21\n",
      "--ACTACGAC--TAGCTCAGG - Alpha\n",
      "GGACTACGACAATAGCTCAGG - ZZZ\n",
      "```\n",
      "Using Bio.AlignIO.read() or Bio.AlignIO.parse() without the seq_count argument would give a single alignment containing all six records for the first two examples. For the third example, an exception would be raised because the lengths differ preventing them being turned into a single alignment.\n",
      "\n",
      "If the file format itself has a block structure allowing Bio.AlignIO to determine the number of sequences in each alignment directly, then the seq_count argument is not needed. If it is supplied, and doesn\u2019t agree with the file contents, an error is raised.\n",
      "\n",
      "Note that this optional seq_count argument assumes each alignment in the file has the same number of sequences. Hypothetically you may come across stranger situations, for example a FASTA file containing several alignments each with a different number of sequences \u2013 although I would love to hear of a real world example of this. Assuming you cannot get the data in a nicer file format, there is no straight forward way to deal with this using Bio.AlignIO. In this case, you could consider reading in the sequences themselves using Bio.SeqIO and batching them together to create the alignments as appropriate."
     ]
    },
    {
     "cell_type": "markdown",
     "metadata": {},
     "source": [
      "## 6.2  Writing Alignments"
     ]
    },
    {
     "cell_type": "markdown",
     "metadata": {},
     "source": [
      "We\u2019ve talked about using Bio.AlignIO.read() and Bio.AlignIO.parse() for alignment input (reading files), and now we\u2019ll look at Bio.AlignIO.write() which is for alignment output (writing files). This is a function taking three arguments: some MultipleSeqAlignment objects (or for backwards compatibility the obsolete Alignment objects), a handle or filename to write to, and a sequence format.\n",
      "\n",
      "Here is an example, where we start by creating a few MultipleSeqAlignment objects the hard way (by hand, rather than by loading them from a file). Note we create some SeqRecord objects to construct the alignment from."
     ]
    },
    {
     "cell_type": "code",
     "collapsed": false,
     "input": [
      "from Bio.Alphabet import generic_dna\n",
      "from Bio.Seq import Seq\n",
      "from Bio.SeqRecord import SeqRecord\n",
      "from Bio.Align import MultipleSeqAlignment\n",
      "\n",
      "align1 = MultipleSeqAlignment([\n",
      "             SeqRecord(Seq(\"ACTGCTAGCTAG\", generic_dna), id=\"Alpha\"),\n",
      "             SeqRecord(Seq(\"ACT-CTAGCTAG\", generic_dna), id=\"Beta\"),\n",
      "             SeqRecord(Seq(\"ACTGCTAGDTAG\", generic_dna), id=\"Gamma\"),\n",
      "         ])\n",
      "\n",
      "align2 = MultipleSeqAlignment([\n",
      "             SeqRecord(Seq(\"GTCAGC-AG\", generic_dna), id=\"Delta\"),\n",
      "             SeqRecord(Seq(\"GACAGCTAG\", generic_dna), id=\"Epsilon\"),\n",
      "             SeqRecord(Seq(\"GTCAGCTAG\", generic_dna), id=\"Zeta\"),\n",
      "         ])\n",
      "\n",
      "align3 = MultipleSeqAlignment([\n",
      "             SeqRecord(Seq(\"ACTAGTACAGCTG\", generic_dna), id=\"Eta\"),\n",
      "             SeqRecord(Seq(\"ACTAGTACAGCT-\", generic_dna), id=\"Theta\"),\n",
      "             SeqRecord(Seq(\"-CTACTACAGGTG\", generic_dna), id=\"Iota\"),\n",
      "         ])\n",
      "\n",
      "my_alignments = [align1, align2, align3]"
     ],
     "language": "python",
     "metadata": {},
     "outputs": [],
     "prompt_number": 27
    },
    {
     "cell_type": "markdown",
     "metadata": {},
     "source": [
      "Now we have a list of Alignment objects, we\u2019ll write them to a PHYLIP format file:"
     ]
    },
    {
     "cell_type": "code",
     "collapsed": false,
     "input": [
      "from Bio import AlignIO\n",
      "AlignIO.write(my_alignments, \"my_example.phy\", \"phylip\")"
     ],
     "language": "python",
     "metadata": {},
     "outputs": [
      {
       "metadata": {},
       "output_type": "pyout",
       "prompt_number": 28,
       "text": [
        "3"
       ]
      }
     ],
     "prompt_number": 28
    },
    {
     "cell_type": "code",
     "collapsed": false,
     "input": [
      "!head my_example.phy"
     ],
     "language": "python",
     "metadata": {},
     "outputs": [
      {
       "output_type": "stream",
       "stream": "stdout",
       "text": [
        " 3 12\n",
        "Alpha      ACTGCTAGCT AG\n",
        "Beta       ACT-CTAGCT AG\n",
        "Gamma      ACTGCTAGDT AG\n",
        " 3 9\n",
        "Delta      GTCAGC-AG\n",
        "Epsilon    GACAGCTAG\n",
        "Zeta       GTCAGCTAG\n",
        " 3 13\n",
        "Eta        ACTAGTACAG CTG\n"
       ]
      }
     ],
     "prompt_number": 30
    },
    {
     "cell_type": "markdown",
     "metadata": {},
     "source": [
      "And if you open this file in your favourite text editor it should look like this:\n",
      "```\n",
      " 3 12\n",
      "Alpha      ACTGCTAGCT AG\n",
      "Beta       ACT-CTAGCT AG\n",
      "Gamma      ACTGCTAGDT AG\n",
      " 3 9\n",
      "Delta      GTCAGC-AG\n",
      "Epislon    GACAGCTAG\n",
      "Zeta       GTCAGCTAG\n",
      " 3 13\n",
      "Eta        ACTAGTACAG CTG\n",
      "Theta      ACTAGTACAG CT-\n",
      "Iota       -CTACTACAG GTG\n",
      "```\n",
      "Its more common to want to load an existing alignment, and save that, perhaps after some simple manipulation like removing certain rows or columns.\n",
      "\n",
      "Suppose you wanted to know how many alignments the Bio.AlignIO.write() function wrote to the handle? If your alignments were in a list like the example above, you could just use len(my_alignments), however you can\u2019t do that when your records come from a generator/iterator. Therefore the Bio.AlignIO.write() function returns the number of alignments written to the file.\n",
      "\n",
      "Note - If you tell the Bio.AlignIO.write() function to write to a file that already exists, the old file will be overwritten without any warning."
     ]
    },
    {
     "cell_type": "markdown",
     "metadata": {},
     "source": [
      "### 6.2.1  Converting between sequence alignment file formats\n",
      "\n",
      "Converting between sequence alignment file formats with Bio.AlignIO works in the same way as converting between sequence file formats with Bio.SeqIO (Section 5.5.2). We load generally the alignment(s) using Bio.AlignIO.parse() and then save them using the Bio.AlignIO.write() \u2013 or just use the Bio.AlignIO.convert() helper function.\n",
      "\n",
      "For this example, we\u2019ll load the PFAM/Stockholm format file used earlier and save it as a Clustal W format file:"
     ]
    },
    {
     "cell_type": "code",
     "collapsed": false,
     "input": [
      "from Bio import AlignIO\n",
      "count = AlignIO.convert(\"PF05371_seed.sth\", \"stockholm\", \"PF05371_seed.aln\", \"clustal\")\n",
      "print(\"Converted %i alignments\" % count)"
     ],
     "language": "python",
     "metadata": {},
     "outputs": [
      {
       "output_type": "stream",
       "stream": "stdout",
       "text": [
        "Converted 1 alignments\n"
       ]
      }
     ],
     "prompt_number": 31
    },
    {
     "cell_type": "markdown",
     "metadata": {},
     "source": [
      "Or, using Bio.AlignIO.parse() and Bio.AlignIO.write():"
     ]
    },
    {
     "cell_type": "code",
     "collapsed": false,
     "input": [
      "from Bio import AlignIO\n",
      "alignments = AlignIO.parse(\"PF05371_seed.sth\", \"stockholm\")\n",
      "count = AlignIO.write(alignments, \"PF05371_seed.aln\", \"clustal\")\n",
      "print(\"Converted %i alignments\" % count)"
     ],
     "language": "python",
     "metadata": {},
     "outputs": [
      {
       "output_type": "stream",
       "stream": "stdout",
       "text": [
        "Converted 1 alignments\n"
       ]
      }
     ],
     "prompt_number": 32
    },
    {
     "cell_type": "markdown",
     "metadata": {},
     "source": [
      "The Bio.AlignIO.write() function expects to be given multiple alignment objects. In the example above we gave it the alignment iterator returned by Bio.AlignIO.parse().\n",
      "\n",
      "In this case, we know there is only one alignment in the file so we could have used Bio.AlignIO.read() instead, but notice we have to pass this alignment to Bio.AlignIO.write() as a single element list:"
     ]
    },
    {
     "cell_type": "code",
     "collapsed": false,
     "input": [
      "from Bio import AlignIO\n",
      "alignment = AlignIO.read(\"PF05371_seed.sth\", \"stockholm\")\n",
      "AlignIO.write([alignment], \"PF05371_seed.aln\", \"clustal\")"
     ],
     "language": "python",
     "metadata": {},
     "outputs": [
      {
       "metadata": {},
       "output_type": "pyout",
       "prompt_number": 33,
       "text": [
        "1"
       ]
      }
     ],
     "prompt_number": 33
    },
    {
     "cell_type": "markdown",
     "metadata": {},
     "source": [
      "Either way, you should end up with the same new Clustal W format file \u201cPF05371_seed.aln\u201d with the following content:"
     ]
    },
    {
     "cell_type": "code",
     "collapsed": false,
     "input": [
      "!cat PF05371_seed.aln"
     ],
     "language": "python",
     "metadata": {},
     "outputs": [
      {
       "output_type": "stream",
       "stream": "stdout",
       "text": [
        "CLUSTAL X (1.81) multiple sequence alignment\n",
        "\n",
        "\n",
        "COATB_BPIKE/30-81                   AEPNAATNYATEAMDSLKTQAIDLISQTWPVVTTVVVAGLVIRLFKKFSS\n",
        "Q9T0Q8_BPIKE/1-52                   AEPNAATNYATEAMDSLKTQAIDLISQTWPVVTTVVVAGLVIKLFKKFVS\n",
        "COATB_BPI22/32-83                   DGTSTATSYATEAMNSLKTQATDLIDQTWPVVTSVAVAGLAIRLFKKFSS\n",
        "COATB_BPM13/24-72                   AEGDDP---AKAAFNSLQASATEYIGYAWAMVVVIVGATIGIKLFKKFTS\n",
        "COATB_BPZJ2/1-49                    AEGDDP---AKAAFDSLQASATEYIGYAWAMVVVIVGATIGIKLFKKFAS\n",
        "Q9T0Q9_BPFD/1-49                    AEGDDP---AKAAFDSLQASATEYIGYAWAMVVVIVGATIGIKLFKKFTS\n",
        "COATB_BPIF1/22-73                   FAADDATSQAKAAFDSLTAQATEMSGYAWALVVLVVGATVGIKLFKKFVS\n",
        "\n",
        "COATB_BPIKE/30-81                   KA\n",
        "Q9T0Q8_BPIKE/1-52                   RA\n",
        "COATB_BPI22/32-83                   KA\n",
        "COATB_BPM13/24-72                   KA\n",
        "COATB_BPZJ2/1-49                    KA\n",
        "Q9T0Q9_BPFD/1-49                    KA\n",
        "COATB_BPIF1/22-73                   RA\n",
        "\n",
        "\n"
       ]
      }
     ],
     "prompt_number": 35
    },
    {
     "cell_type": "markdown",
     "metadata": {},
     "source": [
      "Alternatively, you could make a PHYLIP format file which we\u2019ll name \u201cPF05371_seed.phy\u201d:"
     ]
    },
    {
     "cell_type": "code",
     "collapsed": false,
     "input": [
      "from Bio import AlignIO\n",
      "AlignIO.convert(\"PF05371_seed.sth\", \"stockholm\", \"PF05371_seed.phy\", \"phylip\")"
     ],
     "language": "python",
     "metadata": {},
     "outputs": [
      {
       "metadata": {},
       "output_type": "pyout",
       "prompt_number": 37,
       "text": [
        "1"
       ]
      }
     ],
     "prompt_number": 37
    },
    {
     "cell_type": "code",
     "collapsed": false,
     "input": [
      "!cat PF05371_seed.phy"
     ],
     "language": "python",
     "metadata": {},
     "outputs": [
      {
       "output_type": "stream",
       "stream": "stdout",
       "text": [
        " 7 52\n",
        "COATB_BPIK AEPNAATNYA TEAMDSLKTQ AIDLISQTWP VVTTVVVAGL VIRLFKKFSS\n",
        "Q9T0Q8_BPI AEPNAATNYA TEAMDSLKTQ AIDLISQTWP VVTTVVVAGL VIKLFKKFVS\n",
        "COATB_BPI2 DGTSTATSYA TEAMNSLKTQ ATDLIDQTWP VVTSVAVAGL AIRLFKKFSS\n",
        "COATB_BPM1 AEGDDP---A KAAFNSLQAS ATEYIGYAWA MVVVIVGATI GIKLFKKFTS\n",
        "COATB_BPZJ AEGDDP---A KAAFDSLQAS ATEYIGYAWA MVVVIVGATI GIKLFKKFAS\n",
        "Q9T0Q9_BPF AEGDDP---A KAAFDSLQAS ATEYIGYAWA MVVVIVGATI GIKLFKKFTS\n",
        "COATB_BPIF FAADDATSQA KAAFDSLTAQ ATEMSGYAWA LVVLVVGATV GIKLFKKFVS\n",
        "\n",
        "           KA\n",
        "           RA\n",
        "           KA\n",
        "           KA\n",
        "           KA\n",
        "           KA\n",
        "           RA\n"
       ]
      }
     ],
     "prompt_number": 38
    },
    {
     "cell_type": "markdown",
     "metadata": {},
     "source": [
      "This time the output looks like this:\n",
      "```\n",
      " 7 52\n",
      "COATB_BPIK AEPNAATNYA TEAMDSLKTQ AIDLISQTWP VVTTVVVAGL VIRLFKKFSS\n",
      "Q9T0Q8_BPI AEPNAATNYA TEAMDSLKTQ AIDLISQTWP VVTTVVVAGL VIKLFKKFVS\n",
      "COATB_BPI2 DGTSTATSYA TEAMNSLKTQ ATDLIDQTWP VVTSVAVAGL AIRLFKKFSS\n",
      "COATB_BPM1 AEGDDP---A KAAFNSLQAS ATEYIGYAWA MVVVIVGATI GIKLFKKFTS\n",
      "COATB_BPZJ AEGDDP---A KAAFDSLQAS ATEYIGYAWA MVVVIVGATI GIKLFKKFAS\n",
      "Q9T0Q9_BPF AEGDDP---A KAAFDSLQAS ATEYIGYAWA MVVVIVGATI GIKLFKKFTS\n",
      "COATB_BPIF FAADDATSQA KAAFDSLTAQ ATEMSGYAWA LVVLVVGATV GIKLFKKFVS\n",
      "\n",
      "           KA\n",
      "           RA\n",
      "           KA\n",
      "           KA\n",
      "           KA\n",
      "           KA\n",
      "           RA\n",
      "```"
     ]
    },
    {
     "cell_type": "markdown",
     "metadata": {},
     "source": [
      "One of the big handicaps of the PHYLIP alignment file format is that the sequence identifiers are strictly truncated at ten characters. In this example, as you can see the resulting names are still unique - but they are not very readable. In this particular case, there is no clear way to compress the identifiers, but for the sake of argument you may want to assign your own names or numbering system. This following bit of code manipulates the record identifiers before saving the output:"
     ]
    },
    {
     "cell_type": "code",
     "collapsed": false,
     "input": [
      "from Bio import AlignIO\n",
      "alignment = AlignIO.read(\"PF05371_seed.sth\", \"stockholm\")\n",
      "name_mapping = {}\n",
      "for i, record in enumerate(alignment):\n",
      "    name_mapping[i] = record.id\n",
      "    record.id = \"seq%i\" % i\n",
      "print(name_mapping)\n",
      "\n",
      "AlignIO.write([alignment], \"PF05371_seed.phy\", \"phylip\")"
     ],
     "language": "python",
     "metadata": {},
     "outputs": [
      {
       "output_type": "stream",
       "stream": "stdout",
       "text": [
        "{0: 'COATB_BPIKE/30-81', 1: 'Q9T0Q8_BPIKE/1-52', 2: 'COATB_BPI22/32-83', 3: 'COATB_BPM13/24-72', 4: 'COATB_BPZJ2/1-49', 5: 'Q9T0Q9_BPFD/1-49', 6: 'COATB_BPIF1/22-73'}\n"
       ]
      },
      {
       "metadata": {},
       "output_type": "pyout",
       "prompt_number": 40,
       "text": [
        "1"
       ]
      }
     ],
     "prompt_number": 40
    },
    {
     "cell_type": "code",
     "collapsed": false,
     "input": [
      "!cat PF05371_seed.phy"
     ],
     "language": "python",
     "metadata": {},
     "outputs": [
      {
       "output_type": "stream",
       "stream": "stdout",
       "text": [
        " 7 52\n",
        "seq0       AEPNAATNYA TEAMDSLKTQ AIDLISQTWP VVTTVVVAGL VIRLFKKFSS\n",
        "seq1       AEPNAATNYA TEAMDSLKTQ AIDLISQTWP VVTTVVVAGL VIKLFKKFVS\n",
        "seq2       DGTSTATSYA TEAMNSLKTQ ATDLIDQTWP VVTSVAVAGL AIRLFKKFSS\n",
        "seq3       AEGDDP---A KAAFNSLQAS ATEYIGYAWA MVVVIVGATI GIKLFKKFTS\n",
        "seq4       AEGDDP---A KAAFDSLQAS ATEYIGYAWA MVVVIVGATI GIKLFKKFAS\n",
        "seq5       AEGDDP---A KAAFDSLQAS ATEYIGYAWA MVVVIVGATI GIKLFKKFTS\n",
        "seq6       FAADDATSQA KAAFDSLTAQ ATEMSGYAWA LVVLVVGATV GIKLFKKFVS\n",
        "\n",
        "           KA\n",
        "           RA\n",
        "           KA\n",
        "           KA\n",
        "           KA\n",
        "           KA\n",
        "           RA\n"
       ]
      }
     ],
     "prompt_number": 41
    },
    {
     "cell_type": "markdown",
     "metadata": {},
     "source": [
      "This code used a Python dictionary to record a simple mapping from the new sequence system to the original identifier:\n",
      "```\n",
      "{0: 'COATB_BPIKE/30-81', 1: 'Q9T0Q8_BPIKE/1-52', 2: 'COATB_BPI22/32-83', ...}\n",
      "```"
     ]
    },
    {
     "cell_type": "markdown",
     "metadata": {},
     "source": [
      "Here is the new PHYLIP format output:\n",
      "```\n",
      " 7 52\n",
      "seq0       AEPNAATNYA TEAMDSLKTQ AIDLISQTWP VVTTVVVAGL VIRLFKKFSS\n",
      "seq1       AEPNAATNYA TEAMDSLKTQ AIDLISQTWP VVTTVVVAGL VIKLFKKFVS\n",
      "seq2       DGTSTATSYA TEAMNSLKTQ ATDLIDQTWP VVTSVAVAGL AIRLFKKFSS\n",
      "seq3       AEGDDP---A KAAFNSLQAS ATEYIGYAWA MVVVIVGATI GIKLFKKFTS\n",
      "seq4       AEGDDP---A KAAFDSLQAS ATEYIGYAWA MVVVIVGATI GIKLFKKFAS\n",
      "seq5       AEGDDP---A KAAFDSLQAS ATEYIGYAWA MVVVIVGATI GIKLFKKFTS\n",
      "seq6       FAADDATSQA KAAFDSLTAQ ATEMSGYAWA LVVLVVGATV GIKLFKKFVS\n",
      "\n",
      "           KA\n",
      "           RA\n",
      "           KA\n",
      "           KA\n",
      "           KA\n",
      "           KA\n",
      "           RA\n",
      "```\n",
      "In general, because of the identifier limitation, working with PHYLIP file formats shouldn\u2019t be your first choice. Using the PFAM/Stockholm format on the other hand allows you to record a lot of additional annotation too."
     ]
    },
    {
     "cell_type": "markdown",
     "metadata": {},
     "source": [
      "### 6.2.2  Getting your alignment objects as formatted strings\n",
      "\n",
      "The Bio.AlignIO interface is based on handles, which means if you want to get your alignment(s) into a string in a particular file format you need to do a little bit more work (see below). However, you will probably prefer to take advantage of the alignment object\u2019s format() method. This takes a single mandatory argument, a lower case string which is supported by Bio.AlignIO as an output format. For example:"
     ]
    },
    {
     "cell_type": "code",
     "collapsed": false,
     "input": [
      "from Bio import AlignIO\n",
      "alignment = AlignIO.read(\"PF05371_seed.sth\", \"stockholm\")\n",
      "print(alignment.format(\"clustal\"))"
     ],
     "language": "python",
     "metadata": {},
     "outputs": [
      {
       "output_type": "stream",
       "stream": "stdout",
       "text": [
        "CLUSTAL X (1.81) multiple sequence alignment\n",
        "\n",
        "\n",
        "COATB_BPIKE/30-81                   AEPNAATNYATEAMDSLKTQAIDLISQTWPVVTTVVVAGLVIRLFKKFSS\n",
        "Q9T0Q8_BPIKE/1-52                   AEPNAATNYATEAMDSLKTQAIDLISQTWPVVTTVVVAGLVIKLFKKFVS\n",
        "COATB_BPI22/32-83                   DGTSTATSYATEAMNSLKTQATDLIDQTWPVVTSVAVAGLAIRLFKKFSS\n",
        "COATB_BPM13/24-72                   AEGDDP---AKAAFNSLQASATEYIGYAWAMVVVIVGATIGIKLFKKFTS\n",
        "COATB_BPZJ2/1-49                    AEGDDP---AKAAFDSLQASATEYIGYAWAMVVVIVGATIGIKLFKKFAS\n",
        "Q9T0Q9_BPFD/1-49                    AEGDDP---AKAAFDSLQASATEYIGYAWAMVVVIVGATIGIKLFKKFTS\n",
        "COATB_BPIF1/22-73                   FAADDATSQAKAAFDSLTAQATEMSGYAWALVVLVVGATVGIKLFKKFVS\n",
        "\n",
        "COATB_BPIKE/30-81                   KA\n",
        "Q9T0Q8_BPIKE/1-52                   RA\n",
        "COATB_BPI22/32-83                   KA\n",
        "COATB_BPM13/24-72                   KA\n",
        "COATB_BPZJ2/1-49                    KA\n",
        "Q9T0Q9_BPFD/1-49                    KA\n",
        "COATB_BPIF1/22-73                   RA\n",
        "\n",
        "\n",
        "\n"
       ]
      }
     ],
     "prompt_number": 42
    },
    {
     "cell_type": "markdown",
     "metadata": {},
     "source": [
      "As described in Section 4.5), the SeqRecord object has a similar method using output formats supported by Bio.SeqIO.\n",
      "\n",
      "Internally the format() method is using the StringIO string based handle and calling Bio.AlignIO.write(). You can do this in your own code if for example you are using an older version of Biopython:"
     ]
    },
    {
     "cell_type": "code",
     "collapsed": false,
     "input": [
      "from Bio import AlignIO\n",
      "from StringIO import StringIO\n",
      "\n",
      "alignments = AlignIO.parse(\"PF05371_seed.sth\", \"stockholm\")\n",
      "\n",
      "out_handle = StringIO()\n",
      "AlignIO.write(alignments, out_handle, \"clustal\")\n",
      "clustal_data = out_handle.getvalue()\n",
      "\n",
      "print(clustal_data)"
     ],
     "language": "python",
     "metadata": {},
     "outputs": [
      {
       "output_type": "stream",
       "stream": "stdout",
       "text": [
        "CLUSTAL X (1.81) multiple sequence alignment\n",
        "\n",
        "\n",
        "COATB_BPIKE/30-81                   AEPNAATNYATEAMDSLKTQAIDLISQTWPVVTTVVVAGLVIRLFKKFSS\n",
        "Q9T0Q8_BPIKE/1-52                   AEPNAATNYATEAMDSLKTQAIDLISQTWPVVTTVVVAGLVIKLFKKFVS\n",
        "COATB_BPI22/32-83                   DGTSTATSYATEAMNSLKTQATDLIDQTWPVVTSVAVAGLAIRLFKKFSS\n",
        "COATB_BPM13/24-72                   AEGDDP---AKAAFNSLQASATEYIGYAWAMVVVIVGATIGIKLFKKFTS\n",
        "COATB_BPZJ2/1-49                    AEGDDP---AKAAFDSLQASATEYIGYAWAMVVVIVGATIGIKLFKKFAS\n",
        "Q9T0Q9_BPFD/1-49                    AEGDDP---AKAAFDSLQASATEYIGYAWAMVVVIVGATIGIKLFKKFTS\n",
        "COATB_BPIF1/22-73                   FAADDATSQAKAAFDSLTAQATEMSGYAWALVVLVVGATVGIKLFKKFVS\n",
        "\n",
        "COATB_BPIKE/30-81                   KA\n",
        "Q9T0Q8_BPIKE/1-52                   RA\n",
        "COATB_BPI22/32-83                   KA\n",
        "COATB_BPM13/24-72                   KA\n",
        "COATB_BPZJ2/1-49                    KA\n",
        "Q9T0Q9_BPFD/1-49                    KA\n",
        "COATB_BPIF1/22-73                   RA\n",
        "\n",
        "\n",
        "\n"
       ]
      }
     ],
     "prompt_number": 43
    },
    {
     "cell_type": "markdown",
     "metadata": {},
     "source": [
      "## 6.3  Manipulating Alignments"
     ]
    },
    {
     "cell_type": "markdown",
     "metadata": {},
     "source": [
      "Now that we\u2019ve covered loading and saving alignments, we\u2019ll look at what else you can do with them."
     ]
    },
    {
     "cell_type": "markdown",
     "metadata": {},
     "source": [
      "### 6.3.1  Slicing alignments\n",
      "\n",
      "First of all, in some senses the alignment objects act like a Python list of SeqRecord objects (the rows). With this model in mind hopefully the actions of len() (the number of rows) and iteration (each row as a SeqRecord) make sense:"
     ]
    },
    {
     "cell_type": "code",
     "collapsed": false,
     "input": [
      ">>> from Bio import AlignIO\n",
      ">>> alignment = AlignIO.read(\"PF05371_seed.sth\", \"stockholm\")\n",
      ">>> print(\"Number of rows: %i\" % len(alignment))"
     ],
     "language": "python",
     "metadata": {},
     "outputs": [
      {
       "output_type": "stream",
       "stream": "stdout",
       "text": [
        "Number of rows: 7\n"
       ]
      }
     ],
     "prompt_number": 44
    },
    {
     "cell_type": "code",
     "collapsed": false,
     "input": [
      ">>> for record in alignment:\n",
      "...     print(\"%s - %s\" % (record.seq, record.id))"
     ],
     "language": "python",
     "metadata": {},
     "outputs": [
      {
       "output_type": "stream",
       "stream": "stdout",
       "text": [
        "AEPNAATNYATEAMDSLKTQAIDLISQTWPVVTTVVVAGLVIRLFKKFSSKA - COATB_BPIKE/30-81\n",
        "AEPNAATNYATEAMDSLKTQAIDLISQTWPVVTTVVVAGLVIKLFKKFVSRA - Q9T0Q8_BPIKE/1-52\n",
        "DGTSTATSYATEAMNSLKTQATDLIDQTWPVVTSVAVAGLAIRLFKKFSSKA - COATB_BPI22/32-83\n",
        "AEGDDP---AKAAFNSLQASATEYIGYAWAMVVVIVGATIGIKLFKKFTSKA - COATB_BPM13/24-72\n",
        "AEGDDP---AKAAFDSLQASATEYIGYAWAMVVVIVGATIGIKLFKKFASKA - COATB_BPZJ2/1-49\n",
        "AEGDDP---AKAAFDSLQASATEYIGYAWAMVVVIVGATIGIKLFKKFTSKA - Q9T0Q9_BPFD/1-49\n",
        "FAADDATSQAKAAFDSLTAQATEMSGYAWALVVLVVGATVGIKLFKKFVSRA - COATB_BPIF1/22-73\n"
       ]
      }
     ],
     "prompt_number": 45
    },
    {
     "cell_type": "markdown",
     "metadata": {},
     "source": [
      "You can also use the list-like append and extend methods to add more rows to the alignment (as SeqRecord objects). Keeping the list metaphor in mind, simple slicing of the alignment should also make sense - it selects some of the rows giving back another alignment object:"
     ]
    },
    {
     "cell_type": "code",
     "collapsed": false,
     "input": [
      ">>> print(alignment)"
     ],
     "language": "python",
     "metadata": {},
     "outputs": [
      {
       "output_type": "stream",
       "stream": "stdout",
       "text": [
        "SingleLetterAlphabet() alignment with 7 rows and 52 columns\n",
        "AEPNAATNYATEAMDSLKTQAIDLISQTWPVVTTVVVAGLVIRL...SKA COATB_BPIKE/30-81\n",
        "AEPNAATNYATEAMDSLKTQAIDLISQTWPVVTTVVVAGLVIKL...SRA Q9T0Q8_BPIKE/1-52\n",
        "DGTSTATSYATEAMNSLKTQATDLIDQTWPVVTSVAVAGLAIRL...SKA COATB_BPI22/32-83\n",
        "AEGDDP---AKAAFNSLQASATEYIGYAWAMVVVIVGATIGIKL...SKA COATB_BPM13/24-72\n",
        "AEGDDP---AKAAFDSLQASATEYIGYAWAMVVVIVGATIGIKL...SKA COATB_BPZJ2/1-49\n",
        "AEGDDP---AKAAFDSLQASATEYIGYAWAMVVVIVGATIGIKL...SKA Q9T0Q9_BPFD/1-49\n",
        "FAADDATSQAKAAFDSLTAQATEMSGYAWALVVLVVGATVGIKL...SRA COATB_BPIF1/22-73\n"
       ]
      }
     ],
     "prompt_number": 46
    },
    {
     "cell_type": "code",
     "collapsed": false,
     "input": [
      ">>> print(alignment[3:7])"
     ],
     "language": "python",
     "metadata": {},
     "outputs": [
      {
       "output_type": "stream",
       "stream": "stdout",
       "text": [
        "SingleLetterAlphabet() alignment with 4 rows and 52 columns\n",
        "AEGDDP---AKAAFNSLQASATEYIGYAWAMVVVIVGATIGIKL...SKA COATB_BPM13/24-72\n",
        "AEGDDP---AKAAFDSLQASATEYIGYAWAMVVVIVGATIGIKL...SKA COATB_BPZJ2/1-49\n",
        "AEGDDP---AKAAFDSLQASATEYIGYAWAMVVVIVGATIGIKL...SKA Q9T0Q9_BPFD/1-49\n",
        "FAADDATSQAKAAFDSLTAQATEMSGYAWALVVLVVGATVGIKL...SRA COATB_BPIF1/22-73\n"
       ]
      }
     ],
     "prompt_number": 47
    },
    {
     "cell_type": "markdown",
     "metadata": {},
     "source": [
      "What if you wanted to select by column? Those of you who have used the NumPy matrix or array objects won\u2019t be surprised at this - you use a double index."
     ]
    },
    {
     "cell_type": "code",
     "collapsed": false,
     "input": [
      ">>> print(alignment[2, 6])"
     ],
     "language": "python",
     "metadata": {},
     "outputs": [
      {
       "output_type": "stream",
       "stream": "stdout",
       "text": [
        "T\n"
       ]
      }
     ],
     "prompt_number": 48
    },
    {
     "cell_type": "markdown",
     "metadata": {},
     "source": [
      "Using two integer indices pulls out a single letter, short hand for this:"
     ]
    },
    {
     "cell_type": "code",
     "collapsed": false,
     "input": [
      ">>> print(alignment[2].seq[6])"
     ],
     "language": "python",
     "metadata": {},
     "outputs": [
      {
       "output_type": "stream",
       "stream": "stdout",
       "text": [
        "T\n"
       ]
      }
     ],
     "prompt_number": 49
    },
    {
     "cell_type": "markdown",
     "metadata": {},
     "source": [
      "You can pull out a single column as a string like this:"
     ]
    },
    {
     "cell_type": "code",
     "collapsed": false,
     "input": [
      ">>> print(alignment[:, 6])"
     ],
     "language": "python",
     "metadata": {},
     "outputs": [
      {
       "output_type": "stream",
       "stream": "stdout",
       "text": [
        "TTT---T\n"
       ]
      }
     ],
     "prompt_number": 50
    },
    {
     "cell_type": "markdown",
     "metadata": {},
     "source": [
      "You can also select a range of columns. For example, to pick out those same three rows we extracted earlier, but take just their first six columns:"
     ]
    },
    {
     "cell_type": "code",
     "collapsed": false,
     "input": [
      ">>> print(alignment[3:6, :6])"
     ],
     "language": "python",
     "metadata": {},
     "outputs": [
      {
       "output_type": "stream",
       "stream": "stdout",
       "text": [
        "SingleLetterAlphabet() alignment with 3 rows and 6 columns\n",
        "AEGDDP COATB_BPM13/24-72\n",
        "AEGDDP COATB_BPZJ2/1-49\n",
        "AEGDDP Q9T0Q9_BPFD/1-49\n"
       ]
      }
     ],
     "prompt_number": 51
    },
    {
     "cell_type": "markdown",
     "metadata": {},
     "source": [
      "Leaving the first index as : means take all the rows:"
     ]
    },
    {
     "cell_type": "code",
     "collapsed": false,
     "input": [
      ">>> print(alignment[:, :6])"
     ],
     "language": "python",
     "metadata": {},
     "outputs": [
      {
       "output_type": "stream",
       "stream": "stdout",
       "text": [
        "SingleLetterAlphabet() alignment with 7 rows and 6 columns\n",
        "AEPNAA COATB_BPIKE/30-81\n",
        "AEPNAA Q9T0Q8_BPIKE/1-52\n",
        "DGTSTA COATB_BPI22/32-83\n",
        "AEGDDP COATB_BPM13/24-72\n",
        "AEGDDP COATB_BPZJ2/1-49\n",
        "AEGDDP Q9T0Q9_BPFD/1-49\n",
        "FAADDA COATB_BPIF1/22-73\n"
       ]
      }
     ],
     "prompt_number": 52
    },
    {
     "cell_type": "markdown",
     "metadata": {},
     "source": [
      "This brings us to a neat way to remove a section. Notice columns 7, 8 and 9 which are gaps in three of the seven sequences:"
     ]
    },
    {
     "cell_type": "code",
     "collapsed": false,
     "input": [
      ">>> print(alignment[:, 6:9])"
     ],
     "language": "python",
     "metadata": {},
     "outputs": [
      {
       "output_type": "stream",
       "stream": "stdout",
       "text": [
        "SingleLetterAlphabet() alignment with 7 rows and 3 columns\n",
        "TNY COATB_BPIKE/30-81\n",
        "TNY Q9T0Q8_BPIKE/1-52\n",
        "TSY COATB_BPI22/32-83\n",
        "--- COATB_BPM13/24-72\n",
        "--- COATB_BPZJ2/1-49\n",
        "--- Q9T0Q9_BPFD/1-49\n",
        "TSQ COATB_BPIF1/22-73\n"
       ]
      }
     ],
     "prompt_number": 53
    },
    {
     "cell_type": "markdown",
     "metadata": {},
     "source": [
      "Again, you can slice to get everything after the ninth column:"
     ]
    },
    {
     "cell_type": "code",
     "collapsed": false,
     "input": [
      ">>> print(alignment[:, 9:])"
     ],
     "language": "python",
     "metadata": {},
     "outputs": [
      {
       "output_type": "stream",
       "stream": "stdout",
       "text": [
        "SingleLetterAlphabet() alignment with 7 rows and 43 columns\n",
        "ATEAMDSLKTQAIDLISQTWPVVTTVVVAGLVIRLFKKFSSKA COATB_BPIKE/30-81\n",
        "ATEAMDSLKTQAIDLISQTWPVVTTVVVAGLVIKLFKKFVSRA Q9T0Q8_BPIKE/1-52\n",
        "ATEAMNSLKTQATDLIDQTWPVVTSVAVAGLAIRLFKKFSSKA COATB_BPI22/32-83\n",
        "AKAAFNSLQASATEYIGYAWAMVVVIVGATIGIKLFKKFTSKA COATB_BPM13/24-72\n",
        "AKAAFDSLQASATEYIGYAWAMVVVIVGATIGIKLFKKFASKA COATB_BPZJ2/1-49\n",
        "AKAAFDSLQASATEYIGYAWAMVVVIVGATIGIKLFKKFTSKA Q9T0Q9_BPFD/1-49\n",
        "AKAAFDSLTAQATEMSGYAWALVVLVVGATVGIKLFKKFVSRA COATB_BPIF1/22-73\n"
       ]
      }
     ],
     "prompt_number": 54
    },
    {
     "cell_type": "markdown",
     "metadata": {},
     "source": [
      "Now, the interesting thing is that addition of alignment objects works by column. This lets you do this as a way to remove a block of columns:"
     ]
    },
    {
     "cell_type": "code",
     "collapsed": false,
     "input": [
      ">>> edited = alignment[:, :6] + alignment[:, 9:]\n",
      ">>> print(edited)"
     ],
     "language": "python",
     "metadata": {},
     "outputs": [
      {
       "output_type": "stream",
       "stream": "stdout",
       "text": [
        "SingleLetterAlphabet() alignment with 7 rows and 49 columns\n",
        "AEPNAAATEAMDSLKTQAIDLISQTWPVVTTVVVAGLVIRLFKKFSSKA COATB_BPIKE/30-81\n",
        "AEPNAAATEAMDSLKTQAIDLISQTWPVVTTVVVAGLVIKLFKKFVSRA Q9T0Q8_BPIKE/1-52\n",
        "DGTSTAATEAMNSLKTQATDLIDQTWPVVTSVAVAGLAIRLFKKFSSKA COATB_BPI22/32-83\n",
        "AEGDDPAKAAFNSLQASATEYIGYAWAMVVVIVGATIGIKLFKKFTSKA COATB_BPM13/24-72\n",
        "AEGDDPAKAAFDSLQASATEYIGYAWAMVVVIVGATIGIKLFKKFASKA COATB_BPZJ2/1-49\n",
        "AEGDDPAKAAFDSLQASATEYIGYAWAMVVVIVGATIGIKLFKKFTSKA Q9T0Q9_BPFD/1-49\n",
        "FAADDAAKAAFDSLTAQATEMSGYAWALVVLVVGATVGIKLFKKFVSRA COATB_BPIF1/22-73\n"
       ]
      }
     ],
     "prompt_number": 55
    },
    {
     "cell_type": "markdown",
     "metadata": {},
     "source": [
      "Another common use of alignment addition would be to combine alignments for several different genes into a meta-alignment. Watch out though - the identifiers need to match up (see Section 4.7 for how adding SeqRecord objects works). You may find it helpful to first sort the alignment rows alphabetically by id:"
     ]
    },
    {
     "cell_type": "code",
     "collapsed": false,
     "input": [
      ">>> edited.sort()\n",
      ">>> print(edited)"
     ],
     "language": "python",
     "metadata": {},
     "outputs": [
      {
       "output_type": "stream",
       "stream": "stdout",
       "text": [
        "SingleLetterAlphabet() alignment with 7 rows and 49 columns\n",
        "DGTSTAATEAMNSLKTQATDLIDQTWPVVTSVAVAGLAIRLFKKFSSKA COATB_BPI22/32-83\n",
        "FAADDAAKAAFDSLTAQATEMSGYAWALVVLVVGATVGIKLFKKFVSRA COATB_BPIF1/22-73\n",
        "AEPNAAATEAMDSLKTQAIDLISQTWPVVTTVVVAGLVIRLFKKFSSKA COATB_BPIKE/30-81\n",
        "AEGDDPAKAAFNSLQASATEYIGYAWAMVVVIVGATIGIKLFKKFTSKA COATB_BPM13/24-72\n",
        "AEGDDPAKAAFDSLQASATEYIGYAWAMVVVIVGATIGIKLFKKFASKA COATB_BPZJ2/1-49\n",
        "AEPNAAATEAMDSLKTQAIDLISQTWPVVTTVVVAGLVIKLFKKFVSRA Q9T0Q8_BPIKE/1-52\n",
        "AEGDDPAKAAFDSLQASATEYIGYAWAMVVVIVGATIGIKLFKKFTSKA Q9T0Q9_BPFD/1-49\n"
       ]
      }
     ],
     "prompt_number": 56
    },
    {
     "cell_type": "markdown",
     "metadata": {},
     "source": [
      "Note that you can only add two alignments together if they have the same number of rows."
     ]
    },
    {
     "cell_type": "markdown",
     "metadata": {},
     "source": [
      "### 6.3.2  Alignments as arrays\n",
      "\n",
      "Depending on what you are doing, it can be more useful to turn the alignment object into an array of letters \u2013 and you can do this with NumPy:"
     ]
    },
    {
     "cell_type": "code",
     "collapsed": false,
     "input": [
      ">>> import numpy as np\n",
      ">>> from Bio import AlignIO\n",
      ">>> alignment = AlignIO.read(\"PF05371_seed.sth\", \"stockholm\")\n",
      ">>> align_array = np.array([list(rec) for rec in alignment], np.character)\n",
      ">>> align_array.shape"
     ],
     "language": "python",
     "metadata": {},
     "outputs": [
      {
       "metadata": {},
       "output_type": "pyout",
       "prompt_number": 57,
       "text": [
        "(7L, 52L)"
       ]
      }
     ],
     "prompt_number": 57
    },
    {
     "cell_type": "markdown",
     "metadata": {},
     "source": [
      "If you will be working heavily with the columns, you can tell NumPy to store the array by column (as in Fortran) rather then its default of by row (as in C):"
     ]
    },
    {
     "cell_type": "code",
     "collapsed": false,
     "input": [
      ">>> align_array = np.array([list(rec) for rec in alignment], np.character, order=\"F\")"
     ],
     "language": "python",
     "metadata": {},
     "outputs": [],
     "prompt_number": 58
    },
    {
     "cell_type": "markdown",
     "metadata": {},
     "source": [
      "Note that this leaves the original Biopython alignment object and the NumPy array in memory as separate objects - editing one will not update the other!"
     ]
    },
    {
     "cell_type": "markdown",
     "metadata": {},
     "source": [
      "## 6.4  Alignment Tools"
     ]
    },
    {
     "cell_type": "markdown",
     "metadata": {},
     "source": [
      "There are lots of algorithms out there for aligning sequences, both pairwise alignments and multiple sequence alignments. These calculations are relatively slow, and you generally wouldn\u2019t want to write such an algorithm in Python. Instead, you can use Biopython to invoke a command line tool on your behalf. Normally you would:\n",
      "\n",
      "1. Prepare an input file of your unaligned sequences, typically this will be a FASTA file which you might create using Bio.SeqIO (see Chapter 5).\n",
      "2. Call the command line tool to process this input file, typically via one of Biopython\u2019s command line wrappers (which we\u2019ll discuss here).\n",
      "3. Read the output from the tool, i.e. your aligned sequences, typically using Bio.AlignIO (see earlier in this chapter).\n",
      "\n",
      "All the command line wrappers we\u2019re going to talk about in this chapter follow the same style. You create a command line object specifying the options (e.g. the input filename and the output filename), then invoke this command line via a Python operating system call (e.g. using the subprocess module).\n",
      "\n",
      "Most of these wrappers are defined in the Bio.Align.Applications module:"
     ]
    },
    {
     "cell_type": "code",
     "collapsed": false,
     "input": [
      ">>> import Bio.Align.Applications\n",
      ">>> dir(Bio.Align.Applications)"
     ],
     "language": "python",
     "metadata": {},
     "outputs": [
      {
       "metadata": {},
       "output_type": "pyout",
       "prompt_number": 59,
       "text": [
        "['ClustalOmegaCommandline',\n",
        " 'ClustalwCommandline',\n",
        " 'DialignCommandline',\n",
        " 'MSAProbsCommandline',\n",
        " 'MafftCommandline',\n",
        " 'MuscleCommandline',\n",
        " 'PrankCommandline',\n",
        " 'ProbconsCommandline',\n",
        " 'TCoffeeCommandline',\n",
        " '_ClustalOmega',\n",
        " '_Clustalw',\n",
        " '_Dialign',\n",
        " '_MSAProbs',\n",
        " '_Mafft',\n",
        " '_Muscle',\n",
        " '_Prank',\n",
        " '_Probcons',\n",
        " '_TCoffee',\n",
        " '__all__',\n",
        " '__builtins__',\n",
        " '__doc__',\n",
        " '__docformat__',\n",
        " '__file__',\n",
        " '__name__',\n",
        " '__package__',\n",
        " '__path__']"
       ]
      }
     ],
     "prompt_number": 59
    },
    {
     "cell_type": "markdown",
     "metadata": {},
     "source": [
      "(Ignore the entries starting with an underscore \u2013 these have special meaning in Python.) The module Bio.Emboss.Applications has wrappers for some of the EMBOSS suite, including needle and water, which are described below in Section 6.4.5, and wrappers for the EMBOSS packaged versions of the PHYLIP tools (which EMBOSS refer to as one of their EMBASSY packages - third party tools with an EMBOSS style interface). We won\u2019t explore all these alignment tools here in the section, just a sample, but the same principles apply."
     ]
    },
    {
     "cell_type": "markdown",
     "metadata": {},
     "source": [
      "### 6.4.1  ClustalW\n",
      "\n",
      "ClustalW is a popular command line tool for multiple sequence alignment (there is also a graphical interface called ClustalX). Biopython\u2019s Bio.Align.Applications module has a wrapper for this alignment tool (and several others).\n",
      "\n",
      "Before trying to use ClustalW from within Python, you should first try running the ClustalW tool yourself by hand at the command line, to familiarise yourself the other options. You\u2019ll find the Biopython wrapper is very faithful to the actual command line API:"
     ]
    },
    {
     "cell_type": "code",
     "collapsed": false,
     "input": [
      ">>> from Bio.Align.Applications import ClustalwCommandline\n",
      "#>>> help(ClustalwCommandline)"
     ],
     "language": "python",
     "metadata": {},
     "outputs": [],
     "prompt_number": 61
    },
    {
     "cell_type": "markdown",
     "metadata": {},
     "source": [
      "For the most basic usage, all you need is to have a FASTA input file, such as opuntia.fasta (available online or in the Doc/examples subdirectory of the Biopython source code). This is a small FASTA file containing seven prickly-pear DNA sequences (from the cactus family Opuntia).\n",
      "\n",
      "By default ClustalW will generate an alignment and guide tree file with names based on the input FASTA file, in this case opuntia.aln and opuntia.dnd, but you can override this or make it explicit:"
     ]
    },
    {
     "cell_type": "code",
     "collapsed": false,
     "input": [
      ">>> from Bio.Align.Applications import ClustalwCommandline\n",
      ">>> cline = ClustalwCommandline(\"clustalw2\", infile=\"opuntia.fasta\")\n",
      ">>> print(cline)"
     ],
     "language": "python",
     "metadata": {},
     "outputs": [
      {
       "output_type": "stream",
       "stream": "stdout",
       "text": [
        "clustalw2 -infile=opuntia.fasta\n"
       ]
      }
     ],
     "prompt_number": 62
    },
    {
     "cell_type": "markdown",
     "metadata": {},
     "source": [
      "Notice here we have given the executable name as clustalw2, indicating we have version two installed, which has a different filename to version one (clustalw, the default). Fortunately both versions support the same set of arguments at the command line (and indeed, should be functionally identical).\n",
      "\n",
      "You may find that even though you have ClustalW installed, the above command doesn\u2019t work \u2013 you may get a message about \u201ccommand not found\u201d (especially on Windows). This indicated that the ClustalW executable is not on your PATH (an environment variable, a list of directories to be searched). You can either update your PATH setting to include the location of your copy of ClustalW tools (how you do this will depend on your OS), or simply type in the full path of the tool. For example:"
     ]
    },
    {
     "cell_type": "code",
     "collapsed": false,
     "input": [
      "##Windows Only\n",
      ">>> import os\n",
      ">>> from Bio.Align.Applications import ClustalwCommandline\n",
      "#>>> clustalw_exe = r\"C:\\Program Files\\new clustal\\clustalw2.exe\"\n",
      "clustalw_exe = r\"C:\\Program Files (x86)\\ClustalX2\\clustalx.exe\"\n",
      ">>> clustalw_cline = ClustalwCommandline(clustalw_exe, infile=\"opuntia.fasta\")\n",
      ">>> assert os.path.isfile(clustalw_exe), \"Clustal W executable missing\"\n",
      ">>> stdout, stderr = clustalw_cline()"
     ],
     "language": "python",
     "metadata": {},
     "outputs": [],
     "prompt_number": 83
    },
    {
     "cell_type": "markdown",
     "metadata": {},
     "source": [
      "Remember, in Python strings \\n and \\t are by default interpreted as a new line and a tab \u2013 which is why we\u2019re put a letter \u201cr\u201d at the start for a raw string that isn\u2019t translated in this way. This is generally good practice when specifying a Windows style file name.\n",
      "\n",
      "Internally this uses the subprocess module which is now the recommended way to run another program in Python. This replaces older options like the os.system() and the os.popen* functions.\n",
      "\n",
      "Now, at this point it helps to know about how command line tools \u201cwork\u201d. When you run a tool at the command line, it will often print text output directly to screen. This text can be captured or redirected, via two \u201cpipes\u201d, called standard output (the normal results) and standard error (for error messages and debug messages). There is also standard input, which is any text fed into the tool. These names get shortened to stdin, stdout and stderr. When the tool finishes, it has a return code (an integer), which by convention is zero for success.\n",
      "\n",
      "When you run the command line tool like this via the Biopython wrapper, it will wait for it to finish, and check the return code. If this is non zero (indicating an error), an exception is raised. The wrapper then returns two strings, stdout and stderr.\n",
      "\n",
      "In the case of ClustalW, when run at the command line all the important output is written directly to the output files. Everything normally printed to screen while you wait (via stdout or stderr) is boring and can be ignored (assuming it worked).\n",
      "\n",
      "What we care about are the two output files, the alignment and the guide tree. We didn\u2019t tell ClustalW what filenames to use, but it defaults to picking names based on the input file. In this case the output should be in the file opuntia.aln. You should be able to work out how to read in the alignment using Bio.AlignIO by now:"
     ]
    },
    {
     "cell_type": "code",
     "collapsed": false,
     "input": [
      ">>> from Bio import AlignIO\n",
      ">>> align = AlignIO.read(\"opuntia.aln\", \"clustal\")\n",
      ">>> print(align)"
     ],
     "language": "python",
     "metadata": {},
     "outputs": [
      {
       "output_type": "stream",
       "stream": "stdout",
       "text": [
        "SingleLetterAlphabet() alignment with 7 rows and 902 columns\n",
        "TATACATTAAAGGAGGGGGATGCGGATAAATGGAAAGGCGAAAG...AGA gi|6273291|gb|AF191665.1|AF191\n",
        "TATACATTAAAGGAGGGGGATGCGGATAAATGGAAAGGCGAAAG...--- gi|6273290|gb|AF191664.1|AF191\n",
        "TATACATTAAAGGAGGGGGATGCGGATAAATGGAAAGGCGAAAG...--- gi|6273289|gb|AF191663.1|AF191\n",
        "TATACATTAAAGAAGGGGGATGCGGATAAATGGAAAGGCGAAAG...--- gi|6273287|gb|AF191661.1|AF191\n",
        "TATACATAAAAGAAGGGGGATGCGGATAAATGGAAAGGCGAAAG...--- gi|6273286|gb|AF191660.1|AF191\n",
        "TATACATTAAAGAAGGGGGATGCGGATAAATGGAAAGGCGAAAG...--- gi|6273285|gb|AF191659.1|AF191\n",
        "TATACATTAAAGAAGGGGGATGCGGATAAATGGAAAGGCGAAAG...--- gi|6273284|gb|AF191658.1|AF191\n"
       ]
      }
     ],
     "prompt_number": 82
    },
    {
     "cell_type": "markdown",
     "metadata": {},
     "source": [
      "In case you are interested (and this is an aside from the main thrust of this chapter), the opuntia.dnd file ClustalW creates is just a standard Newick tree file, and Bio.Phylo can parse these:"
     ]
    },
    {
     "cell_type": "code",
     "collapsed": false,
     "input": [
      "#Not understandable\n",
      "#>>> from Bio import Phylo\n",
      "#>>> tree = Phylo.read(\"opuntia.dnd\", \"newick\")\n",
      "#>>> Phylo.draw_ascii(tree)"
     ],
     "language": "python",
     "metadata": {},
     "outputs": [],
     "prompt_number": 85
    },
    {
     "cell_type": "code",
     "collapsed": false,
     "input": [
      "#                             _______________ gi|6273291|gb|AF191665.1|AF191665\n",
      "#  __________________________|\n",
      "# |                          |   ______ gi|6273290|gb|AF191664.1|AF191664\n",
      "# |                          |__|\n",
      "# |                             |_____ gi|6273289|gb|AF191663.1|AF191663\n",
      "# |\n",
      "#_|_________________ gi|6273287|gb|AF191661.1|AF191661\n",
      "# |\n",
      "# |__________ gi|6273286|gb|AF191660.1|AF191660\n",
      "# |\n",
      "# |    __ gi|6273285|gb|AF191659.1|AF191659\n",
      "# |___|\n",
      "#     | gi|6273284|gb|AF191658.1|AF191658"
     ],
     "language": "python",
     "metadata": {},
     "outputs": [],
     "prompt_number": 86
    },
    {
     "cell_type": "markdown",
     "metadata": {},
     "source": [
      "Chapter 13 covers Biopython\u2019s support for phylogenetic trees in more depth."
     ]
    },
    {
     "cell_type": "markdown",
     "metadata": {},
     "source": [
      "6.4.2  MUSCLE\n",
      "\n",
      "MUSCLE is a more recent multiple sequence alignment tool than ClustalW, and Biopython also has a wrapper for it under the Bio.Align.Applications module. As before, we recommend you try using MUSCLE from the command line before trying it from within Python, as the Biopython wrapper is very faithful to the actual command line API:"
     ]
    },
    {
     "cell_type": "code",
     "collapsed": false,
     "input": [
      ">>> from Bio.Align.Applications import MuscleCommandline\n",
      "#>>> help(MuscleCommandline)"
     ],
     "language": "python",
     "metadata": {},
     "outputs": [],
     "prompt_number": 88
    },
    {
     "cell_type": "markdown",
     "metadata": {},
     "source": [
      "For the most basic usage, all you need is to have a FASTA input file, such as opuntia.fasta (available online or in the Doc/examples subdirectory of the Biopython source code). You can then tell MUSCLE to read in this FASTA file, and write the alignment to an output file:"
     ]
    },
    {
     "cell_type": "code",
     "collapsed": false,
     "input": [
      ">>> from Bio.Align.Applications import MuscleCommandline\n",
      ">>> cline = MuscleCommandline(input=\"opuntia.fasta\", out=\"opuntia.txt\")\n",
      ">>> print(cline)"
     ],
     "language": "python",
     "metadata": {},
     "outputs": [
      {
       "output_type": "stream",
       "stream": "stdout",
       "text": [
        "muscle -in opuntia.fasta -out opuntia.txt\n"
       ]
      }
     ],
     "prompt_number": 89
    },
    {
     "cell_type": "markdown",
     "metadata": {},
     "source": [
      "Note that MUSCLE uses \u201c-in\u201d and \u201c-out\u201d but in Biopython we have to use \u201cinput\u201d and \u201cout\u201d as the keyword arguments or property names. This is because \u201cin\u201d is a reserved word in Python.\n",
      "\n",
      "By default MUSCLE will output the alignment as a FASTA file (using gapped sequences). The Bio.AlignIO module should be able to read this alignment using format=\"fasta\". You can also ask for ClustalW-like output:"
     ]
    },
    {
     "cell_type": "code",
     "collapsed": false,
     "input": [
      ">>> from Bio.Align.Applications import MuscleCommandline\n",
      ">>> cline = MuscleCommandline(input=\"opuntia.fasta\", out=\"opuntia.aln\", clw=True)\n",
      ">>> print(cline)"
     ],
     "language": "python",
     "metadata": {},
     "outputs": [
      {
       "output_type": "stream",
       "stream": "stdout",
       "text": [
        "muscle -in opuntia.fasta -out opuntia.aln -clw\n"
       ]
      }
     ],
     "prompt_number": 90
    },
    {
     "cell_type": "markdown",
     "metadata": {},
     "source": [
      "Or, strict ClustalW output where the original ClustalW header line is used for maximum compatibility:"
     ]
    },
    {
     "cell_type": "code",
     "collapsed": false,
     "input": [
      ">>> from Bio.Align.Applications import MuscleCommandline\n",
      ">>> cline = MuscleCommandline(input=\"opuntia.fasta\", out=\"opuntia.aln\", clwstrict=True)\n",
      ">>> print(cline)"
     ],
     "language": "python",
     "metadata": {},
     "outputs": [
      {
       "output_type": "stream",
       "stream": "stdout",
       "text": [
        "muscle -in opuntia.fasta -out opuntia.aln -clwstrict\n"
       ]
      }
     ],
     "prompt_number": 91
    },
    {
     "cell_type": "markdown",
     "metadata": {},
     "source": [
      "The Bio.AlignIO module should be able to read these alignments using format=\"clustal\".\n",
      "\n",
      "MUSCLE can also output in GCG MSF format (using the msf argument), but Biopython can\u2019t currently parse that, or using HTML which would give a human readable web page (not suitable for parsing).\n",
      "\n",
      "You can also set the other optional parameters, for example the maximum number of iterations. See the built in help for details.\n",
      "\n",
      "You would then run MUSCLE command line string as described above for ClustalW, and parse the output using Bio.AlignIO to get an alignment object."
     ]
    },
    {
     "cell_type": "markdown",
     "metadata": {},
     "source": [
      "### 6.4.3  MUSCLE using stdout\n",
      "\n",
      "Using a MUSCLE command line as in the examples above will write the alignment to a file. This means there will be no important information written to the standard out (stdout) or standard error (stderr) handles. However, by default MUSCLE will write the alignment to standard output (stdout). We can take advantage of this to avoid having a temporary output file! For example:"
     ]
    },
    {
     "cell_type": "code",
     "collapsed": false,
     "input": [
      ">>> from Bio.Align.Applications import MuscleCommandline\n",
      ">>> muscle_cline = MuscleCommandline(input=\"opuntia.fasta\")\n",
      ">>> print(muscle_cline)"
     ],
     "language": "python",
     "metadata": {},
     "outputs": [
      {
       "output_type": "stream",
       "stream": "stdout",
       "text": [
        "muscle -in opuntia.fasta\n"
       ]
      }
     ],
     "prompt_number": 92
    },
    {
     "cell_type": "markdown",
     "metadata": {},
     "source": [
      "If we run this via the wrapper, we get back the output as a string. In order to parse this we can use StringIO to turn it into a handle. Remember that MUSCLE defaults to using FASTA as the output format:"
     ]
    },
    {
     "cell_type": "code",
     "collapsed": false,
     "input": [
      "# Do not work on windows\n",
      "\"\"\"\n",
      ">>> from Bio.Align.Applications import MuscleCommandline\n",
      ">>> muscle_cline = MuscleCommandline(input=\"opuntia.fasta\")\n",
      ">>> stdout, stderr = muscle_cline()\n",
      ">>> from StringIO import StringIO\n",
      ">>> from Bio import AlignIO\n",
      ">>> align = AlignIO.read(StringIO(stdout), \"fasta\")\n",
      ">>> print(align)\n",
      "\"\"\""
     ],
     "language": "python",
     "metadata": {},
     "outputs": [
      {
       "metadata": {},
       "output_type": "pyout",
       "prompt_number": 97,
       "text": [
        "'\\n>>> from Bio.Align.Applications import MuscleCommandline\\n>>> muscle_cline = MuscleCommandline(input=\"opuntia.fasta\")\\n>>> stdout, stderr = muscle_cline()\\n>>> from StringIO import StringIO\\n>>> from Bio import AlignIO\\n>>> align = AlignIO.read(StringIO(stdout), \"fasta\")\\n>>> print(align)\\n'"
       ]
      }
     ],
     "prompt_number": 97
    },
    {
     "cell_type": "code",
     "collapsed": false,
     "input": [
      "# Not for windows\n",
      "# >>> import subprocess\n",
      "# >>> from Bio.Align.Applications import MuscleCommandline\n",
      "# >>> muscle_cline = MuscleCommandline(input=\"opuntia.fasta\")\n",
      "# >>> child = subprocess.Popen(str(muscle_cline),\n",
      "# ...                          stdout=subprocess.PIPE,\n",
      "# ...                          stderr=subprocess.PIPE,\n",
      "# ...                          shell=(sys.platform!=\"win32\"))\n",
      "# >>> from Bio import AlignIO\n",
      "# >>> align = AlignIO.read(child.stdout, \"fasta\")\n",
      "# >>> print(align)"
     ],
     "language": "python",
     "metadata": {},
     "outputs": [],
     "prompt_number": 101
    },
    {
     "cell_type": "markdown",
     "metadata": {},
     "source": [
      "### 6.4.4  MUSCLE using stdin and stdout\n",
      "\n",
      "We don\u2019t actually need to have our FASTA input sequences prepared in a file, because by default MUSCLE will read in the input sequence from standard input! Note this is a bit more advanced and fiddly, so don\u2019t bother with this technique unless you need to.\n",
      "\n",
      "First, we\u2019ll need some unaligned sequences in memory as SeqRecord objects. For this demonstration I\u2019m going to use a filtered version of the original FASTA file (using a generator expression), taking just six of the seven sequences:"
     ]
    },
    {
     "cell_type": "code",
     "collapsed": false,
     "input": [
      ">>> from Bio import SeqIO\n",
      ">>> records = (r for r in SeqIO.parse(\"opuntia.fasta\", \"fasta\") if len(r) < 900)"
     ],
     "language": "python",
     "metadata": {},
     "outputs": [],
     "prompt_number": 103
    },
    {
     "cell_type": "markdown",
     "metadata": {},
     "source": [
      "Then we create the MUSCLE command line, leaving the input and output to their defaults (stdin and stdout). I\u2019m also going to ask for strict ClustalW format as for the output."
     ]
    },
    {
     "cell_type": "code",
     "collapsed": false,
     "input": [
      ">>> from Bio.Align.Applications import MuscleCommandline\n",
      ">>> muscle_cline = MuscleCommandline(clwstrict=True)\n",
      ">>> print(muscle_cline)"
     ],
     "language": "python",
     "metadata": {},
     "outputs": [
      {
       "output_type": "stream",
       "stream": "stdout",
       "text": [
        "muscle -clwstrict\n"
       ]
      }
     ],
     "prompt_number": 104
    },
    {
     "cell_type": "markdown",
     "metadata": {},
     "source": [
      "Now for the fiddly bits using the subprocess module, stdin and stdout:"
     ]
    },
    {
     "cell_type": "code",
     "collapsed": false,
     "input": [
      "# Not for windows\n",
      "#>>> import subprocess\n",
      "#>>> import sys\n",
      "#>>> child = subprocess.Popen(str(cline),\n",
      "#...                          stdin=subprocess.PIPE,\n",
      "#...                          stdout=subprocess.PIPE,\n",
      "#...                          stderr=subprocess.PIPE,\n",
      "#...                          shell=(sys.platform!=\"win32\"))    "
     ],
     "language": "python",
     "metadata": {},
     "outputs": [],
     "prompt_number": 106
    },
    {
     "cell_type": "markdown",
     "metadata": {},
     "source": [
      "That should start MUSCLE, but it will be sitting waiting for its FASTA input sequences, which we must supply via its stdin handle:"
     ]
    },
    {
     "cell_type": "code",
     "collapsed": false,
     "input": [
      "#>>> SeqIO.write(records, child.stdin, \"fasta\")\n",
      "#>>> child.stdin.close()"
     ],
     "language": "python",
     "metadata": {},
     "outputs": [],
     "prompt_number": 108
    },
    {
     "cell_type": "markdown",
     "metadata": {},
     "source": [
      "After writing the six sequences to the handle, MUSCLE will still be waiting to see if that is all the FASTA sequences or not \u2013 so we must signal that this is all the input data by closing the handle. At that point MUSCLE should start to run, and we can ask for the output:"
     ]
    },
    {
     "cell_type": "code",
     "collapsed": false,
     "input": [
      "#>>> from Bio import AlignIO\n",
      "#>>> align = AlignIO.read(child.stdout, \"clustal\")\n",
      "#>>> print(align)"
     ],
     "language": "python",
     "metadata": {},
     "outputs": [],
     "prompt_number": 110
    },
    {
     "cell_type": "markdown",
     "metadata": {},
     "source": [
      "Wow! There we are with a new alignment of just the six records, without having created a temporary FASTA input file, or a temporary alignment output file. However, a word of caution: Dealing with errors with this style of calling external programs is much more complicated. It also becomes far harder to diagnose problems, because you can\u2019t try running MUSCLE manually outside of Biopython (because you don\u2019t have the input file to supply). There can also be subtle cross platform issues (e.g. Windows versus Linux), and how you run your script can have an impact (e.g. at the command line, from IDLE or an IDE, or as a GUI script). These are all generic Python issues though, and not specific to Biopython.\n",
      "\n",
      "If you find working directly with subprocess like this scary, there is an alternative. If you execute the tool with muscle_cline() you can supply any standard input as a big string, muscle_cline(stdin=...). So, provided your data isn\u2019t very big, you can prepare the FASTA input in memory as a string using StringIO (see Section 22.1):"
     ]
    },
    {
     "cell_type": "code",
     "collapsed": false,
     "input": [
      ">>> from Bio import SeqIO\n",
      ">>> records = (r for r in SeqIO.parse(\"opuntia.fasta\", \"fasta\") if len(r) < 900)\n",
      ">>> from StringIO import StringIO\n",
      ">>> handle = StringIO()\n",
      ">>> SeqIO.write(records, handle, \"fasta\")"
     ],
     "language": "python",
     "metadata": {},
     "outputs": [
      {
       "metadata": {},
       "output_type": "pyout",
       "prompt_number": 112,
       "text": [
        "6"
       ]
      }
     ],
     "prompt_number": 112
    },
    {
     "cell_type": "markdown",
     "metadata": {},
     "source": [
      "You can then run the tool and parse the alignment as follows:"
     ]
    },
    {
     "cell_type": "code",
     "collapsed": false,
     "input": [
      "#>>> stdout, stderr = muscle_cline(stdin=data)\n",
      "#>>> from Bio import AlignIO\n",
      "#>>> align = AlignIO.read(StringIO(stdout), \"clustal\")\n",
      "#>>> print(align)"
     ],
     "language": "python",
     "metadata": {},
     "outputs": [],
     "prompt_number": 116
    },
    {
     "cell_type": "markdown",
     "metadata": {},
     "source": [
      "You might find this easier, but it does require more memory (RAM) for the strings used for the input FASTA and output Clustal formatted data."
     ]
    },
    {
     "cell_type": "markdown",
     "metadata": {},
     "source": [
      "### 6.4.5  EMBOSS needle and water(Skiped)"
     ]
    },
    {
     "cell_type": "markdown",
     "metadata": {},
     "source": [
      "The [EMBOSS](http://emboss.sourceforge.net/) suite includes the water and needle tools for Smith-Waterman algorithm local alignment, and Needleman-Wunsch global alignment. The tools share the same style interface, so switching between the two is trivial \u2013 we\u2019ll just use needle here.\n",
      "\n",
      "Suppose you want to do a global pairwise alignment between two sequences, prepared in FASTA format as follows:\n",
      "\n",
      "```\n",
      ">HBA_HUMAN\n",
      "MVLSPADKTNVKAAWGKVGAHAGEYGAEALERMFLSFPTTKTYFPHFDLSHGSAQVKGHG\n",
      "KKVADALTNAVAHVDDMPNALSALSDLHAHKLRVDPVNFKLLSHCLLVTLAAHLPAEFTP\n",
      "AVHASLDKFLASVSTVLTSKYR\n",
      "```\n",
      "in a file alpha.fasta, and secondly in a file beta.fasta:\n",
      "```\n",
      ">HBB_HUMAN\n",
      "MVHLTPEEKSAVTALWGKVNVDEVGGEALGRLLVVYPWTQRFFESFGDLSTPDAVMGNPK\n",
      "VKAHGKKVLGAFSDGLAHLDNLKGTFATLSELHCDKLHVDPENFRLLGNVLVCVLAHHFG\n",
      "KEFTPPVQAAYQKVVAGVANALAHKYH\n",
      "```\n",
      "\n",
      "Let\u2019s start by creating a complete needle command line object in one go:\n",
      "\n",
      "```\n",
      ">>> from Bio.Emboss.Applications import NeedleCommandline\n",
      ">>> needle_cline = NeedleCommandline(asequence=\"alpha.faa\", bsequence=\"beta.faa\",\n",
      "...                                  gapopen=10, gapextend=0.5, outfile=\"needle.txt\")\n",
      ">>> print(needle_cline)\n",
      "needle -outfile=needle.txt -asequence=alpha.faa -bsequence=beta.faa -gapopen=10 -gapextend=0.5\n",
      "```\n",
      "\n",
      "Why not try running this by hand at the command prompt? You should see it does a pairwise comparison and records the output in the file needle.txt (in the default EMBOSS alignment file format).\n",
      "\n",
      "Even if you have EMBOSS installed, running this command may not work \u2013 you might get a message about \u201ccommand not found\u201d (especially on Windows). This probably means that the EMBOSS tools are not on your PATH environment variable. You can either update your PATH setting, or simply tell Biopython the full path to the tool, for example:\n",
      "\n",
      "Even if you have EMBOSS installed, running this command may not work \u2013 you might get a message about \u201ccommand not found\u201d (especially on Windows). This probably means that the EMBOSS tools are not on your PATH environment variable. You can either update your PATH setting, or simply tell Biopython the full path to the tool, for example:\n",
      "```\n",
      ">>> from Bio.Emboss.Applications import NeedleCommandline\n",
      ">>> needle_cline = NeedleCommandline(r\"C:\\EMBOSS\\needle.exe\",\n",
      "...                                  asequence=\"alpha.faa\", bsequence=\"beta.faa\",\n",
      "...                                  gapopen=10, gapextend=0.5, outfile=\"needle.txt\")\n",
      "```\n",
      "\n",
      "Remember in Python that for a default string \\n or \\t means a new line or a tab \u2013 which is why we\u2019re put a letter \u201cr\u201d at the start for a raw string.\n",
      "\n",
      "At this point it might help to try running the EMBOSS tools yourself by hand at the command line, to familiarise yourself the other options and compare them to the Biopython help text:\n",
      "```\n",
      ">>> from Bio.Emboss.Applications import NeedleCommandline\n",
      ">>> help(NeedleCommandline)\n",
      "...\n",
      "```\n",
      "Note that you can also specify (or change or look at) the settings like this:\n",
      "```\n",
      ">>> from Bio.Emboss.Applications import NeedleCommandline\n",
      ">>> needle_cline = NeedleCommandline()\n",
      ">>> needle_cline.asequence=\"alpha.faa\"\n",
      ">>> needle_cline.bsequence=\"beta.faa\"\n",
      ">>> needle_cline.gapopen=10\n",
      ">>> needle_cline.gapextend=0.5\n",
      ">>> needle_cline.outfile=\"needle.txt\"\n",
      ">>> print(needle_cline)\n",
      "needle -outfile=needle.txt -asequence=alpha.faa -bsequence=beta.faa -gapopen=10 -gapextend=0.5\n",
      ">>> print(needle_cline.outfile)\n",
      "needle.txt\n",
      "```\n",
      "\n",
      "Next we want to use Python to run this command for us. As explained above, for full control, we recommend you use the built in Python subprocess module, but for simple usage the wrapper object usually suffices:\n",
      "\n",
      "```\n",
      ">>> stdout, stderr = needle_cline()\n",
      ">>> print(stdout + stderr)\n",
      "Needleman-Wunsch global alignment of two sequences\n",
      "```\n",
      "\n",
      "Next we can load the output file with Bio.AlignIO as discussed earlier in this chapter, as the emboss format:\n",
      "\n",
      "```\n",
      ">>> from Bio import AlignIO\n",
      ">>> align = AlignIO.read(\"needle.txt\", \"emboss\")\n",
      ">>> print(align)\n",
      "SingleLetterAlphabet() alignment with 2 rows and 149 columns\n",
      "MV-LSPADKTNVKAAWGKVGAHAGEYGAEALERMFLSFPTTKTY...KYR HBA_HUMAN\n",
      "MVHLTPEEKSAVTALWGKV--NVDEVGGEALGRLLVVYPWTQRF...KYH HBB_HUMAN\n",
      "```\n",
      "\n",
      "In this example, we told EMBOSS to write the output to a file, but you can tell it to write the output to stdout instead (useful if you don\u2019t want a temporary output file to get rid of \u2013 use stdout=True rather than the outfile argument), and also to read one of the one of the inputs from stdin (e.g. asequence=\"stdin\", much like in the MUSCLE example in the section above).\n",
      "\n",
      "This has only scratched the surface of what you can do with needle and water. One useful trick is that the second file can contain multiple sequences (say five), and then EMBOSS will do five pairwise alignments.\n",
      "\n",
      "Note - Biopython includes its own pairwise alignment code in the Bio.pairwise2 module (written in C for speed, but with a pure Python fallback available too). This doesn\u2019t work with alignment objects, so we have not covered it within this chapter. See the module\u2019s docstring (built in help) for details."
     ]
    },
    {
     "cell_type": "code",
     "collapsed": false,
     "input": [
      "%%writefile handle.phy\n",
      ">Alpha\n",
      "ACTACGACTAGCTCAG--G\n",
      ">XXX\n",
      "ACTACCGCTAGCTCAGAAG\n",
      ">Alpha\n",
      "ACTACGACTAGCTCAGG\n",
      ">YYY\n",
      "ACTACGGCAAGCACAGG\n",
      ">Alpha\n",
      "--ACTACGAC--TAGCTCAGG\n",
      ">ZZZ\n",
      "GGACTACGACAATAGCTCAGG"
     ],
     "language": "python",
     "metadata": {},
     "outputs": [
      {
       "output_type": "stream",
       "stream": "stdout",
       "text": [
        "Writing handle.phy\n"
       ]
      }
     ],
     "prompt_number": 23
    },
    {
     "cell_type": "code",
     "collapsed": false,
     "input": [
      "%%writefile resampled.phy\n",
      "    5     6\n",
      "Alpha     AAACCA\n",
      "Beta      AAACCC\n",
      "Gamma     ACCCCA\n",
      "Delta     CCCAAC\n",
      "Epsilon   CCCAAA\n",
      "    5     6\n",
      "Alpha     AAACAA\n",
      "Beta      AAACCC\n",
      "Gamma     ACCCAA\n",
      "Delta     CCCACC\n",
      "Epsilon   CCCAAA\n",
      "    5     6\n",
      "Alpha     AAAAAC\n",
      "Beta      AAACCC\n",
      "Gamma     AACAAC\n",
      "Delta     CCCCCA\n",
      "Epsilon   CCCAAC\n",
      "    5     6\n",
      "Alpha     AAAACC\n",
      "Beta      ACCCCC\n",
      "Gamma     AAAACC\n",
      "Delta     CCCCAA\n",
      "Epsilon   CAAACC"
     ],
     "language": "python",
     "metadata": {},
     "outputs": [
      {
       "output_type": "stream",
       "stream": "stdout",
       "text": [
        "Overwriting resampled.phy\n"
       ]
      }
     ],
     "prompt_number": 19
    },
    {
     "cell_type": "code",
     "collapsed": false,
     "input": [],
     "language": "python",
     "metadata": {},
     "outputs": []
    },
    {
     "cell_type": "code",
     "collapsed": false,
     "input": [
      "%%writefile PF05371_seed.faa\n",
      ">COATB_BPIKE/30-81\n",
      "AEPNAATNYATEAMDSLKTQAIDLISQTWPVVTTVVVAGLVIRLFKKFSSKA\n",
      ">Q9T0Q8_BPIKE/1-52\n",
      "AEPNAATNYATEAMDSLKTQAIDLISQTWPVVTTVVVAGLVIKLFKKFVSRA\n",
      ">COATB_BPI22/32-83\n",
      "DGTSTATSYATEAMNSLKTQATDLIDQTWPVVTSVAVAGLAIRLFKKFSSKA\n",
      ">COATB_BPM13/24-72\n",
      "AEGDDP---AKAAFNSLQASATEYIGYAWAMVVVIVGATIGIKLFKKFTSKA\n",
      ">COATB_BPZJ2/1-49\n",
      "AEGDDP---AKAAFDSLQASATEYIGYAWAMVVVIVGATIGIKLFKKFASKA\n",
      ">Q9T0Q9_BPFD/1-49\n",
      "AEGDDP---AKAAFDSLQASATEYIGYAWAMVVVIVGATIGIKLFKKFTSKA\n",
      ">COATB_BPIF1/22-73\n",
      "FAADDATSQAKAAFDSLTAQATEMSGYAWALVVLVVGATVGIKLFKKFVSRA"
     ],
     "language": "python",
     "metadata": {},
     "outputs": [
      {
       "output_type": "stream",
       "stream": "stdout",
       "text": [
        "Writing PF05371_seed.faa\n"
       ]
      }
     ],
     "prompt_number": 12
    },
    {
     "cell_type": "code",
     "collapsed": false,
     "input": [
      "%%writefile PF05371_seed.sth\n",
      "# STOCKHOLM 1.0\n",
      "#=GS COATB_BPIKE/30-81  AC P03620.1\n",
      "#=GS COATB_BPIKE/30-81  DR PDB; 1ifl ; 1-52;\n",
      "#=GS Q9T0Q8_BPIKE/1-52  AC Q9T0Q8.1\n",
      "#=GS COATB_BPI22/32-83  AC P15416.1\n",
      "#=GS COATB_BPM13/24-72  AC P69541.1\n",
      "#=GS COATB_BPM13/24-72  DR PDB; 2cpb ; 1-49;\n",
      "#=GS COATB_BPM13/24-72  DR PDB; 2cps ; 1-49;\n",
      "#=GS COATB_BPZJ2/1-49   AC P03618.1\n",
      "#=GS Q9T0Q9_BPFD/1-49   AC Q9T0Q9.1\n",
      "#=GS Q9T0Q9_BPFD/1-49   DR PDB; 1nh4 A; 1-49;\n",
      "#=GS COATB_BPIF1/22-73  AC P03619.2\n",
      "#=GS COATB_BPIF1/22-73  DR PDB; 1ifk ; 1-50;\n",
      "COATB_BPIKE/30-81             AEPNAATNYATEAMDSLKTQAIDLISQTWPVVTTVVVAGLVIRLFKKFSSKA\n",
      "#=GR COATB_BPIKE/30-81  SS    -HHHHHHHHHHHHHH--HHHHHHHH--HHHHHHHHHHHHHHHHHHHHH----\n",
      "Q9T0Q8_BPIKE/1-52             AEPNAATNYATEAMDSLKTQAIDLISQTWPVVTTVVVAGLVIKLFKKFVSRA\n",
      "COATB_BPI22/32-83             DGTSTATSYATEAMNSLKTQATDLIDQTWPVVTSVAVAGLAIRLFKKFSSKA\n",
      "COATB_BPM13/24-72             AEGDDP...AKAAFNSLQASATEYIGYAWAMVVVIVGATIGIKLFKKFTSKA\n",
      "#=GR COATB_BPM13/24-72  SS    ---S-T...CHCHHHHCCCCTCCCTTCHHHHHHHHHHHHHHHHHHHHCTT--\n",
      "COATB_BPZJ2/1-49              AEGDDP...AKAAFDSLQASATEYIGYAWAMVVVIVGATIGIKLFKKFASKA\n",
      "Q9T0Q9_BPFD/1-49              AEGDDP...AKAAFDSLQASATEYIGYAWAMVVVIVGATIGIKLFKKFTSKA\n",
      "#=GR Q9T0Q9_BPFD/1-49   SS    ------...-HHHHHHHHHHHHHHHHHHHHHHHHHHHHHHHHHHHHHHHH--\n",
      "COATB_BPIF1/22-73             FAADDATSQAKAAFDSLTAQATEMSGYAWALVVLVVGATVGIKLFKKFVSRA\n",
      "#=GR COATB_BPIF1/22-73  SS    XX-HHHH--HHHHHH--HHHHHHH--HHHHHHHHHHHHHHHHHHHHHHH---\n",
      "#=GC SS_cons                  XHHHHHHHHHHHHHHHCHHHHHHHHCHHHHHHHHHHHHHHHHHHHHHHHC--\n",
      "#=GC seq_cons                 AEssss...AptAhDSLpspAT-hIu.sWshVsslVsAsluIKLFKKFsSKA\n",
      "//"
     ],
     "language": "python",
     "metadata": {},
     "outputs": [
      {
       "output_type": "stream",
       "stream": "stdout",
       "text": [
        "Writing PF05371_seed.sth\n"
       ]
      }
     ],
     "prompt_number": 2
    },
    {
     "cell_type": "code",
     "collapsed": false,
     "input": [
      "%%HTML\n",
      "<style>\n",
      ".cell {\n",
      "    background-color: rgba(255,200,255,0.72);\n",
      "    font-family: Georgia, Cursive;\n",
      "    font-size: 144%;\n",
      "    border-radius: 10px;\n",
      "    spellcheck: true;\n",
      "}\n",
      "\n",
      "body {\n",
      "    background-color: #AAFFFF;\n",
      "    background-image: url('https://raw.github.com/chenleo/Resource/master/Images/FirstKiss1600X1200.jpg');\n",
      "    background-size: cover;\n",
      "    background-repeat: repeat;\n",
      "    background--attachment: fixed;\n",
      "}\n",
      "\n",
      "h1, h2 {\n",
      "    text-align: center;\n",
      "}\n",
      "\n",
      ".todo {\n",
      "    background-color: rgba(255,0,0,0.5);\n",
      "}\n",
      "</style>"
     ],
     "language": "python",
     "metadata": {},
     "outputs": [
      {
       "html": [
        "<style>\n",
        ".cell {\n",
        "    background-color: rgba(255,200,255,0.72);\n",
        "    font-family: Georgia, Cursive;\n",
        "    font-size: 144%;\n",
        "    border-radius: 10px;\n",
        "    spellcheck: true;\n",
        "}\n",
        "\n",
        "body {\n",
        "    background-color: #AAFFFF;\n",
        "    background-image: url('https://raw.github.com/chenleo/Resource/master/Images/FirstKiss1600X1200.jpg');\n",
        "    background-size: cover;\n",
        "    background-repeat: repeat;\n",
        "    background--attachment: fixed;\n",
        "}\n",
        "\n",
        "h1, h2 {\n",
        "    text-align: center;\n",
        "}\n",
        "\n",
        ".todo {\n",
        "    background-color: rgba(255,0,0,0.5);\n",
        "}\n",
        "</style>"
       ],
       "metadata": {},
       "output_type": "display_data",
       "text": [
        "<IPython.core.display.HTML at 0x3df3eb8>"
       ]
      }
     ],
     "prompt_number": 1
    },
    {
     "cell_type": "code",
     "collapsed": false,
     "input": [],
     "language": "python",
     "metadata": {},
     "outputs": []
    }
   ],
   "metadata": {}
  }
 ]
}