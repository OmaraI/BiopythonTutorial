{
 "metadata": {
  "name": "",
  "signature": "sha256:436ac59989c2e1fa552df43a8dd073cd507cdd8ca2881d99016c1def32f9cb71"
 },
 "nbformat": 3,
 "nbformat_minor": 0,
 "worksheets": [
  {
   "cells": [
    {
     "cell_type": "markdown",
     "metadata": {},
     "source": [
      "# Chapter 4  Sequence annotation objects"
     ]
    },
    {
     "cell_type": "markdown",
     "metadata": {},
     "source": [
      "Chapter 3 introduced the sequence classes. Immediately \u201cabove\u201d the Seq class is the Sequence Record or SeqRecord class, defined in the Bio.SeqRecord module. This class allows higher level features such as identifiers and features (as SeqFeature objects) to be associated with the sequence, and is used throughout the sequence input/output interface Bio.SeqIO described fully in Chapter 5.\n",
      "\n",
      "If you are only going to be working with simple data like FASTA files, you can probably skip this chapter for now. If on the other hand you are going to be using richly annotated sequence data, say from GenBank or EMBL files, this information is quite important.\n",
      "\n",
      "While this chapter should cover most things to do with the SeqRecord and SeqFeature objects in this chapter, you may also want to read the SeqRecord wiki page (http://biopython.org/wiki/SeqRecord), and the built in documentation (also online \u2013 SeqRecord and SeqFeature):"
     ]
    },
    {
     "cell_type": "code",
     "collapsed": false,
     "input": [
      ">>> from Bio.SeqRecord import SeqRecord\n",
      ">>> help(SeqRecord)"
     ],
     "language": "python",
     "metadata": {},
     "outputs": [
      {
       "output_type": "stream",
       "stream": "stdout",
       "text": [
        "Help on class SeqRecord in module Bio.SeqRecord:\n",
        "\n",
        "class SeqRecord(__builtin__.object)\n",
        " |  A SeqRecord object holds a sequence and information about it.\n",
        " |  \n",
        " |  Main attributes:\n",
        " |   - id          - Identifier such as a locus tag (string)\n",
        " |   - seq         - The sequence itself (Seq object or similar)\n",
        " |  \n",
        " |  Additional attributes:\n",
        " |   - name        - Sequence name, e.g. gene name (string)\n",
        " |   - description - Additional text (string)\n",
        " |   - dbxrefs     - List of database cross references (list of strings)\n",
        " |   - features    - Any (sub)features defined (list of SeqFeature objects)\n",
        " |   - annotations - Further information about the whole sequence (dictionary).\n",
        " |                   Most entries are strings, or lists of strings.\n",
        " |   - letter_annotations - Per letter/symbol annotation (restricted\n",
        " |                   dictionary). This holds Python sequences (lists, strings\n",
        " |                   or tuples) whose length matches that of the sequence.\n",
        " |                   A typical use would be to hold a list of integers\n",
        " |                   representing sequencing quality scores, or a string\n",
        " |                   representing the secondary structure.\n",
        " |  \n",
        " |  You will typically use Bio.SeqIO to read in sequences from files as\n",
        " |  SeqRecord objects.  However, you may want to create your own SeqRecord\n",
        " |  objects directly (see the __init__ method for further details):\n",
        " |  \n",
        " |  >>> from Bio.Seq import Seq\n",
        " |  >>> from Bio.SeqRecord import SeqRecord\n",
        " |  >>> from Bio.Alphabet import IUPAC\n",
        " |  >>> record = SeqRecord(Seq(\"MKQHKAMIVALIVICITAVVAALVTRKDLCEVHIRTGQTEVAVF\",\n",
        " |  ...                         IUPAC.protein),\n",
        " |  ...                    id=\"YP_025292.1\", name=\"HokC\",\n",
        " |  ...                    description=\"toxic membrane protein\")\n",
        " |  >>> print(record)\n",
        " |  ID: YP_025292.1\n",
        " |  Name: HokC\n",
        " |  Description: toxic membrane protein\n",
        " |  Number of features: 0\n",
        " |  Seq('MKQHKAMIVALIVICITAVVAALVTRKDLCEVHIRTGQTEVAVF', IUPACProtein())\n",
        " |  \n",
        " |  If you want to save SeqRecord objects to a sequence file, use Bio.SeqIO\n",
        " |  for this.  For the special case where you want the SeqRecord turned into\n",
        " |  a string in a particular file format there is a format method which uses\n",
        " |  Bio.SeqIO internally:\n",
        " |  \n",
        " |  >>> print(record.format(\"fasta\"))\n",
        " |  >YP_025292.1 toxic membrane protein\n",
        " |  MKQHKAMIVALIVICITAVVAALVTRKDLCEVHIRTGQTEVAVF\n",
        " |  <BLANKLINE>\n",
        " |  \n",
        " |  You can also do things like slicing a SeqRecord, checking its length, etc\n",
        " |  \n",
        " |  >>> len(record)\n",
        " |  44\n",
        " |  >>> edited = record[:10] + record[11:]\n",
        " |  >>> print(edited.seq)\n",
        " |  MKQHKAMIVAIVICITAVVAALVTRKDLCEVHIRTGQTEVAVF\n",
        " |  >>> print(record.seq)\n",
        " |  MKQHKAMIVALIVICITAVVAALVTRKDLCEVHIRTGQTEVAVF\n",
        " |  \n",
        " |  Methods defined here:\n",
        " |  \n",
        " |  __add__(self, other)\n",
        " |      Add another sequence or string to this sequence.\n",
        " |      \n",
        " |      The other sequence can be a SeqRecord object, a Seq object (or\n",
        " |      similar, e.g. a MutableSeq) or a plain Python string. If you add\n",
        " |      a plain string or a Seq (like) object, the new SeqRecord will simply\n",
        " |      have this appended to the existing data. However, any per letter\n",
        " |      annotation will be lost:\n",
        " |      \n",
        " |      >>> from Bio import SeqIO\n",
        " |      >>> record = SeqIO.read(\"Quality/solexa_faked.fastq\", \"fastq-solexa\")\n",
        " |      >>> print(\"%s %s\" % (record.id, record.seq))\n",
        " |      slxa_0001_1_0001_01 ACGTACGTACGTACGTACGTACGTACGTACGTACGTACGTNNNNNN\n",
        " |      >>> print(list(record.letter_annotations.keys()))\n",
        " |      ['solexa_quality']\n",
        " |      \n",
        " |      >>> new = record + \"ACT\"\n",
        " |      >>> print(\"%s %s\" % (new.id, new.seq))\n",
        " |      slxa_0001_1_0001_01 ACGTACGTACGTACGTACGTACGTACGTACGTACGTACGTNNNNNNACT\n",
        " |      >>> print(list(new.letter_annotations.keys()))\n",
        " |      []\n",
        " |      \n",
        " |      The new record will attempt to combine the annotation, but for any\n",
        " |      ambiguities (e.g. different names) it defaults to omitting that\n",
        " |      annotation.\n",
        " |      \n",
        " |      >>> from Bio import SeqIO\n",
        " |      >>> with open(\"GenBank/pBAD30.gb\") as handle:\n",
        " |      ...     plasmid = SeqIO.read(handle, \"gb\")\n",
        " |      >>> print(\"%s %i\" % (plasmid.id, len(plasmid)))\n",
        " |      pBAD30 4923\n",
        " |      \n",
        " |      Now let's cut the plasmid into two pieces, and join them back up the\n",
        " |      other way round (i.e. shift the starting point on this plasmid, have\n",
        " |      a look at the annotated features in the original file to see why this\n",
        " |      particular split point might make sense):\n",
        " |      \n",
        " |      >>> left = plasmid[:3765]\n",
        " |      >>> right = plasmid[3765:]\n",
        " |      >>> new = right + left\n",
        " |      >>> print(\"%s %i\" % (new.id, len(new)))\n",
        " |      pBAD30 4923\n",
        " |      >>> str(new.seq) == str(right.seq + left.seq)\n",
        " |      True\n",
        " |      >>> len(new.features) == len(left.features) + len(right.features)\n",
        " |      True\n",
        " |      \n",
        " |      When we add the left and right SeqRecord objects, their annotation\n",
        " |      is all consistent, so it is all conserved in the new SeqRecord:\n",
        " |      \n",
        " |      >>> new.id == left.id == right.id == plasmid.id\n",
        " |      True\n",
        " |      >>> new.name == left.name == right.name == plasmid.name\n",
        " |      True\n",
        " |      >>> new.description == plasmid.description\n",
        " |      True\n",
        " |      >>> new.annotations == left.annotations == right.annotations\n",
        " |      True\n",
        " |      >>> new.letter_annotations == plasmid.letter_annotations\n",
        " |      True\n",
        " |      >>> new.dbxrefs == left.dbxrefs == right.dbxrefs\n",
        " |      True\n",
        " |      \n",
        " |      However, we should point out that when we sliced the SeqRecord,\n",
        " |      any annotations dictionary or dbxrefs list entries were lost.\n",
        " |      You can explicitly copy them like this:\n",
        " |      \n",
        " |      >>> new.annotations = plasmid.annotations.copy()\n",
        " |      >>> new.dbxrefs = plasmid.dbxrefs[:]\n",
        " |  \n",
        " |  __bool__(self)\n",
        " |      Boolean value of an instance of this class (True).\n",
        " |      \n",
        " |      This behaviour is for backwards compatibility, since until the\n",
        " |      __len__ method was added, a SeqRecord always evaluated as True.\n",
        " |      \n",
        " |      Note that in comparison, a Seq object will evaluate to False if it\n",
        " |      has a zero length sequence.\n",
        " |      \n",
        " |      WARNING: The SeqRecord may in future evaluate to False when its\n",
        " |      sequence is of zero length (in order to better match the Seq\n",
        " |      object behaviour)!\n",
        " |  \n",
        " |  __contains__(self, char)\n",
        " |      Implements the 'in' keyword, searches the sequence.\n",
        " |      \n",
        " |      e.g.\n",
        " |      \n",
        " |      >>> from Bio import SeqIO\n",
        " |      >>> record = SeqIO.read(\"Fasta/sweetpea.nu\", \"fasta\")\n",
        " |      >>> \"GAATTC\" in record\n",
        " |      False\n",
        " |      >>> \"AAA\" in record\n",
        " |      True\n",
        " |      \n",
        " |      This essentially acts as a proxy for using \"in\" on the sequence:\n",
        " |      \n",
        " |      >>> \"GAATTC\" in record.seq\n",
        " |      False\n",
        " |      >>> \"AAA\" in record.seq\n",
        " |      True\n",
        " |      \n",
        " |      Note that you can also use Seq objects as the query,\n",
        " |      \n",
        " |      >>> from Bio.Seq import Seq\n",
        " |      >>> from Bio.Alphabet import generic_dna\n",
        " |      >>> Seq(\"AAA\") in record\n",
        " |      True\n",
        " |      >>> Seq(\"AAA\", generic_dna) in record\n",
        " |      True\n",
        " |      \n",
        " |      See also the Seq object's __contains__ method.\n",
        " |  \n",
        " |  __format__(self, format_spec)\n",
        " |      Returns the record as a string in the specified file format.\n",
        " |      \n",
        " |      This method supports the python format() function added in\n",
        " |      Python 2.6/3.0.  The format_spec should be a lower case string\n",
        " |      supported by Bio.SeqIO as an output file format. See also the\n",
        " |      SeqRecord's format() method.\n",
        " |      \n",
        " |      Under Python 3 please note that for binary formats a bytes\n",
        " |      string is returned, otherwise a (unicode) string is returned.\n",
        " |  \n",
        " |  __getitem__(self, index)\n",
        " |      Returns a sub-sequence or an individual letter.\n",
        " |      \n",
        " |      Slicing, e.g. my_record[5:10], returns a new SeqRecord for\n",
        " |      that sub-sequence with approriate annotation preserved.  The\n",
        " |      name, id and description are kept.\n",
        " |      \n",
        " |      Any per-letter-annotations are sliced to match the requested\n",
        " |      sub-sequence.  Unless a stride is used, all those features\n",
        " |      which fall fully within the subsequence are included (with\n",
        " |      their locations adjusted accordingly).\n",
        " |      \n",
        " |      However, the annotations dictionary and the dbxrefs list are\n",
        " |      not used for the new SeqRecord, as in general they may not\n",
        " |      apply to the subsequence.  If you want to preserve them, you\n",
        " |      must explictly copy them to the new SeqRecord yourself.\n",
        " |      \n",
        " |      Using an integer index, e.g. my_record[5] is shorthand for\n",
        " |      extracting that letter from the sequence, my_record.seq[5].\n",
        " |      \n",
        " |      For example, consider this short protein and its secondary\n",
        " |      structure as encoded by the PDB (e.g. H for alpha helices),\n",
        " |      plus a simple feature for its histidine self phosphorylation\n",
        " |      site:\n",
        " |      \n",
        " |      >>> from Bio.Seq import Seq\n",
        " |      >>> from Bio.SeqRecord import SeqRecord\n",
        " |      >>> from Bio.SeqFeature import SeqFeature, FeatureLocation\n",
        " |      >>> from Bio.Alphabet import IUPAC\n",
        " |      >>> rec = SeqRecord(Seq(\"MAAGVKQLADDRTLLMAGVSHDLRTPLTRIRLAT\"\n",
        " |      ...                     \"EMMSEQDGYLAESINKDIEECNAIIEQFIDYLR\",\n",
        " |      ...                     IUPAC.protein),\n",
        " |      ...                 id=\"1JOY\", name=\"EnvZ\",\n",
        " |      ...                 description=\"Homodimeric domain of EnvZ from E. coli\")\n",
        " |      >>> rec.letter_annotations[\"secondary_structure\"] = \"  S  SSSSSSHHHHHTTTHHHHHHHHHHHHHHHHHHHHHHTHHHHHHHHHHHHHHHHHHHHHTT  \"\n",
        " |      >>> rec.features.append(SeqFeature(FeatureLocation(20, 21),\n",
        " |      ...                     type = \"Site\"))\n",
        " |      \n",
        " |      Now let's have a quick look at the full record,\n",
        " |      \n",
        " |      >>> print(rec)\n",
        " |      ID: 1JOY\n",
        " |      Name: EnvZ\n",
        " |      Description: Homodimeric domain of EnvZ from E. coli\n",
        " |      Number of features: 1\n",
        " |      Per letter annotation for: secondary_structure\n",
        " |      Seq('MAAGVKQLADDRTLLMAGVSHDLRTPLTRIRLATEMMSEQDGYLAESINKDIEE...YLR', IUPACProtein())\n",
        " |      >>> print(rec.letter_annotations[\"secondary_structure\"])\n",
        " |        S  SSSSSSHHHHHTTTHHHHHHHHHHHHHHHHHHHHHHTHHHHHHHHHHHHHHHHHHHHHTT  \n",
        " |      >>> print(rec.features[0].location)\n",
        " |      [20:21]\n",
        " |      \n",
        " |      Now let's take a sub sequence, here chosen as the first (fractured)\n",
        " |      alpha helix which includes the histidine phosphorylation site:\n",
        " |      \n",
        " |      >>> sub = rec[11:41]\n",
        " |      >>> print(sub)\n",
        " |      ID: 1JOY\n",
        " |      Name: EnvZ\n",
        " |      Description: Homodimeric domain of EnvZ from E. coli\n",
        " |      Number of features: 1\n",
        " |      Per letter annotation for: secondary_structure\n",
        " |      Seq('RTLLMAGVSHDLRTPLTRIRLATEMMSEQD', IUPACProtein())\n",
        " |      >>> print(sub.letter_annotations[\"secondary_structure\"])\n",
        " |      HHHHHTTTHHHHHHHHHHHHHHHHHHHHHH\n",
        " |      >>> print(sub.features[0].location)\n",
        " |      [9:10]\n",
        " |      \n",
        " |      You can also of course omit the start or end values, for\n",
        " |      example to get the first ten letters only:\n",
        " |      \n",
        " |      >>> print(rec[:10])\n",
        " |      ID: 1JOY\n",
        " |      Name: EnvZ\n",
        " |      Description: Homodimeric domain of EnvZ from E. coli\n",
        " |      Number of features: 0\n",
        " |      Per letter annotation for: secondary_structure\n",
        " |      Seq('MAAGVKQLAD', IUPACProtein())\n",
        " |      \n",
        " |      Or for the last ten letters:\n",
        " |      \n",
        " |      >>> print(rec[-10:])\n",
        " |      ID: 1JOY\n",
        " |      Name: EnvZ\n",
        " |      Description: Homodimeric domain of EnvZ from E. coli\n",
        " |      Number of features: 0\n",
        " |      Per letter annotation for: secondary_structure\n",
        " |      Seq('IIEQFIDYLR', IUPACProtein())\n",
        " |      \n",
        " |      If you omit both, then you get a copy of the original record (although\n",
        " |      lacking the annotations and dbxrefs):\n",
        " |      \n",
        " |      >>> print(rec[:])\n",
        " |      ID: 1JOY\n",
        " |      Name: EnvZ\n",
        " |      Description: Homodimeric domain of EnvZ from E. coli\n",
        " |      Number of features: 1\n",
        " |      Per letter annotation for: secondary_structure\n",
        " |      Seq('MAAGVKQLADDRTLLMAGVSHDLRTPLTRIRLATEMMSEQDGYLAESINKDIEE...YLR', IUPACProtein())\n",
        " |      \n",
        " |      Finally, indexing with a simple integer is shorthand for pulling out\n",
        " |      that letter from the sequence directly:\n",
        " |      \n",
        " |      >>> rec[5]\n",
        " |      'K'\n",
        " |      >>> rec.seq[5]\n",
        " |      'K'\n",
        " |  \n",
        " |  __init__(self, seq, id='<unknown id>', name='<unknown name>', description='<unknown description>', dbxrefs=None, features=None, annotations=None, letter_annotations=None)\n",
        " |      Create a SeqRecord.\n",
        " |      \n",
        " |      Arguments:\n",
        " |       - seq         - Sequence, required (Seq, MutableSeq or UnknownSeq)\n",
        " |       - id          - Sequence identifier, recommended (string)\n",
        " |       - name        - Sequence name, optional (string)\n",
        " |       - description - Sequence description, optional (string)\n",
        " |       - dbxrefs     - Database cross references, optional (list of strings)\n",
        " |       - features    - Any (sub)features, optional (list of SeqFeature objects)\n",
        " |       - annotations - Dictionary of annotations for the whole sequence\n",
        " |       - letter_annotations - Dictionary of per-letter-annotations, values\n",
        " |                              should be strings, list or tuples of the same\n",
        " |                              length as the full sequence.\n",
        " |      \n",
        " |      You will typically use Bio.SeqIO to read in sequences from files as\n",
        " |      SeqRecord objects.  However, you may want to create your own SeqRecord\n",
        " |      objects directly.\n",
        " |      \n",
        " |      Note that while an id is optional, we strongly recommend you supply a\n",
        " |      unique id string for each record.  This is especially important\n",
        " |      if you wish to write your sequences to a file.\n",
        " |      \n",
        " |      If you don't have the actual sequence, but you do know its length,\n",
        " |      then using the UnknownSeq object from Bio.Seq is appropriate.\n",
        " |      \n",
        " |      You can create a 'blank' SeqRecord object, and then populate the\n",
        " |      attributes later.\n",
        " |  \n",
        " |  __iter__(self)\n",
        " |      Iterate over the letters in the sequence.\n",
        " |      \n",
        " |      For example, using Bio.SeqIO to read in a protein FASTA file:\n",
        " |      \n",
        " |      >>> from Bio import SeqIO\n",
        " |      >>> record = SeqIO.read(\"Fasta/loveliesbleeding.pro\", \"fasta\")\n",
        " |      >>> for amino in record:\n",
        " |      ...     print(amino)\n",
        " |      ...     if amino == \"L\": break\n",
        " |      X\n",
        " |      A\n",
        " |      G\n",
        " |      L\n",
        " |      >>> print(record.seq[3])\n",
        " |      L\n",
        " |      \n",
        " |      This is just a shortcut for iterating over the sequence directly:\n",
        " |      \n",
        " |      >>> for amino in record.seq:\n",
        " |      ...     print(amino)\n",
        " |      ...     if amino == \"L\": break\n",
        " |      X\n",
        " |      A\n",
        " |      G\n",
        " |      L\n",
        " |      >>> print(record.seq[3])\n",
        " |      L\n",
        " |      \n",
        " |      Note that this does not facilitate iteration together with any\n",
        " |      per-letter-annotation.  However, you can achieve that using the\n",
        " |      python zip function on the record (or its sequence) and the relevant\n",
        " |      per-letter-annotation:\n",
        " |      \n",
        " |      >>> from Bio import SeqIO\n",
        " |      >>> rec = SeqIO.read(\"Quality/solexa_faked.fastq\", \"fastq-solexa\")\n",
        " |      >>> print(\"%s %s\" % (rec.id, rec.seq))\n",
        " |      slxa_0001_1_0001_01 ACGTACGTACGTACGTACGTACGTACGTACGTACGTACGTNNNNNN\n",
        " |      >>> print(list(rec.letter_annotations.keys()))\n",
        " |      ['solexa_quality']\n",
        " |      >>> for nuc, qual in zip(rec, rec.letter_annotations[\"solexa_quality\"]):\n",
        " |      ...     if qual > 35:\n",
        " |      ...         print(\"%s %i\" % (nuc, qual))\n",
        " |      A 40\n",
        " |      C 39\n",
        " |      G 38\n",
        " |      T 37\n",
        " |      A 36\n",
        " |      \n",
        " |      You may agree that using zip(rec.seq, ...) is more explicit than using\n",
        " |      zip(rec, ...) as shown above.\n",
        " |  \n",
        " |  __len__(self)\n",
        " |      Returns the length of the sequence.\n",
        " |      \n",
        " |      For example, using Bio.SeqIO to read in a FASTA nucleotide file:\n",
        " |      \n",
        " |      >>> from Bio import SeqIO\n",
        " |      >>> record = SeqIO.read(\"Fasta/sweetpea.nu\", \"fasta\")\n",
        " |      >>> len(record)\n",
        " |      309\n",
        " |      >>> len(record.seq)\n",
        " |      309\n",
        " |  \n",
        " |  __nonzero__ = __bool__(self)\n",
        " |  \n",
        " |  __radd__(self, other)\n",
        " |      Add another sequence or string to this sequence (from the left).\n",
        " |      \n",
        " |      This method handles adding a Seq object (or similar, e.g. MutableSeq)\n",
        " |      or a plain Python string (on the left) to a SeqRecord (on the right).\n",
        " |      See the __add__ method for more details, but for example:\n",
        " |      \n",
        " |      >>> from Bio import SeqIO\n",
        " |      >>> record = SeqIO.read(\"Quality/solexa_faked.fastq\", \"fastq-solexa\")\n",
        " |      >>> print(\"%s %s\" % (record.id, record.seq))\n",
        " |      slxa_0001_1_0001_01 ACGTACGTACGTACGTACGTACGTACGTACGTACGTACGTNNNNNN\n",
        " |      >>> print(list(record.letter_annotations.keys()))\n",
        " |      ['solexa_quality']\n",
        " |      \n",
        " |      >>> new = \"ACT\" + record\n",
        " |      >>> print(\"%s %s\" % (new.id, new.seq))\n",
        " |      slxa_0001_1_0001_01 ACTACGTACGTACGTACGTACGTACGTACGTACGTACGTACGTNNNNNN\n",
        " |      >>> print(list(new.letter_annotations.keys()))\n",
        " |      []\n",
        " |  \n",
        " |  __repr__(self)\n",
        " |      A concise summary of the record for debugging (string).\n",
        " |      \n",
        " |      The python built in function repr works by calling the object's ___repr__\n",
        " |      method.  e.g.\n",
        " |      \n",
        " |      >>> from Bio.Seq import Seq\n",
        " |      >>> from Bio.SeqRecord import SeqRecord\n",
        " |      >>> from Bio.Alphabet import generic_protein\n",
        " |      >>> rec = SeqRecord(Seq(\"MASRGVNKVILVGNLGQDPEVRYMPNGGAVANITLATSESWRDKAT\"\n",
        " |      ...                    +\"GEMKEQTEWHRVVLFGKLAEVASEYLRKGSQVYIEGQLRTRKWTDQ\"\n",
        " |      ...                    +\"SGQDRYTTEVVVNVGGTMQMLGGRQGGGAPAGGNIGGGQPQGGWGQ\"\n",
        " |      ...                    +\"PQQPQGGNQFSGGAQSRPQQSAPAAPSNEPPMDFDDDIPF\",\n",
        " |      ...                    generic_protein),\n",
        " |      ...                 id=\"NP_418483.1\", name=\"b4059\",\n",
        " |      ...                 description=\"ssDNA-binding protein\",\n",
        " |      ...                 dbxrefs=[\"ASAP:13298\", \"GI:16131885\", \"GeneID:948570\"])\n",
        " |      >>> print(repr(rec))\n",
        " |      SeqRecord(seq=Seq('MASRGVNKVILVGNLGQDPEVRYMPNGGAVANITLATSESWRDKATGEMKEQTE...IPF', ProteinAlphabet()), id='NP_418483.1', name='b4059', description='ssDNA-binding protein', dbxrefs=['ASAP:13298', 'GI:16131885', 'GeneID:948570'])\n",
        " |      \n",
        " |      At the python prompt you can also use this shorthand:\n",
        " |      \n",
        " |      >>> rec\n",
        " |      SeqRecord(seq=Seq('MASRGVNKVILVGNLGQDPEVRYMPNGGAVANITLATSESWRDKATGEMKEQTE...IPF', ProteinAlphabet()), id='NP_418483.1', name='b4059', description='ssDNA-binding protein', dbxrefs=['ASAP:13298', 'GI:16131885', 'GeneID:948570'])\n",
        " |      \n",
        " |      Note that long sequences are shown truncated. Also note that any\n",
        " |      annotations, letter_annotations and features are not shown (as they\n",
        " |      would lead to a very long string).\n",
        " |  \n",
        " |  __str__(self)\n",
        " |      A human readable summary of the record and its annotation (string).\n",
        " |      \n",
        " |      The python built in function str works by calling the object's ___str__\n",
        " |      method.  e.g.\n",
        " |      \n",
        " |      >>> from Bio.Seq import Seq\n",
        " |      >>> from Bio.SeqRecord import SeqRecord\n",
        " |      >>> from Bio.Alphabet import IUPAC\n",
        " |      >>> record = SeqRecord(Seq(\"MKQHKAMIVALIVICITAVVAALVTRKDLCEVHIRTGQTEVAVF\",\n",
        " |      ...                         IUPAC.protein),\n",
        " |      ...                    id=\"YP_025292.1\", name=\"HokC\",\n",
        " |      ...                    description=\"toxic membrane protein, small\")\n",
        " |      >>> print(str(record))\n",
        " |      ID: YP_025292.1\n",
        " |      Name: HokC\n",
        " |      Description: toxic membrane protein, small\n",
        " |      Number of features: 0\n",
        " |      Seq('MKQHKAMIVALIVICITAVVAALVTRKDLCEVHIRTGQTEVAVF', IUPACProtein())\n",
        " |      \n",
        " |      In this example you don't actually need to call str explicity, as the\n",
        " |      print command does this automatically:\n",
        " |      \n",
        " |      >>> print(record)\n",
        " |      ID: YP_025292.1\n",
        " |      Name: HokC\n",
        " |      Description: toxic membrane protein, small\n",
        " |      Number of features: 0\n",
        " |      Seq('MKQHKAMIVALIVICITAVVAALVTRKDLCEVHIRTGQTEVAVF', IUPACProtein())\n",
        " |      \n",
        " |      Note that long sequences are shown truncated.\n",
        " |  \n",
        " |  format(self, format)\n",
        " |      Returns the record as a string in the specified file format.\n",
        " |      \n",
        " |      The format should be a lower case string supported as an output\n",
        " |      format by Bio.SeqIO, which is used to turn the SeqRecord into a\n",
        " |      string.  e.g.\n",
        " |      \n",
        " |      >>> from Bio.Seq import Seq\n",
        " |      >>> from Bio.SeqRecord import SeqRecord\n",
        " |      >>> from Bio.Alphabet import IUPAC\n",
        " |      >>> record = SeqRecord(Seq(\"MKQHKAMIVALIVICITAVVAALVTRKDLCEVHIRTGQTEVAVF\",\n",
        " |      ...                         IUPAC.protein),\n",
        " |      ...                    id=\"YP_025292.1\", name=\"HokC\",\n",
        " |      ...                    description=\"toxic membrane protein\")\n",
        " |      >>> record.format(\"fasta\")\n",
        " |      '>YP_025292.1 toxic membrane protein\\nMKQHKAMIVALIVICITAVVAALVTRKDLCEVHIRTGQTEVAVF\\n'\n",
        " |      >>> print(record.format(\"fasta\"))\n",
        " |      >YP_025292.1 toxic membrane protein\n",
        " |      MKQHKAMIVALIVICITAVVAALVTRKDLCEVHIRTGQTEVAVF\n",
        " |      <BLANKLINE>\n",
        " |      \n",
        " |      The python print command automatically appends a new line, meaning\n",
        " |      in this example a blank line is shown.  If you look at the string\n",
        " |      representation you can see there is a trailing new line (shown as\n",
        " |      slash n) which is important when writing to a file or if\n",
        " |      concatenating multiple sequence strings together.\n",
        " |      \n",
        " |      Note that this method will NOT work on every possible file format\n",
        " |      supported by Bio.SeqIO (e.g. some are for multiple sequences only).\n",
        " |  \n",
        " |  lower(self)\n",
        " |      Returns a copy of the record with a lower case sequence.\n",
        " |      \n",
        " |      All the annotation is preserved unchanged. e.g.\n",
        " |      \n",
        " |      >>> from Bio import SeqIO\n",
        " |      >>> record = SeqIO.read(\"Fasta/aster.pro\", \"fasta\")\n",
        " |      >>> print(record.format(\"fasta\"))\n",
        " |      >gi|3298468|dbj|BAA31520.1| SAMIPF\n",
        " |      GGHVNPAVTFGAFVGGNITLLRGIVYIIAQLLGSTVACLLLKFVTNDMAVGVFSLSAGVG\n",
        " |      VTNALVFEIVMTFGLVYTVYATAIDPKKGSLGTIAPIAIGFIVGANI\n",
        " |      <BLANKLINE>\n",
        " |      >>> print(record.lower().format(\"fasta\"))\n",
        " |      >gi|3298468|dbj|BAA31520.1| SAMIPF\n",
        " |      gghvnpavtfgafvggnitllrgivyiiaqllgstvaclllkfvtndmavgvfslsagvg\n",
        " |      vtnalvfeivmtfglvytvyataidpkkgslgtiapiaigfivgani\n",
        " |      <BLANKLINE>\n",
        " |      \n",
        " |      To take a more annotation rich example,\n",
        " |      \n",
        " |      >>> from Bio import SeqIO\n",
        " |      >>> old = SeqIO.read(\"EMBL/TRBG361.embl\", \"embl\")\n",
        " |      >>> len(old.features)\n",
        " |      3\n",
        " |      >>> new = old.lower()\n",
        " |      >>> len(old.features) == len(new.features)\n",
        " |      True\n",
        " |      >>> old.annotations[\"organism\"] == new.annotations[\"organism\"]\n",
        " |      True\n",
        " |      >>> old.dbxrefs == new.dbxrefs\n",
        " |      True\n",
        " |  \n",
        " |  reverse_complement(self, id=False, name=False, description=False, features=True, annotations=False, letter_annotations=True, dbxrefs=False)\n",
        " |      Returns new SeqRecord with reverse complement sequence.\n",
        " |      \n",
        " |      You can specify the returned record's id, name and description as\n",
        " |      strings, or True to keep that of the parent, or False for a default.\n",
        " |      \n",
        " |      You can specify the returned record's features with a list of\n",
        " |      SeqFeature objects, or True to keep that of the parent, or False to\n",
        " |      omit them. The default is to keep the original features (with the\n",
        " |      strand and locations adjusted).\n",
        " |      \n",
        " |      You can also specify both the returned record's annotations and\n",
        " |      letter_annotations as dictionaries, True to keep that of the parent,\n",
        " |      or False to omit them. The default is to keep the original\n",
        " |      annotations (with the letter annotations reversed).\n",
        " |      \n",
        " |      To show what happens to the pre-letter annotations, consider an\n",
        " |      example Solexa variant FASTQ file with a single entry, which we'll\n",
        " |      read in as a SeqRecord:\n",
        " |      \n",
        " |      >>> from Bio import SeqIO\n",
        " |      >>> record = SeqIO.read(\"Quality/solexa_faked.fastq\", \"fastq-solexa\")\n",
        " |      >>> print(\"%s %s\" % (record.id, record.seq))\n",
        " |      slxa_0001_1_0001_01 ACGTACGTACGTACGTACGTACGTACGTACGTACGTACGTNNNNNN\n",
        " |      >>> print(list(record.letter_annotations.keys()))\n",
        " |      ['solexa_quality']\n",
        " |      >>> print(record.letter_annotations[\"solexa_quality\"])\n",
        " |      [40, 39, 38, 37, 36, 35, 34, 33, 32, 31, 30, 29, 28, 27, 26, 25, 24, 23, 22, 21, 20, 19, 18, 17, 16, 15, 14, 13, 12, 11, 10, 9, 8, 7, 6, 5, 4, 3, 2, 1, 0, -1, -2, -3, -4, -5]\n",
        " |      \n",
        " |      Now take the reverse complement,\n",
        " |      \n",
        " |      >>> rc_record = record.reverse_complement(id=record.id+\"_rc\")\n",
        " |      >>> print(\"%s %s\" % (rc_record.id, rc_record.seq))\n",
        " |      slxa_0001_1_0001_01_rc NNNNNNACGTACGTACGTACGTACGTACGTACGTACGTACGTACGT\n",
        " |      \n",
        " |      Notice that the per-letter-annotations have also been reversed,\n",
        " |      although this may not be appropriate for all cases.\n",
        " |      \n",
        " |      >>> print(rc_record.letter_annotations[\"solexa_quality\"])\n",
        " |      [-5, -4, -3, -2, -1, 0, 1, 2, 3, 4, 5, 6, 7, 8, 9, 10, 11, 12, 13, 14, 15, 16, 17, 18, 19, 20, 21, 22, 23, 24, 25, 26, 27, 28, 29, 30, 31, 32, 33, 34, 35, 36, 37, 38, 39, 40]\n",
        " |      \n",
        " |      Now for the features, we need a different example. Parsing a GenBank\n",
        " |      file is probably the easiest way to get an nice example with features\n",
        " |      in it...\n",
        " |      \n",
        " |      >>> from Bio import SeqIO\n",
        " |      >>> with open(\"GenBank/pBAD30.gb\") as handle:\n",
        " |      ...     plasmid = SeqIO.read(handle, \"gb\")\n",
        " |      >>> print(\"%s %i\" % (plasmid.id, len(plasmid)))\n",
        " |      pBAD30 4923\n",
        " |      >>> plasmid.seq\n",
        " |      Seq('GCTAGCGGAGTGTATACTGGCTTACTATGTTGGCACTGATGAGGGTGTCAGTGA...ATG', IUPACAmbiguousDNA())\n",
        " |      >>> len(plasmid.features)\n",
        " |      13\n",
        " |      \n",
        " |      Now, let's take the reverse complement of this whole plasmid:\n",
        " |      \n",
        " |      >>> rc_plasmid = plasmid.reverse_complement(id=plasmid.id+\"_rc\")\n",
        " |      >>> print(\"%s %i\" % (rc_plasmid.id, len(rc_plasmid)))\n",
        " |      pBAD30_rc 4923\n",
        " |      >>> rc_plasmid.seq\n",
        " |      Seq('CATGGGCAAATATTATACGCAAGGCGACAAGGTGCTGATGCCGCTGGCGATTCA...AGC', IUPACAmbiguousDNA())\n",
        " |      >>> len(rc_plasmid.features)\n",
        " |      13\n",
        " |      \n",
        " |      Let's compare the first CDS feature - it has gone from being the\n",
        " |      second feature (index 1) to the second last feature (index -2), its\n",
        " |      strand has changed, and the location switched round.\n",
        " |      \n",
        " |      >>> print(plasmid.features[1])\n",
        " |      type: CDS\n",
        " |      location: [1081:1960](-)\n",
        " |      qualifiers: \n",
        " |          Key: label, Value: ['araC']\n",
        " |          Key: note, Value: ['araC regulator of the arabinose BAD promoter']\n",
        " |          Key: vntifkey, Value: ['4']\n",
        " |      <BLANKLINE>\n",
        " |      >>> print(rc_plasmid.features[-2])\n",
        " |      type: CDS\n",
        " |      location: [2963:3842](+)\n",
        " |      qualifiers: \n",
        " |          Key: label, Value: ['araC']\n",
        " |          Key: note, Value: ['araC regulator of the arabinose BAD promoter']\n",
        " |          Key: vntifkey, Value: ['4']\n",
        " |      <BLANKLINE>\n",
        " |      \n",
        " |      You can check this new location, based on the length of the plasmid:\n",
        " |      \n",
        " |      >>> len(plasmid) - 1081\n",
        " |      3842\n",
        " |      >>> len(plasmid) - 1960\n",
        " |      2963\n",
        " |      \n",
        " |      Note that if the SeqFeature annotation includes any strand specific\n",
        " |      information (e.g. base changes for a SNP), this information is not\n",
        " |      ammended, and would need correction after the reverse complement.\n",
        " |      \n",
        " |      Note trying to reverse complement a protein SeqRecord raises an\n",
        " |      exception:\n",
        " |      \n",
        " |      >>> from Bio.SeqRecord import SeqRecord\n",
        " |      >>> from Bio.Seq import Seq\n",
        " |      >>> from Bio.Alphabet import IUPAC\n",
        " |      >>> protein_rec = SeqRecord(Seq(\"MAIVMGR\", IUPAC.protein), id=\"Test\")\n",
        " |      >>> protein_rec.reverse_complement()\n",
        " |      Traceback (most recent call last):\n",
        " |         ...\n",
        " |      ValueError: Proteins do not have complements!\n",
        " |      \n",
        " |      Also note you can reverse complement a SeqRecord using a MutableSeq:\n",
        " |      \n",
        " |      >>> from Bio.SeqRecord import SeqRecord\n",
        " |      >>> from Bio.Seq import MutableSeq\n",
        " |      >>> from Bio.Alphabet import generic_dna\n",
        " |      >>> rec = SeqRecord(MutableSeq(\"ACGT\", generic_dna), id=\"Test\")\n",
        " |      >>> rec.seq[0] = \"T\"\n",
        " |      >>> print(\"%s %s\" % (rec.id, rec.seq))\n",
        " |      Test TCGT\n",
        " |      >>> rc = rec.reverse_complement(id=True)\n",
        " |      >>> print(\"%s %s\" % (rc.id, rc.seq))\n",
        " |      Test ACGA\n",
        " |  \n",
        " |  upper(self)\n",
        " |      Returns a copy of the record with an upper case sequence.\n",
        " |      \n",
        " |      All the annotation is preserved unchanged. e.g.\n",
        " |      \n",
        " |      >>> from Bio.Alphabet import generic_dna\n",
        " |      >>> from Bio.Seq import Seq\n",
        " |      >>> from Bio.SeqRecord import SeqRecord\n",
        " |      >>> record = SeqRecord(Seq(\"acgtACGT\", generic_dna), id=\"Test\",\n",
        " |      ...                    description = \"Made up for this example\")\n",
        " |      >>> record.letter_annotations[\"phred_quality\"] = [1, 2, 3, 4, 5, 6, 7, 8]\n",
        " |      >>> print(record.upper().format(\"fastq\"))\n",
        " |      @Test Made up for this example\n",
        " |      ACGTACGT\n",
        " |      +\n",
        " |      \"#$%&'()\n",
        " |      <BLANKLINE>\n",
        " |      \n",
        " |      Naturally, there is a matching lower method:\n",
        " |      \n",
        " |      >>> print(record.lower().format(\"fastq\"))\n",
        " |      @Test Made up for this example\n",
        " |      acgtacgt\n",
        " |      +\n",
        " |      \"#$%&'()\n",
        " |      <BLANKLINE>\n",
        " |  \n",
        " |  ----------------------------------------------------------------------\n",
        " |  Data descriptors defined here:\n",
        " |  \n",
        " |  __dict__\n",
        " |      dictionary for instance variables (if defined)\n",
        " |  \n",
        " |  __weakref__\n",
        " |      list of weak references to the object (if defined)\n",
        " |  \n",
        " |  letter_annotations\n",
        " |      Dictionary of per-letter-annotation for the sequence.\n",
        " |      \n",
        " |      For example, this can hold quality scores used in FASTQ or QUAL files.\n",
        " |      Consider this example using Bio.SeqIO to read in an example Solexa\n",
        " |      variant FASTQ file as a SeqRecord:\n",
        " |      \n",
        " |      >>> from Bio import SeqIO\n",
        " |      >>> record = SeqIO.read(\"Quality/solexa_faked.fastq\", \"fastq-solexa\")\n",
        " |      >>> print(\"%s %s\" % (record.id, record.seq))\n",
        " |      slxa_0001_1_0001_01 ACGTACGTACGTACGTACGTACGTACGTACGTACGTACGTNNNNNN\n",
        " |      >>> print(list(record.letter_annotations.keys()))\n",
        " |      ['solexa_quality']\n",
        " |      >>> print(record.letter_annotations[\"solexa_quality\"])\n",
        " |      [40, 39, 38, 37, 36, 35, 34, 33, 32, 31, 30, 29, 28, 27, 26, 25, 24, 23, 22, 21, 20, 19, 18, 17, 16, 15, 14, 13, 12, 11, 10, 9, 8, 7, 6, 5, 4, 3, 2, 1, 0, -1, -2, -3, -4, -5]\n",
        " |      \n",
        " |      The letter_annotations get sliced automatically if you slice the\n",
        " |      parent SeqRecord, for example taking the last ten bases:\n",
        " |      \n",
        " |      >>> sub_record = record[-10:]\n",
        " |      >>> print(\"%s %s\" % (sub_record.id, sub_record.seq))\n",
        " |      slxa_0001_1_0001_01 ACGTNNNNNN\n",
        " |      >>> print(sub_record.letter_annotations[\"solexa_quality\"])\n",
        " |      [4, 3, 2, 1, 0, -1, -2, -3, -4, -5]\n",
        " |      \n",
        " |      Any python sequence (i.e. list, tuple or string) can be recorded in\n",
        " |      the SeqRecord's letter_annotations dictionary as long as the length\n",
        " |      matches that of the SeqRecord's sequence.  e.g.\n",
        " |      \n",
        " |      >>> len(sub_record.letter_annotations)\n",
        " |      1\n",
        " |      >>> sub_record.letter_annotations[\"dummy\"] = \"abcdefghij\"\n",
        " |      >>> len(sub_record.letter_annotations)\n",
        " |      2\n",
        " |      \n",
        " |      You can delete entries from the letter_annotations dictionary as usual:\n",
        " |      \n",
        " |      >>> del sub_record.letter_annotations[\"solexa_quality\"]\n",
        " |      >>> sub_record.letter_annotations\n",
        " |      {'dummy': 'abcdefghij'}\n",
        " |      \n",
        " |      You can completely clear the dictionary easily as follows:\n",
        " |      \n",
        " |      >>> sub_record.letter_annotations = {}\n",
        " |      >>> sub_record.letter_annotations\n",
        " |      {}\n",
        " |  \n",
        " |  seq\n",
        " |      The sequence itself, as a Seq or MutableSeq object.\n",
        "\n"
       ]
      }
     ],
     "prompt_number": 2
    },
    {
     "cell_type": "markdown",
     "metadata": {},
     "source": [
      "## 4.1  The SeqRecord object"
     ]
    },
    {
     "cell_type": "markdown",
     "metadata": {},
     "source": [
      "The SeqRecord (Sequence Record) class is defined in the Bio.SeqRecord module. This class allows higher level features such as identifiers and features to be associated with a sequence (see Chapter 3), and is the basic data type for the Bio.SeqIO sequence input/output interface (see Chapter 5).\n",
      "\n",
      "The SeqRecord class itself is quite simple, and offers the following information as attributes:\n",
      "\n",
      ".seq\n",
      "    \n",
      "    \u2013 The sequence itself, typically a Seq object.\n",
      "    \n",
      ".id\n",
      "\n",
      "    \u2013 The primary ID used to identify the sequence \u2013 a string. In most cases this is something like an accession number.\n",
      "    \n",
      ".name\n",
      "\n",
      "    \u2013 A \u201ccommon\u201d name/id for the sequence \u2013 a string. In some cases this will be the same as the accession number, but it could also be a clone name. I think of this as being analogous to the LOCUS id in a GenBank record.\n",
      "\n",
      ".description\n",
      "\n",
      "    \u2013 A human readable description or expressive name for the sequence \u2013 a string.\n",
      "\n",
      ".letter_annotations\n",
      "\n",
      "    \u2013 Holds per-letter-annotations using a (restricted) dictionary of additional information about the letters in the sequence. The keys are the name of the information, and the information is contained in the value as a Python sequence (i.e. a list, tuple or string) with the same length as the sequence itself. This is often used for quality scores (e.g. Section 18.1.6) or secondary structure information (e.g. from Stockholm/PFAM alignment files).\n",
      "\n",
      ".annotations\n",
      "\n",
      "    \u2013 A dictionary of additional information about the sequence. The keys are the name of the information, and the information is contained in the value. This allows the addition of more \u201cunstructured\u201d information to the sequence.\n",
      "\n",
      ".features\n",
      "\n",
      "    \u2013 A list of SeqFeature objects with more structured information about the features on a sequence (e.g. position of genes on a genome, or domains on a protein sequence). The structure of sequence features is described below in Section 4.3.\n",
      "\n",
      ".dbxrefs\n",
      "\n",
      "    - A list of database cross-references as strings."
     ]
    },
    {
     "cell_type": "markdown",
     "metadata": {},
     "source": [
      "## 4.2  Creating a SeqRecord"
     ]
    },
    {
     "cell_type": "markdown",
     "metadata": {},
     "source": [
      "Using a SeqRecord object is not very complicated, since all of the information is presented as attributes of the class. Usually you won\u2019t create a SeqRecord \u201cby hand\u201d, but instead use Bio.SeqIO to read in a sequence file for you (see Chapter 5 and the examples below). However, creating SeqRecord can be quite simple."
     ]
    },
    {
     "cell_type": "markdown",
     "metadata": {},
     "source": [
      "### 4.2.1  SeqRecord objects from scratch"
     ]
    },
    {
     "cell_type": "markdown",
     "metadata": {},
     "source": [
      "To create a SeqRecord at a minimum you just need a Seq object:"
     ]
    },
    {
     "cell_type": "code",
     "collapsed": false,
     "input": [
      ">>> from Bio.Seq import Seq\n",
      ">>> simple_seq = Seq(\"GATC\")\n",
      ">>> from Bio.SeqRecord import SeqRecord\n",
      ">>> simple_seq_r = SeqRecord(simple_seq)"
     ],
     "language": "python",
     "metadata": {},
     "outputs": [],
     "prompt_number": 3
    },
    {
     "cell_type": "markdown",
     "metadata": {},
     "source": [
      "Additionally, you can also pass the id, name and description to the initialization function, but if not they will be set as strings indicating they are unknown, and can be modified subsequently:"
     ]
    },
    {
     "cell_type": "code",
     "collapsed": false,
     "input": [
      ">>> simple_seq_r.id"
     ],
     "language": "python",
     "metadata": {},
     "outputs": [
      {
       "metadata": {},
       "output_type": "pyout",
       "prompt_number": 4,
       "text": [
        "'<unknown id>'"
       ]
      }
     ],
     "prompt_number": 4
    },
    {
     "cell_type": "code",
     "collapsed": false,
     "input": [
      ">>> simple_seq_r.id = \"AC12345\"\n",
      ">>> simple_seq_r.description = \"Made up sequence I wish I could write a paper about\"\n",
      ">>> print(simple_seq_r.description)"
     ],
     "language": "python",
     "metadata": {},
     "outputs": [
      {
       "output_type": "stream",
       "stream": "stdout",
       "text": [
        "Made up sequence I wish I could write a paper about\n"
       ]
      }
     ],
     "prompt_number": 5
    },
    {
     "cell_type": "code",
     "collapsed": false,
     "input": [
      ">>> simple_seq_r.seq"
     ],
     "language": "python",
     "metadata": {},
     "outputs": [
      {
       "metadata": {},
       "output_type": "pyout",
       "prompt_number": 6,
       "text": [
        "Seq('GATC', Alphabet())"
       ]
      }
     ],
     "prompt_number": 6
    },
    {
     "cell_type": "markdown",
     "metadata": {},
     "source": [
      "Including an identifier is very important if you want to output your SeqRecord to a file. You would normally include this when creating the object:"
     ]
    },
    {
     "cell_type": "code",
     "collapsed": false,
     "input": [
      ">>> from Bio.Seq import Seq\n",
      ">>> simple_seq = Seq(\"GATC\")\n",
      ">>> from Bio.SeqRecord import SeqRecord\n",
      ">>> simple_seq_r = SeqRecord(simple_seq, id=\"AC12345\")"
     ],
     "language": "python",
     "metadata": {},
     "outputs": [],
     "prompt_number": 7
    },
    {
     "cell_type": "markdown",
     "metadata": {},
     "source": [
      "As mentioned above, the SeqRecord has an dictionary attribute annotations. This is used for any miscellaneous annotations that doesn\u2019t fit under one of the other more specific attributes. Adding annotations is easy, and just involves dealing directly with the annotation dictionary:"
     ]
    },
    {
     "cell_type": "code",
     "collapsed": false,
     "input": [
      ">>> simple_seq_r.annotations[\"evidence\"] = \"None. I just made it up.\"\n",
      ">>> print(simple_seq_r.annotations)"
     ],
     "language": "python",
     "metadata": {},
     "outputs": [
      {
       "output_type": "stream",
       "stream": "stdout",
       "text": [
        "{'evidence': 'None. I just made it up.'}\n"
       ]
      }
     ],
     "prompt_number": 8
    },
    {
     "cell_type": "code",
     "collapsed": false,
     "input": [
      ">>> print(simple_seq_r.annotations[\"evidence\"])"
     ],
     "language": "python",
     "metadata": {},
     "outputs": [
      {
       "output_type": "stream",
       "stream": "stdout",
       "text": [
        "None. I just made it up.\n"
       ]
      }
     ],
     "prompt_number": 9
    },
    {
     "cell_type": "markdown",
     "metadata": {},
     "source": [
      "Working with per-letter-annotations is similar, letter_annotations is a dictionary like attribute which will let you assign any Python sequence (i.e. a string, list or tuple) which has the same length as the sequence:"
     ]
    },
    {
     "cell_type": "code",
     "collapsed": false,
     "input": [
      ">>> simple_seq_r.letter_annotations[\"phred_quality\"] = [40, 40, 38, 30]\n",
      ">>> print(simple_seq_r.letter_annotations)"
     ],
     "language": "python",
     "metadata": {},
     "outputs": [
      {
       "output_type": "stream",
       "stream": "stdout",
       "text": [
        "{'phred_quality': [40, 40, 38, 30]}\n"
       ]
      }
     ],
     "prompt_number": 10
    },
    {
     "cell_type": "code",
     "collapsed": false,
     "input": [
      ">>> print(simple_seq_r.letter_annotations[\"phred_quality\"])"
     ],
     "language": "python",
     "metadata": {},
     "outputs": [
      {
       "output_type": "stream",
       "stream": "stdout",
       "text": [
        "[40, 40, 38, 30]\n"
       ]
      }
     ],
     "prompt_number": 11
    },
    {
     "cell_type": "markdown",
     "metadata": {},
     "source": [
      "The dbxrefs and features attributes are just Python lists, and should be used to store strings and SeqFeature objects (discussed later in this chapter) respectively."
     ]
    },
    {
     "cell_type": "markdown",
     "metadata": {},
     "source": [
      "### 4.2.2  SeqRecord objects from FASTA files"
     ]
    },
    {
     "cell_type": "markdown",
     "metadata": {},
     "source": [
      "This example uses a fairly large FASTA file containing the whole sequence for Yersinia pestis biovar Microtus str. 91001 plasmid pPCP1, originally downloaded from the NCBI. This file is included with the Biopython unit tests under the GenBank folder, or online [NC_005816.fna](http://biopython.org/SRC/biopython/Tests/GenBank/NC_005816.fna) from our website.\n",
      "\n",
      "The file starts like this - and you can check there is only one record present (i.e. only one line starting with a greater than symbol):\n",
      "\n",
      "```\n",
      ">gi|45478711|ref|NC_005816.1| Yersinia pestis biovar Microtus ... pPCP1, complete sequence\n",
      "TGTAACGAACGGTGCAATAGTGATCCACACCCAACGCCTGAAATCAGATCCAGGGGGTAATCTGCTCTCC\n",
      "...\n",
      "```\n",
      "\n",
      "Back in Chapter 2 you will have seen the function Bio.SeqIO.parse(...) used to loop over all the records in a file as SeqRecord objects. The Bio.SeqIO module has a sister function for use on files which contain just one record which we\u2019ll use here (see Chapter 5 for details):"
     ]
    },
    {
     "cell_type": "code",
     "collapsed": false,
     "input": [
      ">>> from Bio import SeqIO\n",
      ">>> record = SeqIO.read(\"NC_005816.fna\", \"fasta\")\n",
      ">>> record"
     ],
     "language": "python",
     "metadata": {},
     "outputs": [
      {
       "metadata": {},
       "output_type": "pyout",
       "prompt_number": 44,
       "text": [
        "SeqRecord(seq=Seq('TGTAACGAACGGTGCAATAGTGATCCACACCCAACGCCTGAAATCAGATCCAGG...CTG', SingleLetterAlphabet()), id='gi|45478711|ref|NC_005816.1|', name='gi|45478711|ref|NC_005816.1|', description='gi|45478711|ref|NC_005816.1| Yersinia pestis biovar Microtus str. 91001 plasmid pPCP1, complete sequence', dbxrefs=[])"
       ]
      }
     ],
     "prompt_number": 44
    },
    {
     "cell_type": "markdown",
     "metadata": {},
     "source": [
      "Now, let\u2019s have a look at the key attributes of this SeqRecord individually \u2013 starting with the seq attribute which gives you a Seq object:"
     ]
    },
    {
     "cell_type": "code",
     "collapsed": false,
     "input": [
      ">>> record.seq"
     ],
     "language": "python",
     "metadata": {},
     "outputs": [
      {
       "metadata": {},
       "output_type": "pyout",
       "prompt_number": 45,
       "text": [
        "Seq('TGTAACGAACGGTGCAATAGTGATCCACACCCAACGCCTGAAATCAGATCCAGG...CTG', SingleLetterAlphabet())"
       ]
      }
     ],
     "prompt_number": 45
    },
    {
     "cell_type": "markdown",
     "metadata": {},
     "source": [
      "Here Bio.SeqIO has defaulted to a generic alphabet, rather than guessing that this is DNA. If you know in advance what kind of sequence your FASTA file contains, you can tell Bio.SeqIO which alphabet to use (see Chapter 5).\n",
      "\n",
      "Next, the identifiers and description:"
     ]
    },
    {
     "cell_type": "code",
     "collapsed": false,
     "input": [
      ">>> record.id"
     ],
     "language": "python",
     "metadata": {},
     "outputs": [
      {
       "metadata": {},
       "output_type": "pyout",
       "prompt_number": 46,
       "text": [
        "'gi|45478711|ref|NC_005816.1|'"
       ]
      }
     ],
     "prompt_number": 46
    },
    {
     "cell_type": "code",
     "collapsed": false,
     "input": [
      ">>> record.name"
     ],
     "language": "python",
     "metadata": {},
     "outputs": [
      {
       "metadata": {},
       "output_type": "pyout",
       "prompt_number": 47,
       "text": [
        "'gi|45478711|ref|NC_005816.1|'"
       ]
      }
     ],
     "prompt_number": 47
    },
    {
     "cell_type": "code",
     "collapsed": false,
     "input": [
      ">>> record.description"
     ],
     "language": "python",
     "metadata": {},
     "outputs": [
      {
       "metadata": {},
       "output_type": "pyout",
       "prompt_number": 48,
       "text": [
        "'gi|45478711|ref|NC_005816.1| Yersinia pestis biovar Microtus str. 91001 plasmid pPCP1, complete sequence'"
       ]
      }
     ],
     "prompt_number": 48
    },
    {
     "cell_type": "markdown",
     "metadata": {},
     "source": [
      "As you can see above, the first word of the FASTA record\u2019s title line (after removing the greater than symbol) is used for both the id and name attributes. The whole title line (after removing the greater than symbol) is used for the record description. This is deliberate, partly for backwards compatibility reasons, but it also makes sense if you have a FASTA file like this:\n",
      "```\n",
      ">Yersinia pestis biovar Microtus str. 91001 plasmid pPCP1\n",
      "TGTAACGAACGGTGCAATAGTGATCCACACCCAACGCCTGAAATCAGATCCAGGGGGTAATCTGCTCTCC\n",
      "...\n",
      "```\n",
      "Note that none of the other annotation attributes get populated when reading a FASTA file:"
     ]
    },
    {
     "cell_type": "code",
     "collapsed": false,
     "input": [
      ">>> record.dbxrefs"
     ],
     "language": "python",
     "metadata": {},
     "outputs": [
      {
       "metadata": {},
       "output_type": "pyout",
       "prompt_number": 49,
       "text": [
        "[]"
       ]
      }
     ],
     "prompt_number": 49
    },
    {
     "cell_type": "code",
     "collapsed": false,
     "input": [
      ">>> record.annotations"
     ],
     "language": "python",
     "metadata": {},
     "outputs": [
      {
       "metadata": {},
       "output_type": "pyout",
       "prompt_number": 50,
       "text": [
        "{}"
       ]
      }
     ],
     "prompt_number": 50
    },
    {
     "cell_type": "code",
     "collapsed": false,
     "input": [
      ">>> record.letter_annotations"
     ],
     "language": "python",
     "metadata": {},
     "outputs": [
      {
       "metadata": {},
       "output_type": "pyout",
       "prompt_number": 51,
       "text": [
        "{}"
       ]
      }
     ],
     "prompt_number": 51
    },
    {
     "cell_type": "code",
     "collapsed": false,
     "input": [
      ">>> record.features"
     ],
     "language": "python",
     "metadata": {},
     "outputs": [
      {
       "metadata": {},
       "output_type": "pyout",
       "prompt_number": 52,
       "text": [
        "[]"
       ]
      }
     ],
     "prompt_number": 52
    },
    {
     "cell_type": "markdown",
     "metadata": {},
     "source": [
      "In this case our example FASTA file was from the NCBI, and they have a fairly well defined set of conventions for formatting their FASTA lines. This means it would be possible to parse this information and extract the GI number and accession for example. However, FASTA files from other sources vary, so this isn\u2019t possible in general."
     ]
    },
    {
     "cell_type": "markdown",
     "metadata": {},
     "source": [
      "### 4.2.3  SeqRecord objects from GenBank files"
     ]
    },
    {
     "cell_type": "markdown",
     "metadata": {},
     "source": [
      "As in the previous example, we\u2019re going to look at the whole sequence for Yersinia pestis biovar Microtus str. 91001 plasmid pPCP1, originally downloaded from the NCBI, but this time as a GenBank file. Again, this file is included with the Biopython unit tests under the GenBank folder, or online [NC_005816.gb](http://biopython.org/SRC/biopython/Tests/GenBank/NC_005816.gb) from our website.\n",
      "\n",
      "This file contains a single record (i.e. only one LOCUS line) and starts:\n",
      "```\n",
      "LOCUS       NC_005816               9609 bp    DNA     circular BCT 21-JUL-2008\n",
      "DEFINITION  Yersinia pestis biovar Microtus str. 91001 plasmid pPCP1, complete\n",
      "            sequence.\n",
      "ACCESSION   NC_005816\n",
      "VERSION     NC_005816.1  GI:45478711\n",
      "PROJECT     GenomeProject:10638\n",
      "...\n",
      "```\n",
      "Again, we\u2019ll use Bio.SeqIO to read this file in, and the code is almost identical to that for used above for the FASTA file (see Chapter 5 for details):"
     ]
    },
    {
     "cell_type": "code",
     "collapsed": false,
     "input": [
      ">>> from Bio import SeqIO\n",
      ">>> record = SeqIO.read(\"NC_005816.gb\", \"genbank\")\n",
      ">>> record"
     ],
     "language": "python",
     "metadata": {},
     "outputs": [
      {
       "metadata": {},
       "output_type": "pyout",
       "prompt_number": 56,
       "text": [
        "SeqRecord(seq=Seq('TGTAACGAACGGTGCAATAGTGATCCACACCCAACGCCTGAAATCAGATCCAGG...CTG', IUPACAmbiguousDNA()), id='NC_005816.1', name='NC_005816', description='Yersinia pestis biovar Microtus str. 91001 plasmid pPCP1, complete sequence.', dbxrefs=['Project:58037'])"
       ]
      }
     ],
     "prompt_number": 56
    },
    {
     "cell_type": "markdown",
     "metadata": {},
     "source": [
      "You should be able to spot some differences already! But taking the attributes individually, the sequence string is the same as before, but this time Bio.SeqIO has been able to automatically assign a more specific alphabet (see Chapter 5 for details):"
     ]
    },
    {
     "cell_type": "code",
     "collapsed": false,
     "input": [
      ">>> record.seq"
     ],
     "language": "python",
     "metadata": {},
     "outputs": [
      {
       "metadata": {},
       "output_type": "pyout",
       "prompt_number": 57,
       "text": [
        "Seq('TGTAACGAACGGTGCAATAGTGATCCACACCCAACGCCTGAAATCAGATCCAGG...CTG', IUPACAmbiguousDNA())"
       ]
      }
     ],
     "prompt_number": 57
    },
    {
     "cell_type": "markdown",
     "metadata": {},
     "source": [
      "The name comes from the LOCUS line, while the id includes the version suffix. The description comes from the DEFINITION line:"
     ]
    },
    {
     "cell_type": "code",
     "collapsed": false,
     "input": [
      ">>> record.id"
     ],
     "language": "python",
     "metadata": {},
     "outputs": [
      {
       "metadata": {},
       "output_type": "pyout",
       "prompt_number": 58,
       "text": [
        "'NC_005816.1'"
       ]
      }
     ],
     "prompt_number": 58
    },
    {
     "cell_type": "code",
     "collapsed": false,
     "input": [
      ">>> record.name"
     ],
     "language": "python",
     "metadata": {},
     "outputs": [
      {
       "metadata": {},
       "output_type": "pyout",
       "prompt_number": 59,
       "text": [
        "'NC_005816'"
       ]
      }
     ],
     "prompt_number": 59
    },
    {
     "cell_type": "code",
     "collapsed": false,
     "input": [
      ">>> record.description"
     ],
     "language": "python",
     "metadata": {},
     "outputs": [
      {
       "metadata": {},
       "output_type": "pyout",
       "prompt_number": 60,
       "text": [
        "'Yersinia pestis biovar Microtus str. 91001 plasmid pPCP1, complete sequence.'"
       ]
      }
     ],
     "prompt_number": 60
    },
    {
     "cell_type": "markdown",
     "metadata": {},
     "source": [
      "GenBank files don\u2019t have any per-letter annotations:"
     ]
    },
    {
     "cell_type": "code",
     "collapsed": false,
     "input": [
      ">>> record.letter_annotations"
     ],
     "language": "python",
     "metadata": {},
     "outputs": [
      {
       "metadata": {},
       "output_type": "pyout",
       "prompt_number": 61,
       "text": [
        "{}"
       ]
      }
     ],
     "prompt_number": 61
    },
    {
     "cell_type": "markdown",
     "metadata": {},
     "source": [
      "Most of the annotations information gets recorded in the annotations dictionary, for example:"
     ]
    },
    {
     "cell_type": "code",
     "collapsed": false,
     "input": [
      ">>> len(record.annotations)"
     ],
     "language": "python",
     "metadata": {},
     "outputs": [
      {
       "metadata": {},
       "output_type": "pyout",
       "prompt_number": 62,
       "text": [
        "11"
       ]
      }
     ],
     "prompt_number": 62
    },
    {
     "cell_type": "code",
     "collapsed": false,
     "input": [
      ">>> record.annotations[\"source\"]"
     ],
     "language": "python",
     "metadata": {},
     "outputs": [
      {
       "metadata": {},
       "output_type": "pyout",
       "prompt_number": 63,
       "text": [
        "'Yersinia pestis biovar Microtus str. 91001'"
       ]
      }
     ],
     "prompt_number": 63
    },
    {
     "cell_type": "markdown",
     "metadata": {},
     "source": [
      "The dbxrefs list gets populated from any PROJECT or DBLINK lines:"
     ]
    },
    {
     "cell_type": "code",
     "collapsed": false,
     "input": [
      ">>> record.dbxrefs"
     ],
     "language": "python",
     "metadata": {},
     "outputs": [
      {
       "metadata": {},
       "output_type": "pyout",
       "prompt_number": 64,
       "text": [
        "['Project:58037']"
       ]
      }
     ],
     "prompt_number": 64
    },
    {
     "cell_type": "markdown",
     "metadata": {},
     "source": [
      "Finally, and perhaps most interestingly, all the entries in the features table (e.g. the genes or CDS features) get recorded as SeqFeature objects in the features list."
     ]
    },
    {
     "cell_type": "code",
     "collapsed": false,
     "input": [
      ">>> len(record.features)"
     ],
     "language": "python",
     "metadata": {},
     "outputs": [
      {
       "metadata": {},
       "output_type": "pyout",
       "prompt_number": 65,
       "text": [
        "41"
       ]
      }
     ],
     "prompt_number": 65
    },
    {
     "cell_type": "markdown",
     "metadata": {},
     "source": [
      "We\u2019ll talk about SeqFeature objects next, in Section 4.3."
     ]
    },
    {
     "cell_type": "markdown",
     "metadata": {},
     "source": [
      "## 4.3  Feature, location and position objects"
     ]
    },
    {
     "cell_type": "markdown",
     "metadata": {},
     "source": [
      "### 4.3.1  SeqFeature objects"
     ]
    },
    {
     "cell_type": "markdown",
     "metadata": {},
     "source": [
      "Sequence features are an essential part of describing a sequence. Once you get beyond the sequence itself, you need some way to organize and easily get at the more \u201cabstract\u201d information that is known about the sequence. While it is probably impossible to develop a general sequence feature class that will cover everything, the Biopython SeqFeature class attempts to encapsulate as much of the information about the sequence as possible. The design is heavily based on the GenBank/EMBL feature tables, so if you understand how they look, you\u2019ll probably have an easier time grasping the structure of the Biopython classes.\n",
      "\n",
      "The key idea about each SeqFeature object is to describe a region on a parent sequence, typically a SeqRecord object. That region is described with a location object, typically a range between two positions (see Section 4.3.2 below).\n",
      "\n",
      "The SeqFeature class has a number of attributes, so first we\u2019ll list them and their general features, and then later in the chapter work through examples to show how this applies to a real life example. The attributes of a SeqFeature are:"
     ]
    },
    {
     "cell_type": "markdown",
     "metadata": {},
     "source": [
      ".type\n",
      "\n",
      "    \u2013 This is a textual description of the type of feature (for instance, this will be something like \u2018CDS\u2019 or \u2018gene\u2019).\n",
      "\n",
      ".location\n",
      "\n",
      "    \u2013 The location of the SeqFeature on the sequence that you are dealing with, see Section 4.3.2 below. The SeqFeature delegates much of its functionality to the location object, and includes a number of shortcut attributes for properties of the location:\n",
      "\n",
      ".ref\n",
      "\n",
      "    \u2013 shorthand for .location.ref \u2013 any (different) reference sequence the location is referring to. Usually just None.\n",
      "\n",
      ".ref_db\n",
      "    \n",
      "    \u2013 shorthand for .location.ref_db \u2013 specifies the database any identifier in .ref refers to. Usually just None.\n",
      "\n",
      ".strand\n",
      "\n",
      "    \u2013 shorthand for .location.strand \u2013 the strand on the sequence that the feature is located on. For double stranded nucleotide sequence this may either be 1 for the top strand, \u22121 for the bottom strand, 0 if the strand is important but is unknown, or None if it doesn\u2019t matter. This is None for proteins, or single stranded sequences.\n",
      "\n",
      ".qualifiers\n",
      "\n",
      "    \u2013 This is a Python dictionary of additional information about the feature. The key is some kind of terse one-word description of what the information contained in the value is about, and the value is the actual information. For example, a common key for a qualifier might be \u201cevidence\u201d and the value might be \u201ccomputational (non-experimental).\u201d This is just a way to let the person who is looking at the feature know that it has not be experimentally (i. e. in a wet lab) confirmed. Note that other the value will be a list of strings (even when there is only one string). This is a reflection of the feature tables in GenBank/EMBL files.\n",
      "\n",
      ".sub_features\n",
      "\n",
      "    \u2013 This used to be used to represent features with complicated locations like \u2018joins\u2019 in GenBank/EMBL files. This has been deprecated with the introduction of the CompoundLocation object, and should now be ignored."
     ]
    },
    {
     "cell_type": "markdown",
     "metadata": {},
     "source": [
      "### 4.3.2  Positions and locations\n",
      "\n",
      "The key idea about each SeqFeature object is to describe a region on a parent sequence, for which we use a location object, typically describing a range between two positions. Two try to clarify the terminology we\u2019re using:\n",
      "\n",
      "position\n",
      "\n",
      "    \u2013 This refers to a single position on a sequence, which may be fuzzy or not. For instance, 5, 20, <100 and >200 are all positions.\n",
      "\n",
      "location\n",
      "\n",
      "    \u2013 A location is region of sequence bounded by some positions. For instance 5..20 (i. e. 5 to 20) is a location.\n",
      "\n",
      "I just mention this because sometimes I get confused between the two."
     ]
    },
    {
     "cell_type": "markdown",
     "metadata": {},
     "source": [
      "#### 4.3.2.1  FeatureLocation object\n",
      "\n",
      "Unless you work with eukaryotic genes, most SeqFeature locations are extremely simple - you just need start and end coordinates and a strand. That\u2019s essentially all the basic FeatureLocation object does.\n",
      "\n",
      "In practise of course, things can be more complicated. First of all we have to handle compound locations made up of several regions. Secondly, the positions themselves may be fuzzy (inexact)."
     ]
    },
    {
     "cell_type": "markdown",
     "metadata": {},
     "source": [
      "#### 4.3.2.2  CompoundLocation object\n",
      "\n",
      "Biopython 1.62 introduced the CompoundLocation as part of a restructuring of how complex locations made up of multiple regions are represented. The main usage is for handling \u2018join\u2019 locations in EMBL/GenBank files."
     ]
    },
    {
     "cell_type": "markdown",
     "metadata": {},
     "source": [
      "#### 4.3.2.3  Fuzzy Positions\n",
      "\n",
      "So far we\u2019ve only used simple positions. One complication in dealing with feature locations comes in the positions themselves. In biology many times things aren\u2019t entirely certain (as much as us wet lab biologists try to make them certain!). For instance, you might do a dinucleotide priming experiment and discover that the start of mRNA transcript starts at one of two sites. This is very useful information, but the complication comes in how to represent this as a position. To help us deal with this, we have the concept of fuzzy positions. Basically there are several types of fuzzy positions, so we have five classes do deal with them:"
     ]
    },
    {
     "cell_type": "markdown",
     "metadata": {},
     "source": [
      "ExactPosition\n",
      "\n",
      "    \u2013 As its name suggests, this class represents a position which is specified as exact along the sequence. This is represented as just a number, and you can get the position by looking at the position attribute of the object.\n",
      "\n",
      "BeforePosition\n",
      "\n",
      "    \u2013 This class represents a fuzzy position that occurs prior to some specified site. In GenBank/EMBL notation, this is represented as something like `<13', signifying that the real position is located somewhere less than 13. To get the specified upper boundary, look at the position attribute of the object.\n",
      "\n",
      "AfterPosition\n",
      "\n",
      "    \u2013 Contrary to BeforePosition, this class represents a position that occurs after some specified site. This is represented in GenBank as `>13', and like BeforePosition, you get the boundary number by looking at the position attribute of the object.\n",
      "\n",
      "WithinPosition\n",
      "\n",
      "    \u2013 Occasionally used for GenBank/EMBL locations, this class models a position which occurs somewhere between two specified nucleotides. In GenBank/EMBL notation, this would be represented as \u2018(1.5)\u2019, to represent that the position is somewhere within the range 1 to 5. To get the information in this class you have to look at two attributes. The position attribute specifies the lower boundary of the range we are looking at, so in our example case this would be one. The extension attribute specifies the range to the higher boundary, so in this case it would be 4. So object.position is the lower boundary and object.position + object.extension is the upper boundary.\n",
      "\n",
      "OneOfPosition\n",
      "\n",
      "    \u2013 Occasionally used for GenBank/EMBL locations, this class deals with a position where several possible values exist, for instance you could use this if the start codon was unclear and there where two candidates for the start of the gene. Alternatively, that might be handled explicitly as two related gene features.\n",
      "\n",
      "UnknownPosition\n",
      "\n",
      "    \u2013 This class deals with a position of unknown location. This is not used in GenBank/EMBL, but corresponds to the \u2018?\u2019 feature coordinate used in UniProt.\n",
      "\n",
      "Here\u2019s an example where we create a location with fuzzy end points:"
     ]
    },
    {
     "cell_type": "code",
     "collapsed": false,
     "input": [
      ">>> from Bio import SeqFeature\n",
      ">>> start_pos = SeqFeature.AfterPosition(5)\n",
      ">>> end_pos = SeqFeature.BetweenPosition(9, left=8, right=9)\n",
      ">>> my_location = SeqFeature.FeatureLocation(start_pos, end_pos)"
     ],
     "language": "python",
     "metadata": {},
     "outputs": [],
     "prompt_number": 66
    },
    {
     "cell_type": "markdown",
     "metadata": {},
     "source": [
      "Note that the details of some of the fuzzy-locations changed in Biopython 1.59, in particular for BetweenPosition and WithinPosition you must now make it explicit which integer position should be used for slicing etc. For a start position this is generally the lower (left) value, while for an end position this would generally be the higher (right) value.\n",
      "\n",
      "If you print out a FeatureLocation object, you can get a nice representation of the information:"
     ]
    },
    {
     "cell_type": "code",
     "collapsed": false,
     "input": [
      ">>> print(my_location)"
     ],
     "language": "python",
     "metadata": {},
     "outputs": [
      {
       "output_type": "stream",
       "stream": "stdout",
       "text": [
        "[>5:(8^9)]\n"
       ]
      }
     ],
     "prompt_number": 67
    },
    {
     "cell_type": "markdown",
     "metadata": {},
     "source": [
      "We can access the fuzzy start and end positions using the start and end attributes of the location:"
     ]
    },
    {
     "cell_type": "code",
     "collapsed": false,
     "input": [
      ">>> my_location.start"
     ],
     "language": "python",
     "metadata": {},
     "outputs": [
      {
       "metadata": {},
       "output_type": "pyout",
       "prompt_number": 68,
       "text": [
        "AfterPosition(5)"
       ]
      }
     ],
     "prompt_number": 68
    },
    {
     "cell_type": "code",
     "collapsed": false,
     "input": [
      ">>> print(my_location.start)"
     ],
     "language": "python",
     "metadata": {},
     "outputs": [
      {
       "output_type": "stream",
       "stream": "stdout",
       "text": [
        ">5\n"
       ]
      }
     ],
     "prompt_number": 69
    },
    {
     "cell_type": "code",
     "collapsed": false,
     "input": [
      ">>> my_location.end"
     ],
     "language": "python",
     "metadata": {},
     "outputs": [
      {
       "metadata": {},
       "output_type": "pyout",
       "prompt_number": 70,
       "text": [
        "BetweenPosition(9, left=8, right=9)"
       ]
      }
     ],
     "prompt_number": 70
    },
    {
     "cell_type": "code",
     "collapsed": false,
     "input": [
      ">>> print(my_location.end)"
     ],
     "language": "python",
     "metadata": {},
     "outputs": [
      {
       "output_type": "stream",
       "stream": "stdout",
       "text": [
        "(8^9)\n"
       ]
      }
     ],
     "prompt_number": 71
    },
    {
     "cell_type": "markdown",
     "metadata": {},
     "source": [
      "If you don\u2019t want to deal with fuzzy positions and just want numbers, they are actually subclasses of integers so should work like integers:"
     ]
    },
    {
     "cell_type": "code",
     "collapsed": false,
     "input": [
      ">>> int(my_location.start)"
     ],
     "language": "python",
     "metadata": {},
     "outputs": [
      {
       "metadata": {},
       "output_type": "pyout",
       "prompt_number": 72,
       "text": [
        "5"
       ]
      }
     ],
     "prompt_number": 72
    },
    {
     "cell_type": "code",
     "collapsed": false,
     "input": [
      ">>> int(my_location.end)"
     ],
     "language": "python",
     "metadata": {},
     "outputs": [
      {
       "metadata": {},
       "output_type": "pyout",
       "prompt_number": 73,
       "text": [
        "9"
       ]
      }
     ],
     "prompt_number": 73
    },
    {
     "cell_type": "markdown",
     "metadata": {},
     "source": [
      "For compatibility with older versions of Biopython you can ask for the nofuzzy_start and nofuzzy_end attributes of the location which are plain integers:"
     ]
    },
    {
     "cell_type": "code",
     "collapsed": false,
     "input": [
      ">>> my_location.nofuzzy_start"
     ],
     "language": "python",
     "metadata": {},
     "outputs": [
      {
       "metadata": {},
       "output_type": "pyout",
       "prompt_number": 74,
       "text": [
        "5"
       ]
      }
     ],
     "prompt_number": 74
    },
    {
     "cell_type": "code",
     "collapsed": false,
     "input": [
      ">>> my_location.nofuzzy_end"
     ],
     "language": "python",
     "metadata": {},
     "outputs": [
      {
       "metadata": {},
       "output_type": "pyout",
       "prompt_number": 75,
       "text": [
        "9"
       ]
      }
     ],
     "prompt_number": 75
    },
    {
     "cell_type": "markdown",
     "metadata": {},
     "source": [
      "Notice that this just gives you back the position attributes of the fuzzy locations.\n",
      "\n",
      "Similarly, to make it easy to create a position without worrying about fuzzy positions, you can just pass in numbers to the FeaturePosition constructors, and you\u2019ll get back out ExactPosition objects:"
     ]
    },
    {
     "cell_type": "code",
     "collapsed": false,
     "input": [
      ">>> exact_location = SeqFeature.FeatureLocation(5, 9)\n",
      ">>> print(exact_location)"
     ],
     "language": "python",
     "metadata": {},
     "outputs": [
      {
       "output_type": "stream",
       "stream": "stdout",
       "text": [
        "[5:9]\n"
       ]
      }
     ],
     "prompt_number": 76
    },
    {
     "cell_type": "code",
     "collapsed": false,
     "input": [
      ">>> exact_location.start"
     ],
     "language": "python",
     "metadata": {},
     "outputs": [
      {
       "metadata": {},
       "output_type": "pyout",
       "prompt_number": 77,
       "text": [
        "ExactPosition(5)"
       ]
      }
     ],
     "prompt_number": 77
    },
    {
     "cell_type": "code",
     "collapsed": false,
     "input": [
      ">>> int(exact_location.start)"
     ],
     "language": "python",
     "metadata": {},
     "outputs": [
      {
       "metadata": {},
       "output_type": "pyout",
       "prompt_number": 78,
       "text": [
        "5"
       ]
      }
     ],
     "prompt_number": 78
    },
    {
     "cell_type": "code",
     "collapsed": false,
     "input": [
      ">>> exact_location.nofuzzy_start"
     ],
     "language": "python",
     "metadata": {},
     "outputs": [
      {
       "metadata": {},
       "output_type": "pyout",
       "prompt_number": 79,
       "text": [
        "5"
       ]
      }
     ],
     "prompt_number": 79
    },
    {
     "cell_type": "markdown",
     "metadata": {},
     "source": [
      "That is most of the nitty gritty about dealing with fuzzy positions in Biopython. It has been designed so that dealing with fuzziness is not that much more complicated than dealing with exact positions, and hopefully you find that true!"
     ]
    },
    {
     "cell_type": "markdown",
     "metadata": {},
     "source": [
      "#### 4.3.2.4  Location testing\n",
      "\n",
      "You can use the Python keyword in with a SeqFeature or location object to see if the base/residue for a parent coordinate is within the feature/location or not.\n",
      "\n",
      "For example, suppose you have a SNP of interest and you want to know which features this SNP is within, and lets suppose this SNP is at index 4350 (Python counting!). Here is a simple brute force solution where we just check all the features one by one in a loop:"
     ]
    },
    {
     "cell_type": "code",
     "collapsed": false,
     "input": [
      ">>> from Bio import SeqIO\n",
      ">>> my_snp = 4350\n",
      ">>> record = SeqIO.read(\"NC_005816.gb\", \"genbank\")\n",
      ">>> for feature in record.features:\n",
      "...     if my_snp in feature:\n",
      "...         print(\"%s %s\" % (feature.type, feature.qualifiers.get('db_xref')))\n",
      "... "
     ],
     "language": "python",
     "metadata": {},
     "outputs": [
      {
       "output_type": "stream",
       "stream": "stdout",
       "text": [
        "source ['taxon:229193']\n",
        "gene ['GeneID:2767712']\n",
        "CDS ['GI:45478716', 'GeneID:2767712']\n"
       ]
      }
     ],
     "prompt_number": 80
    },
    {
     "cell_type": "markdown",
     "metadata": {},
     "source": [
      "Note that gene and CDS features from GenBank or EMBL files defined with joins are the union of the exons \u2013 they do not cover any introns."
     ]
    },
    {
     "cell_type": "markdown",
     "metadata": {},
     "source": [
      "### 4.3.3  Sequence described by a feature or location\n",
      "\n",
      "A SeqFeature or location object doesn\u2019t directly contain a sequence, instead the location (see Section 4.3.2) describes how to get this from the parent sequence. For example consider a (short) gene sequence with location 5:18 on the reverse strand, which in GenBank/EMBL notation using 1-based counting would be complement(6..18), like this:"
     ]
    },
    {
     "cell_type": "code",
     "collapsed": false,
     "input": [
      ">>> from Bio.Seq import Seq\n",
      ">>> from Bio.SeqFeature import SeqFeature, FeatureLocation\n",
      ">>> example_parent = Seq(\"ACCGAGACGGCAAAGGCTAGCATAGGTATGAGACTTCCTTCCTGCCAGTGCTGAGGAACTGGGAGCCTAC\")\n",
      ">>> example_feature = SeqFeature(FeatureLocation(5, 18), type=\"gene\", strand=-1)"
     ],
     "language": "python",
     "metadata": {},
     "outputs": [],
     "prompt_number": 81
    },
    {
     "cell_type": "markdown",
     "metadata": {},
     "source": [
      "You could take the parent sequence, slice it to extract 5:18, and then take the reverse complement. If you are using Biopython 1.59 or later, the feature location\u2019s start and end are integer like so this works:"
     ]
    },
    {
     "cell_type": "code",
     "collapsed": false,
     "input": [
      ">>> feature_seq = example_parent[example_feature.location.start:example_feature.location.end].reverse_complement()\n",
      ">>> print(feature_seq)"
     ],
     "language": "python",
     "metadata": {},
     "outputs": [
      {
       "output_type": "stream",
       "stream": "stdout",
       "text": [
        "AGCCTTTGCCGTC\n"
       ]
      }
     ],
     "prompt_number": 82
    },
    {
     "cell_type": "markdown",
     "metadata": {},
     "source": [
      "This is a simple example so this isn\u2019t too bad \u2013 however once you have to deal with compound features (joins) this is rather messy. Instead, the SeqFeature object has an extract method to take care of all this:"
     ]
    },
    {
     "cell_type": "code",
     "collapsed": false,
     "input": [
      ">>> feature_seq = example_feature.extract(example_parent)\n",
      ">>> print(feature_seq)"
     ],
     "language": "python",
     "metadata": {},
     "outputs": [
      {
       "output_type": "stream",
       "stream": "stdout",
       "text": [
        "AGCCTTTGCCGTC\n"
       ]
      }
     ],
     "prompt_number": 83
    },
    {
     "cell_type": "markdown",
     "metadata": {},
     "source": [
      "The length of a SeqFeature or location matches that of the region of sequence it describes."
     ]
    },
    {
     "cell_type": "code",
     "collapsed": false,
     "input": [
      ">>> print(example_feature.extract(example_parent))"
     ],
     "language": "python",
     "metadata": {},
     "outputs": [
      {
       "output_type": "stream",
       "stream": "stdout",
       "text": [
        "AGCCTTTGCCGTC\n"
       ]
      }
     ],
     "prompt_number": 84
    },
    {
     "cell_type": "code",
     "collapsed": false,
     "input": [
      ">>> print(len(example_feature.extract(example_parent)))"
     ],
     "language": "python",
     "metadata": {},
     "outputs": [
      {
       "output_type": "stream",
       "stream": "stdout",
       "text": [
        "13\n"
       ]
      }
     ],
     "prompt_number": 85
    },
    {
     "cell_type": "code",
     "collapsed": false,
     "input": [
      ">>> print(len(example_feature))"
     ],
     "language": "python",
     "metadata": {},
     "outputs": [
      {
       "output_type": "stream",
       "stream": "stdout",
       "text": [
        "13\n"
       ]
      }
     ],
     "prompt_number": 86
    },
    {
     "cell_type": "code",
     "collapsed": false,
     "input": [
      ">>> print(len(example_feature))"
     ],
     "language": "python",
     "metadata": {},
     "outputs": [
      {
       "output_type": "stream",
       "stream": "stdout",
       "text": [
        "13\n"
       ]
      }
     ],
     "prompt_number": 87
    },
    {
     "cell_type": "markdown",
     "metadata": {},
     "source": [
      "For simple FeatureLocation objects the length is just the difference between the start and end positions. However, for a CompoundLocation the length is the sum of the constituent regions."
     ]
    },
    {
     "cell_type": "markdown",
     "metadata": {},
     "source": [
      "## 4.4  References"
     ]
    },
    {
     "cell_type": "markdown",
     "metadata": {},
     "source": [
      "Another common annotation related to a sequence is a reference to a journal or other published work dealing with the sequence. We have a fairly simple way of representing a Reference in Biopython \u2013 we have a Bio.SeqFeature.Reference class that stores the relevant information about a reference as attributes of an object.\n",
      "\n",
      "The attributes include things that you would expect to see in a reference like journal, title and authors. Additionally, it also can hold the medline_id and pubmed_id and a comment about the reference. These are all accessed simply as attributes of the object.\n",
      "\n",
      "A reference also has a location object so that it can specify a particular location on the sequence that the reference refers to. For instance, you might have a journal that is dealing with a particular gene located on a BAC, and want to specify that it only refers to this position exactly. The location is a potentially fuzzy location, as described in section 4.3.2.\n",
      "\n",
      "Any reference objects are stored as a list in the SeqRecord object\u2019s annotations dictionary under the key \u201creferences\u201d. That\u2019s all there is too it. References are meant to be easy to deal with, and hopefully general enough to cover lots of usage cases."
     ]
    },
    {
     "cell_type": "markdown",
     "metadata": {},
     "source": [
      "## 4.5  The format method"
     ]
    },
    {
     "cell_type": "markdown",
     "metadata": {},
     "source": [
      "The format() method of the SeqRecord class gives a string containing your record formatted using one of the output file formats supported by Bio.SeqIO, such as FASTA:"
     ]
    },
    {
     "cell_type": "code",
     "collapsed": false,
     "input": [
      "from Bio.Seq import Seq\n",
      "from Bio.SeqRecord import SeqRecord\n",
      "from Bio.Alphabet import generic_protein\n",
      "\n",
      "record = SeqRecord(Seq(\"MMYQQGCFAGGTVLRLAKDLAENNRGARVLVVCSEITAVTFRGPSETHLDSMVGQALFGD\" \\\n",
      "                      +\"GAGAVIVGSDPDLSVERPLYELVWTGATLLPDSEGAIDGHLREVGLTFHLLKDVPGLISK\" \\\n",
      "                      +\"NIEKSLKEAFTPLGISDWNSTFWIAHPGGPAILDQVEAKLGLKEEKMRATREVLSEYGNM\" \\\n",
      "                      +\"SSAC\", generic_protein),\n",
      "                   id=\"gi|14150838|gb|AAK54648.1|AF376133_1\",\n",
      "                   description=\"chalcone synthase [Cucumis sativus]\")\n",
      "                   \n",
      "print(record.format(\"fasta\"))"
     ],
     "language": "python",
     "metadata": {},
     "outputs": [
      {
       "output_type": "stream",
       "stream": "stdout",
       "text": [
        ">gi|14150838|gb|AAK54648.1|AF376133_1 chalcone synthase [Cucumis sativus]\n",
        "MMYQQGCFAGGTVLRLAKDLAENNRGARVLVVCSEITAVTFRGPSETHLDSMVGQALFGD\n",
        "GAGAVIVGSDPDLSVERPLYELVWTGATLLPDSEGAIDGHLREVGLTFHLLKDVPGLISK\n",
        "NIEKSLKEAFTPLGISDWNSTFWIAHPGGPAILDQVEAKLGLKEEKMRATREVLSEYGNM\n",
        "SSAC\n",
        "\n"
       ]
      }
     ],
     "prompt_number": 88
    },
    {
     "cell_type": "markdown",
     "metadata": {},
     "source": [
      "which should give:\n",
      "```\n",
      ">gi|14150838|gb|AAK54648.1|AF376133_1 chalcone synthase [Cucumis sativus]\n",
      "MMYQQGCFAGGTVLRLAKDLAENNRGARVLVVCSEITAVTFRGPSETHLDSMVGQALFGD\n",
      "GAGAVIVGSDPDLSVERPLYELVWTGATLLPDSEGAIDGHLREVGLTFHLLKDVPGLISK\n",
      "NIEKSLKEAFTPLGISDWNSTFWIAHPGGPAILDQVEAKLGLKEEKMRATREVLSEYGNM\n",
      "SSAC\n",
      "```\n",
      "This format method takes a single mandatory argument, a lower case string which is supported by Bio.SeqIO as an output format (see Chapter 5). However, some of the file formats Bio.SeqIO can write to require more than one record (typically the case for multiple sequence alignment formats), and thus won\u2019t work via this format() method. See also Section 5.5.4."
     ]
    },
    {
     "cell_type": "markdown",
     "metadata": {},
     "source": [
      "## 4.6  Slicing a SeqRecord"
     ]
    },
    {
     "cell_type": "markdown",
     "metadata": {},
     "source": [
      "You can slice a SeqRecord, to give you a new SeqRecord covering just part of the sequence. What is important here is that any per-letter annotations are also sliced, and any features which fall completely within the new sequence are preserved (with their locations adjusted).\n",
      "\n",
      "For example, taking the same GenBank file used earlier:"
     ]
    },
    {
     "cell_type": "code",
     "collapsed": false,
     "input": [
      ">>> from Bio import SeqIO\n",
      ">>> record = SeqIO.read(\"NC_005816.gb\", \"genbank\")\n",
      ">>> record"
     ],
     "language": "python",
     "metadata": {},
     "outputs": [
      {
       "metadata": {},
       "output_type": "pyout",
       "prompt_number": 89,
       "text": [
        "SeqRecord(seq=Seq('TGTAACGAACGGTGCAATAGTGATCCACACCCAACGCCTGAAATCAGATCCAGG...CTG', IUPACAmbiguousDNA()), id='NC_005816.1', name='NC_005816', description='Yersinia pestis biovar Microtus str. 91001 plasmid pPCP1, complete sequence.', dbxrefs=['Project:58037'])"
       ]
      }
     ],
     "prompt_number": 89
    },
    {
     "cell_type": "code",
     "collapsed": false,
     "input": [
      ">>> len(record)"
     ],
     "language": "python",
     "metadata": {},
     "outputs": [
      {
       "metadata": {},
       "output_type": "pyout",
       "prompt_number": 90,
       "text": [
        "9609"
       ]
      }
     ],
     "prompt_number": 90
    },
    {
     "cell_type": "code",
     "collapsed": false,
     "input": [
      ">>> len(record.features)"
     ],
     "language": "python",
     "metadata": {},
     "outputs": [
      {
       "metadata": {},
       "output_type": "pyout",
       "prompt_number": 91,
       "text": [
        "41"
       ]
      }
     ],
     "prompt_number": 91
    },
    {
     "cell_type": "markdown",
     "metadata": {},
     "source": [
      "For this example we\u2019re going to focus in on the pim gene, YP_pPCP05. If you have a look at the GenBank file directly you\u2019ll find this gene/CDS has location string 4343..4780, or in Python counting 4342:4780. From looking at the file you can work out that these are the twelfth and thirteenth entries in the file, so in Python zero-based counting they are entries 11 and 12 in the features list:"
     ]
    },
    {
     "cell_type": "code",
     "collapsed": false,
     "input": [
      ">>> print(record.features[20])"
     ],
     "language": "python",
     "metadata": {},
     "outputs": [
      {
       "output_type": "stream",
       "stream": "stdout",
       "text": [
        "type: gene\n",
        "location: [4342:4780](+)\n",
        "qualifiers: \n",
        "    Key: db_xref, Value: ['GeneID:2767712']\n",
        "    Key: gene, Value: ['pim']\n",
        "    Key: locus_tag, Value: ['YP_pPCP05']\n",
        "\n"
       ]
      }
     ],
     "prompt_number": 92
    },
    {
     "cell_type": "code",
     "collapsed": false,
     "input": [
      ">>> print(record.features[21])"
     ],
     "language": "python",
     "metadata": {},
     "outputs": [
      {
       "output_type": "stream",
       "stream": "stdout",
       "text": [
        "type: CDS\n",
        "location: [4342:4780](+)\n",
        "qualifiers: \n",
        "    Key: codon_start, Value: ['1']\n",
        "    Key: db_xref, Value: ['GI:45478716', 'GeneID:2767712']\n",
        "    Key: gene, Value: ['pim']\n",
        "    Key: locus_tag, Value: ['YP_pPCP05']\n",
        "    Key: note, Value: ['similar to many previously sequenced pesticin immunity protein entries of Yersinia pestis plasmid pPCP, e.g. gi| 16082683|,ref|NP_395230.1| (NC_003132) , gi|1200166|emb|CAA90861.1| (Z54145 ) , gi|1488655| emb|CAA63439.1| (X92856) , gi|2996219|gb|AAC62543.1| (AF053945) , and gi|5763814|emb|CAB531 67.1| (AL109969)']\n",
        "    Key: product, Value: ['pesticin immunity protein']\n",
        "    Key: protein_id, Value: ['NP_995571.1']\n",
        "    Key: transl_table, Value: ['11']\n",
        "    Key: translation, Value: ['MGGGMISKLFCLALIFLSSSGLAEKNTYTAKDILQNLELNTFGNSLSHGIYGKQTTFKQTEFTNIKSNTKKHIALINKDNSWMISLKILGIKRDEYTVCFEDFSLIRPPTYVAIHPLLIKKVKSGNFIVVKEIKKSIPGCTVYYH']\n",
        "\n"
       ]
      }
     ],
     "prompt_number": 93
    },
    {
     "cell_type": "markdown",
     "metadata": {},
     "source": [
      "Let\u2019s slice this parent record from 4300 to 4800 (enough to include the pim gene/CDS), and see how many features we get:"
     ]
    },
    {
     "cell_type": "code",
     "collapsed": false,
     "input": [
      ">>> sub_record = record[4300:4800]\n",
      ">>> sub_record"
     ],
     "language": "python",
     "metadata": {},
     "outputs": [
      {
       "metadata": {},
       "output_type": "pyout",
       "prompt_number": 94,
       "text": [
        "SeqRecord(seq=Seq('ATAAATAGATTATTCCAAATAATTTATTTATGTAAGAACAGGATGGGAGGGGGA...TTA', IUPACAmbiguousDNA()), id='NC_005816.1', name='NC_005816', description='Yersinia pestis biovar Microtus str. 91001 plasmid pPCP1, complete sequence.', dbxrefs=[])"
       ]
      }
     ],
     "prompt_number": 94
    },
    {
     "cell_type": "code",
     "collapsed": false,
     "input": [
      ">>> len(sub_record)"
     ],
     "language": "python",
     "metadata": {},
     "outputs": [
      {
       "metadata": {},
       "output_type": "pyout",
       "prompt_number": 95,
       "text": [
        "500"
       ]
      }
     ],
     "prompt_number": 95
    },
    {
     "cell_type": "code",
     "collapsed": false,
     "input": [
      ">>> len(sub_record.features)"
     ],
     "language": "python",
     "metadata": {},
     "outputs": [
      {
       "metadata": {},
       "output_type": "pyout",
       "prompt_number": 96,
       "text": [
        "2"
       ]
      }
     ],
     "prompt_number": 96
    },
    {
     "cell_type": "markdown",
     "metadata": {},
     "source": [
      "Our sub-record just has two features, the gene and CDS entries for YP_pPCP05:"
     ]
    },
    {
     "cell_type": "code",
     "collapsed": false,
     "input": [
      ">>> print(sub_record.features[0])"
     ],
     "language": "python",
     "metadata": {},
     "outputs": [
      {
       "output_type": "stream",
       "stream": "stdout",
       "text": [
        "type: gene\n",
        "location: [42:480](+)\n",
        "qualifiers: \n",
        "    Key: db_xref, Value: ['GeneID:2767712']\n",
        "    Key: gene, Value: ['pim']\n",
        "    Key: locus_tag, Value: ['YP_pPCP05']\n",
        "\n"
       ]
      }
     ],
     "prompt_number": 97
    },
    {
     "cell_type": "code",
     "collapsed": false,
     "input": [
      ">>> print(sub_record.features[1]) #On the tutorial is 20, which will give error result"
     ],
     "language": "python",
     "metadata": {},
     "outputs": [
      {
       "output_type": "stream",
       "stream": "stdout",
       "text": [
        "type: CDS\n",
        "location: [42:480](+)\n",
        "qualifiers: \n",
        "    Key: codon_start, Value: ['1']\n",
        "    Key: db_xref, Value: ['GI:45478716', 'GeneID:2767712']\n",
        "    Key: gene, Value: ['pim']\n",
        "    Key: locus_tag, Value: ['YP_pPCP05']\n",
        "    Key: note, Value: ['similar to many previously sequenced pesticin immunity protein entries of Yersinia pestis plasmid pPCP, e.g. gi| 16082683|,ref|NP_395230.1| (NC_003132) , gi|1200166|emb|CAA90861.1| (Z54145 ) , gi|1488655| emb|CAA63439.1| (X92856) , gi|2996219|gb|AAC62543.1| (AF053945) , and gi|5763814|emb|CAB531 67.1| (AL109969)']\n",
        "    Key: product, Value: ['pesticin immunity protein']\n",
        "    Key: protein_id, Value: ['NP_995571.1']\n",
        "    Key: transl_table, Value: ['11']\n",
        "    Key: translation, Value: ['MGGGMISKLFCLALIFLSSSGLAEKNTYTAKDILQNLELNTFGNSLSHGIYGKQTTFKQTEFTNIKSNTKKHIALINKDNSWMISLKILGIKRDEYTVCFEDFSLIRPPTYVAIHPLLIKKVKSGNFIVVKEIKKSIPGCTVYYH']\n",
        "\n"
       ]
      }
     ],
     "prompt_number": 100
    },
    {
     "cell_type": "markdown",
     "metadata": {},
     "source": [
      "Notice that their locations have been adjusted to reflect the new parent sequence!\n",
      "\n",
      "While Biopython has done something sensible and hopefully intuitive with the features (and any per-letter annotation), for the other annotation it is impossible to know if this still applies to the sub-sequence or not. To avoid guessing, the annotations and dbxrefs are omitted from the sub-record, and it is up to you to transfer any relevant information as appropriate."
     ]
    },
    {
     "cell_type": "code",
     "collapsed": false,
     "input": [
      ">>> sub_record.annotations"
     ],
     "language": "python",
     "metadata": {},
     "outputs": [
      {
       "metadata": {},
       "output_type": "pyout",
       "prompt_number": 101,
       "text": [
        "{}"
       ]
      }
     ],
     "prompt_number": 101
    },
    {
     "cell_type": "code",
     "collapsed": false,
     "input": [
      ">>> sub_record.dbxrefs"
     ],
     "language": "python",
     "metadata": {},
     "outputs": [
      {
       "metadata": {},
       "output_type": "pyout",
       "prompt_number": 102,
       "text": [
        "[]"
       ]
      }
     ],
     "prompt_number": 102
    },
    {
     "cell_type": "markdown",
     "metadata": {},
     "source": [
      "The same point could be made about the record id, name and description, but for practicality these are preserved:"
     ]
    },
    {
     "cell_type": "code",
     "collapsed": false,
     "input": [
      ">>> sub_record.id"
     ],
     "language": "python",
     "metadata": {},
     "outputs": [
      {
       "metadata": {},
       "output_type": "pyout",
       "prompt_number": 103,
       "text": [
        "'NC_005816.1'"
       ]
      }
     ],
     "prompt_number": 103
    },
    {
     "cell_type": "code",
     "collapsed": false,
     "input": [
      ">>> sub_record.name"
     ],
     "language": "python",
     "metadata": {},
     "outputs": [
      {
       "metadata": {},
       "output_type": "pyout",
       "prompt_number": 104,
       "text": [
        "'NC_005816'"
       ]
      }
     ],
     "prompt_number": 104
    },
    {
     "cell_type": "code",
     "collapsed": false,
     "input": [
      ">>> sub_record.description"
     ],
     "language": "python",
     "metadata": {},
     "outputs": [
      {
       "metadata": {},
       "output_type": "pyout",
       "prompt_number": 105,
       "text": [
        "'Yersinia pestis biovar Microtus str. 91001 plasmid pPCP1, complete sequence.'"
       ]
      }
     ],
     "prompt_number": 105
    },
    {
     "cell_type": "markdown",
     "metadata": {},
     "source": [
      "This illustrates the problem nicely though, our new sub-record is not the complete sequence of the plasmid, so the description is wrong! Let\u2019s fix this and then view the sub-record as a reduced GenBank file using the format method described above in Section 4.5:"
     ]
    },
    {
     "cell_type": "code",
     "collapsed": false,
     "input": [
      ">>> sub_record.description = \"Yersinia pestis biovar Microtus str. 91001 plasmid pPCP1, partial.\"\n",
      ">>> print(sub_record.format(\"genbank\"))"
     ],
     "language": "python",
     "metadata": {},
     "outputs": [
      {
       "output_type": "stream",
       "stream": "stdout",
       "text": [
        "LOCUS       NC_005816                500 bp    DNA              UNK 01-JAN-1980\n",
        "DEFINITION  Yersinia pestis biovar Microtus str. 91001 plasmid pPCP1, partial.\n",
        "ACCESSION   NC_005816\n",
        "VERSION     NC_005816.1\n",
        "KEYWORDS    .\n",
        "SOURCE      .\n",
        "  ORGANISM  .\n",
        "            .\n",
        "FEATURES             Location/Qualifiers\n",
        "     gene            43..480\n",
        "                     /db_xref=\"GeneID:2767712\"\n",
        "                     /locus_tag=\"YP_pPCP05\"\n",
        "                     /gene=\"pim\"\n",
        "     CDS             43..480\n",
        "                     /locus_tag=\"YP_pPCP05\"\n",
        "                     /codon_start=1\n",
        "                     /product=\"pesticin immunity protein\"\n",
        "                     /transl_table=11\n",
        "                     /note=\"similar to many previously sequenced pesticin\n",
        "                     immunity protein entries of Yersinia pestis plasmid pPCP,\n",
        "                     e.g. gi| 16082683|,ref|NP_395230.1| (NC_003132) ,\n",
        "                     gi|1200166|emb|CAA90861.1| (Z54145 ) , gi|1488655|\n",
        "                     emb|CAA63439.1| (X92856) , gi|2996219|gb|AAC62543.1|\n",
        "                     (AF053945) , and gi|5763814|emb|CAB531 67.1| (AL109969)\"\n",
        "                     /db_xref=\"GI:45478716\"\n",
        "                     /db_xref=\"GeneID:2767712\"\n",
        "                     /translation=\"MGGGMISKLFCLALIFLSSSGLAEKNTYTAKDILQNLELNTFGNS\n",
        "                     LSHGIYGKQTTFKQTEFTNIKSNTKKHIALINKDNSWMISLKILGIKRDEYTVCFEDFS\n",
        "                     LIRPPTYVAIHPLLIKKVKSGNFIVVKEIKKSIPGCTVYYH\"\n",
        "                     /gene=\"pim\"\n",
        "                     /protein_id=\"NP_995571.1\"\n",
        "ORIGIN\n",
        "        1 ataaatagat tattccaaat aatttattta tgtaagaaca ggatgggagg gggaatgatc\n",
        "       61 tcaaagttat tttgcttggc tctcatattt ttatcatcaa gtggccttgc agaaaaaaac\n",
        "      121 acatatacag caaaagacat cttgcaaaac ctagaattaa atacctttgg caattcattg\n",
        "      181 tctcatggca tctatgggaa acagacaacc ttcaagcaaa ccgagtttac aaatattaaa\n",
        "      241 agcaacacca aaaaacacat tgcacttatc aataaagaca actcatggat gatatcatta\n",
        "      301 aaaatactag gaattaagag agatgagtat actgtctgtt ttgaagattt ctctctaata\n",
        "      361 agaccgccaa catatgtagc catacatcct ctacttataa aaaaagtaaa atctggaaac\n",
        "      421 tttatagtag tgaaagaaat aaagaaatct atccctggtt gcactgtata ttatcattaa\n",
        "      481 tagcaagccc ctcattatta\n",
        "//\n",
        "\n"
       ]
      }
     ],
     "prompt_number": 107
    },
    {
     "cell_type": "markdown",
     "metadata": {},
     "source": [
      "See Sections 18.1.7 and 18.1.8 for some FASTQ examples where the per-letter annotations (the read quality scores) are also sliced."
     ]
    },
    {
     "cell_type": "markdown",
     "metadata": {},
     "source": [
      "## 4.7  Adding SeqRecord objects"
     ]
    },
    {
     "cell_type": "markdown",
     "metadata": {},
     "source": [
      "You can add SeqRecord objects together, giving a new SeqRecord. What is important here is that any common per-letter annotations are also added, all the features are preserved (with their locations adjusted), and any other common annotation is also kept (like the id, name and description).\n",
      "\n",
      "For an [example](http://biopython.org/SRC/biopython/Tests/Quality/example.fastq) with per-letter annotation, we\u2019ll use the first record in a FASTQ file. Chapter 5 will explain the SeqIO functions:"
     ]
    },
    {
     "cell_type": "code",
     "collapsed": false,
     "input": [
      ">>> from Bio import SeqIO\n",
      ">>> record = next(SeqIO.parse(\"example.fastq\", \"fastq\"))\n",
      ">>> len(record)"
     ],
     "language": "python",
     "metadata": {},
     "outputs": [
      {
       "metadata": {},
       "output_type": "pyout",
       "prompt_number": 110,
       "text": [
        "25"
       ]
      }
     ],
     "prompt_number": 110
    },
    {
     "cell_type": "code",
     "collapsed": false,
     "input": [
      ">>> print(record.seq)"
     ],
     "language": "python",
     "metadata": {},
     "outputs": [
      {
       "output_type": "stream",
       "stream": "stdout",
       "text": [
        "CCCTTCTTGTCTTCAGCGTTTCTCC\n"
       ]
      }
     ],
     "prompt_number": 112
    },
    {
     "cell_type": "code",
     "collapsed": false,
     "input": [
      ">>> print(record.letter_annotations[\"phred_quality\"])"
     ],
     "language": "python",
     "metadata": {},
     "outputs": [
      {
       "output_type": "stream",
       "stream": "stdout",
       "text": [
        "[26, 26, 18, 26, 26, 26, 26, 26, 26, 26, 26, 26, 26, 26, 26, 22, 26, 26, 26, 26, 26, 26, 26, 23, 23]\n"
       ]
      }
     ],
     "prompt_number": 113
    },
    {
     "cell_type": "markdown",
     "metadata": {},
     "source": [
      "Let\u2019s suppose this was Roche 454 data, and that from other information you think the TTT should be only TT. We can make a new edited record by first slicing the SeqRecord before and after the \u201cextra\u201d third T:"
     ]
    },
    {
     "cell_type": "code",
     "collapsed": false,
     "input": [
      ">>> left = record[:20]\n",
      ">>> print(left.seq)"
     ],
     "language": "python",
     "metadata": {},
     "outputs": [
      {
       "output_type": "stream",
       "stream": "stdout",
       "text": [
        "CCCTTCTTGTCTTCAGCGTT\n"
       ]
      }
     ],
     "prompt_number": 114
    },
    {
     "cell_type": "code",
     "collapsed": false,
     "input": [
      ">>> print(left.letter_annotations[\"phred_quality\"])"
     ],
     "language": "python",
     "metadata": {},
     "outputs": [
      {
       "output_type": "stream",
       "stream": "stdout",
       "text": [
        "[26, 26, 18, 26, 26, 26, 26, 26, 26, 26, 26, 26, 26, 26, 26, 22, 26, 26, 26, 26]\n"
       ]
      }
     ],
     "prompt_number": 115
    },
    {
     "cell_type": "code",
     "collapsed": false,
     "input": [
      ">>> right = record[21:]\n",
      ">>> print(right.seq)"
     ],
     "language": "python",
     "metadata": {},
     "outputs": [
      {
       "output_type": "stream",
       "stream": "stdout",
       "text": [
        "CTCC\n"
       ]
      }
     ],
     "prompt_number": 116
    },
    {
     "cell_type": "code",
     "collapsed": false,
     "input": [
      ">>> print(right.letter_annotations[\"phred_quality\"])"
     ],
     "language": "python",
     "metadata": {},
     "outputs": [
      {
       "output_type": "stream",
       "stream": "stdout",
       "text": [
        "[26, 26, 23, 23]\n"
       ]
      }
     ],
     "prompt_number": 117
    },
    {
     "cell_type": "markdown",
     "metadata": {},
     "source": [
      "Now add the two parts together:"
     ]
    },
    {
     "cell_type": "code",
     "collapsed": false,
     "input": [
      ">>> edited = left + right\n",
      ">>> len(edited)"
     ],
     "language": "python",
     "metadata": {},
     "outputs": [
      {
       "metadata": {},
       "output_type": "pyout",
       "prompt_number": 118,
       "text": [
        "24"
       ]
      }
     ],
     "prompt_number": 118
    },
    {
     "cell_type": "code",
     "collapsed": false,
     "input": [
      ">>> print(edited.seq)"
     ],
     "language": "python",
     "metadata": {},
     "outputs": [
      {
       "output_type": "stream",
       "stream": "stdout",
       "text": [
        "CCCTTCTTGTCTTCAGCGTTCTCC\n"
       ]
      }
     ],
     "prompt_number": 119
    },
    {
     "cell_type": "code",
     "collapsed": false,
     "input": [
      ">>> print(edited.letter_annotations[\"phred_quality\"])"
     ],
     "language": "python",
     "metadata": {},
     "outputs": [
      {
       "output_type": "stream",
       "stream": "stdout",
       "text": [
        "[26, 26, 18, 26, 26, 26, 26, 26, 26, 26, 26, 26, 26, 26, 26, 22, 26, 26, 26, 26, 26, 26, 23, 23]\n"
       ]
      }
     ],
     "prompt_number": 120
    },
    {
     "cell_type": "markdown",
     "metadata": {},
     "source": [
      "Easy and intuitive? We hope so! You can make this shorter with just:"
     ]
    },
    {
     "cell_type": "code",
     "collapsed": false,
     "input": [
      ">>> edited = record[:20] + record[21:]"
     ],
     "language": "python",
     "metadata": {},
     "outputs": [],
     "prompt_number": 121
    },
    {
     "cell_type": "markdown",
     "metadata": {},
     "source": [
      "Now, for an example with features, we\u2019ll use a GenBank file. Suppose you have a circular genome:"
     ]
    },
    {
     "cell_type": "code",
     "collapsed": false,
     "input": [
      ">>> from Bio import SeqIO\n",
      ">>> record = SeqIO.read(\"NC_005816.gb\", \"genbank\")\n",
      ">>> record"
     ],
     "language": "python",
     "metadata": {},
     "outputs": [
      {
       "metadata": {},
       "output_type": "pyout",
       "prompt_number": 122,
       "text": [
        "SeqRecord(seq=Seq('TGTAACGAACGGTGCAATAGTGATCCACACCCAACGCCTGAAATCAGATCCAGG...CTG', IUPACAmbiguousDNA()), id='NC_005816.1', name='NC_005816', description='Yersinia pestis biovar Microtus str. 91001 plasmid pPCP1, complete sequence.', dbxrefs=['Project:58037'])"
       ]
      }
     ],
     "prompt_number": 122
    },
    {
     "cell_type": "code",
     "collapsed": false,
     "input": [
      ">>> len(record)"
     ],
     "language": "python",
     "metadata": {},
     "outputs": [
      {
       "metadata": {},
       "output_type": "pyout",
       "prompt_number": 123,
       "text": [
        "9609"
       ]
      }
     ],
     "prompt_number": 123
    },
    {
     "cell_type": "code",
     "collapsed": false,
     "input": [
      ">>> len(record.features)"
     ],
     "language": "python",
     "metadata": {},
     "outputs": [
      {
       "metadata": {},
       "output_type": "pyout",
       "prompt_number": 124,
       "text": [
        "41"
       ]
      }
     ],
     "prompt_number": 124
    },
    {
     "cell_type": "code",
     "collapsed": false,
     "input": [
      ">>> record.dbxrefs"
     ],
     "language": "python",
     "metadata": {},
     "outputs": [
      {
       "metadata": {},
       "output_type": "pyout",
       "prompt_number": 125,
       "text": [
        "['Project:58037']"
       ]
      }
     ],
     "prompt_number": 125
    },
    {
     "cell_type": "code",
     "collapsed": false,
     "input": [
      ">>> record.annotations.keys()"
     ],
     "language": "python",
     "metadata": {},
     "outputs": [
      {
       "metadata": {},
       "output_type": "pyout",
       "prompt_number": 126,
       "text": [
        "['comment',\n",
        " 'sequence_version',\n",
        " 'source',\n",
        " 'taxonomy',\n",
        " 'keywords',\n",
        " 'references',\n",
        " 'accessions',\n",
        " 'data_file_division',\n",
        " 'date',\n",
        " 'organism',\n",
        " 'gi']"
       ]
      }
     ],
     "prompt_number": 126
    },
    {
     "cell_type": "markdown",
     "metadata": {},
     "source": [
      "You can shift the origin like this:"
     ]
    },
    {
     "cell_type": "code",
     "collapsed": false,
     "input": [
      ">>> shifted = record[2000:] + record[:2000]\n",
      ">>> shifted"
     ],
     "language": "python",
     "metadata": {},
     "outputs": [
      {
       "metadata": {},
       "output_type": "pyout",
       "prompt_number": 127,
       "text": [
        "SeqRecord(seq=Seq('GATACGCAGTCATATTTTTTACACAATTCTCTAATCCCGACAAGGTCGTAGGTC...GGA', IUPACAmbiguousDNA()), id='NC_005816.1', name='NC_005816', description='Yersinia pestis biovar Microtus str. 91001 plasmid pPCP1, complete sequence.', dbxrefs=[])"
       ]
      }
     ],
     "prompt_number": 127
    },
    {
     "cell_type": "code",
     "collapsed": false,
     "input": [
      ">>> len(shifted)"
     ],
     "language": "python",
     "metadata": {},
     "outputs": [
      {
       "metadata": {},
       "output_type": "pyout",
       "prompt_number": 128,
       "text": [
        "9609"
       ]
      }
     ],
     "prompt_number": 128
    },
    {
     "cell_type": "markdown",
     "metadata": {},
     "source": [
      "Note that this isn\u2019t perfect in that some annotation like the database cross references and one of the features (the source feature) have been lost:"
     ]
    },
    {
     "cell_type": "code",
     "collapsed": false,
     "input": [
      ">>> len(shifted.features)"
     ],
     "language": "python",
     "metadata": {},
     "outputs": [
      {
       "metadata": {},
       "output_type": "pyout",
       "prompt_number": 129,
       "text": [
        "40"
       ]
      }
     ],
     "prompt_number": 129
    },
    {
     "cell_type": "code",
     "collapsed": false,
     "input": [
      ">>> shifted.dbxrefs"
     ],
     "language": "python",
     "metadata": {},
     "outputs": [
      {
       "metadata": {},
       "output_type": "pyout",
       "prompt_number": 130,
       "text": [
        "[]"
       ]
      }
     ],
     "prompt_number": 130
    },
    {
     "cell_type": "code",
     "collapsed": false,
     "input": [
      ">>> shifted.annotations.keys()"
     ],
     "language": "python",
     "metadata": {},
     "outputs": [
      {
       "metadata": {},
       "output_type": "pyout",
       "prompt_number": 131,
       "text": [
        "[]"
       ]
      }
     ],
     "prompt_number": 131
    },
    {
     "cell_type": "markdown",
     "metadata": {},
     "source": [
      "This is because the SeqRecord slicing step is cautious in what annotation it preserves (erroneously propagating annotation can cause major problems). If you want to keep the database cross references or the annotations dictionary, this must be done explicitly:"
     ]
    },
    {
     "cell_type": "code",
     "collapsed": false,
     "input": [
      ">>> shifted.dbxrefs = record.dbxrefs[:]\n",
      ">>> shifted.annotations = record.annotations.copy()\n",
      ">>> shifted.dbxrefs"
     ],
     "language": "python",
     "metadata": {},
     "outputs": [
      {
       "metadata": {},
       "output_type": "pyout",
       "prompt_number": 132,
       "text": [
        "['Project:58037']"
       ]
      }
     ],
     "prompt_number": 132
    },
    {
     "cell_type": "code",
     "collapsed": false,
     "input": [
      ">>> shifted.annotations.keys()"
     ],
     "language": "python",
     "metadata": {},
     "outputs": [
      {
       "metadata": {},
       "output_type": "pyout",
       "prompt_number": 133,
       "text": [
        "['comment',\n",
        " 'date',\n",
        " 'taxonomy',\n",
        " 'gi',\n",
        " 'source',\n",
        " 'references',\n",
        " 'accessions',\n",
        " 'data_file_division',\n",
        " 'keywords',\n",
        " 'organism',\n",
        " 'sequence_version']"
       ]
      }
     ],
     "prompt_number": 133
    },
    {
     "cell_type": "markdown",
     "metadata": {},
     "source": [
      "Also note that in an example like this, you should probably change the record identifiers since the NCBI references refer to the original unmodified sequence."
     ]
    },
    {
     "cell_type": "markdown",
     "metadata": {},
     "source": [
      "## 4.8  Reverse-complementing SeqRecord objects"
     ]
    },
    {
     "cell_type": "markdown",
     "metadata": {},
     "source": [
      "One of the new features in Biopython 1.57 was the SeqRecord object\u2019s reverse_complement method. This tries to balance easy of use with worries about what to do with the annotation in the reverse complemented record.\n",
      "\n",
      "For the sequence, this uses the Seq object\u2019s reverse complement method. Any features are transferred with the location and strand recalculated. Likewise any per-letter-annotation is also copied but reversed (which makes sense for typical examples like quality scores). However, transfer of most annotation is problematical.\n",
      "\n",
      "For instance, if the record ID was an accession, that accession should not really apply to the reverse complemented sequence, and transferring the identifier by default could easily cause subtle data corruption in downstream analysis. Therefore by default, the SeqRecord\u2019s id, name, description, annotations and database cross references are all not transferred by default.\n",
      "\n",
      "The SeqRecord object\u2019s reverse_complement method takes a number of optional arguments corresponding to properties of the record. Setting these arguments to True means copy the old values, while False means drop the old values and use the default value. You can alternatively provide the new desired value instead.\n",
      "\n",
      "Consider this example record:"
     ]
    },
    {
     "cell_type": "code",
     "collapsed": false,
     "input": [
      ">>> from Bio import SeqIO\n",
      ">>> record = SeqIO.read(\"NC_005816.gb\", \"genbank\")\n",
      ">>> print(\"%s %i %i %i %i\" % (record.id, \n",
      "                              len(record), \n",
      "                              len(record.features), \n",
      "                              len(record.dbxrefs), \n",
      "                              len(record.annotations)))"
     ],
     "language": "python",
     "metadata": {},
     "outputs": [
      {
       "output_type": "stream",
       "stream": "stdout",
       "text": [
        "NC_005816.1 9609 41 1 11\n"
       ]
      }
     ],
     "prompt_number": 135
    },
    {
     "cell_type": "markdown",
     "metadata": {},
     "source": [
      "Here we take the reverse complement and specify a new identifier \u2013 but notice how most of the annotation is dropped (but not the features):"
     ]
    },
    {
     "cell_type": "code",
     "collapsed": false,
     "input": [
      ">>> rc = record.reverse_complement(id=\"TESTING\")\n",
      ">>> print(\"%s %i %i %i %i\" % (rc.id, \n",
      "                              len(rc), \n",
      "                              len(rc.features), \n",
      "                              len(rc.dbxrefs), \n",
      "                              len(rc.annotations)))"
     ],
     "language": "python",
     "metadata": {},
     "outputs": [
      {
       "output_type": "stream",
       "stream": "stdout",
       "text": [
        "TESTING 9609 41 0 0\n"
       ]
      }
     ],
     "prompt_number": 136
    },
    {
     "cell_type": "code",
     "collapsed": false,
     "input": [
      "%%HTML\n",
      "<style>\n",
      ".cell {\n",
      "    background-color: rgba(255,200,255,0.72);\n",
      "    font-family: Georgia, Cursive;\n",
      "    font-size: 144%;\n",
      "    border-radius: 10px;\n",
      "    spellcheck: true;\n",
      "}\n",
      "\n",
      "body {\n",
      "    background-color: #AAFFFF;\n",
      "    background-image: url('https://raw.github.com/chenleo/Resource/master/Images/FirstKiss1600X1200.jpg');\n",
      "    background-size: cover;\n",
      "    background-repeat: repeat;\n",
      "    background--attachment: fixed;\n",
      "}\n",
      "\n",
      "h1, h2 {\n",
      "    text-align: center;\n",
      "}\n",
      "\n",
      ".todo {\n",
      "    background-color: rgba(255,0,0,0.5);\n",
      "}\n",
      "</style>"
     ],
     "language": "python",
     "metadata": {},
     "outputs": [
      {
       "html": [
        "<style>\n",
        ".cell {\n",
        "    background-color: rgba(255,200,255,0.72);\n",
        "    font-family: Georgia, Cursive;\n",
        "    font-size: 144%;\n",
        "    border-radius: 10px;\n",
        "    spellcheck: true;\n",
        "}\n",
        "\n",
        "body {\n",
        "    background-color: #AAFFFF;\n",
        "    background-image: url('https://raw.github.com/chenleo/Resource/master/Images/FirstKiss1600X1200.jpg');\n",
        "    background-size: cover;\n",
        "    background-repeat: repeat;\n",
        "    background--attachment: fixed;\n",
        "}\n",
        "\n",
        "h1, h2 {\n",
        "    text-align: center;\n",
        "}\n",
        "\n",
        ".todo {\n",
        "    background-color: rgba(255,0,0,0.5);\n",
        "}\n",
        "</style>"
       ],
       "metadata": {},
       "output_type": "display_data",
       "text": [
        "<IPython.core.display.HTML at 0x3e40dd8>"
       ]
      }
     ],
     "prompt_number": 1
    },
    {
     "cell_type": "code",
     "collapsed": false,
     "input": [
      "%qtconsole"
     ],
     "language": "python",
     "metadata": {},
     "outputs": [],
     "prompt_number": 17
    },
    {
     "cell_type": "code",
     "collapsed": false,
     "input": [],
     "language": "python",
     "metadata": {},
     "outputs": []
    }
   ],
   "metadata": {}
  }
 ]
}