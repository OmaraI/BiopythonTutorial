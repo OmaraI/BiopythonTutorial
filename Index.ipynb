{
 "metadata": {
  "name": "",
  "signature": "sha256:1c6a8e66e2bf30b2a29c5c1c79aa51caa0d86145a49c62bfa68c2c391ca70863"
 },
 "nbformat": 3,
 "nbformat_minor": 0,
 "worksheets": [
  {
   "cells": [
    {
     "cell_type": "markdown",
     "metadata": {},
     "source": [
      "# Index:\n",
      "[Reference:](http://biopython.org/DIST/docs/tutorial/Tutorial.html)\n",
      "\n",
      "- [Chapter 1:  Introduction](./Chapter1.ipynb)\n",
      "- [Chapter 2:  Quick Start \u2013 What can you do with Biopython?](./Chapter2.ipynb)\n",
      "- [Chapter 3:  Sequence objects](./Chapter3.ipynb)\n",
      "- [Chapter 4:  Sequence annotation objects](./Chapter4.ipynb)\n",
      "- [Chapter 5:  Sequence Input/Output](./Chapter5.ipynb)\n",
      "- [Chapter 6:  Multiple Sequence Alignment objects](./Chapter6.ipynb)\n",
      "- [Chapter 7:  BLAST](./Chapter7.ipynb)\n",
      "- [Chapter 8:  BLAST and other sequence search tools (experimental code)](./Chapter8.ipynb)\n",
      "- [Chapter 9:  Accessing NCBI\u2019s Entrez databases](./Chapter9.ipynb)\n",
      "- [Chapter 10: Swiss-Prot and ExPASy](./Chapter10.ipynb)\n",
      "- [Chapter 11: Going 3D: The PDB module](./Chapter11.ipynb)\n",
      "- [Chapter 12: Bio.PopGen: Population genetics](./Chapter12.ipynb)\n",
      "- [Chapter 13: Phylogenetics with Bio.Phylo](./Chapter13.ipynb)\n",
      "- [Chapter 14: Sequence motif analysis using Bio.motifs](./Chapter14.ipynb)\n",
      "- [Chapter 15: Cluster analysis](./Chapter15.ipynb)\n",
      "- [Chapter 16: Supervised learning methods](./Chapter16.ipynb)\n",
      "- [Chapter 17: Graphics including GenomeDiagram](./Chapter17.ipynb)\n",
      "- [Chapter 18: Cookbook \u2013 Cool things to do with it](./Chapter18.ipynb)\n",
      "- [Chapter 19: The Biopython testing framework](./Chapter19.ipynb)\n",
      "- [Chapter 20: Advanced](./Chapter20.ipynb)\n",
      "- [Chapter 22: Where to go from here - contributing to Biopython](./Chapter21.ipynb)\n",
      "- [Chapter 22: Appendix: Useful stuff about Python](./Chapter22.ipynb)"
     ]
    },
    {
     "cell_type": "code",
     "collapsed": false,
     "input": [
      "%%HTML\n",
      "<style>\n",
      ".cell {\n",
      "    background-color: rgba(255,200,255,0.72);\n",
      "    font-family: Georgia, Cursive;\n",
      "    font-size: 144%;\n",
      "    border-radius: 10px;\n",
      "    spellcheck: true;\n",
      "}\n",
      "\n",
      "body {\n",
      "    background-color: #AAFFFF;\n",
      "    background-image: url('https://raw.github.com/chenleo/Resource/master/Images/FirstKiss1600X1200.jpg');\n",
      "    background-size: cover;\n",
      "    background-repeat: repeat;\n",
      "    background--attachment: fixed;\n",
      "}\n",
      "\n",
      "h1, h2 {\n",
      "    text-align: center;\n",
      "}\n",
      "\n",
      ".todo {\n",
      "    background-color: rgba(255,0,0,0.5);\n",
      "}\n",
      "</style>"
     ],
     "language": "python",
     "metadata": {},
     "outputs": [
      {
       "html": [
        "<style>\n",
        ".cell {\n",
        "    background-color: rgba(255,200,255,0.72);\n",
        "    font-family: Georgia, Cursive;\n",
        "    font-size: 144%;\n",
        "    border-radius: 10px;\n",
        "    spellcheck: true;\n",
        "}\n",
        "\n",
        "body {\n",
        "    background-color: #AAFFFF;\n",
        "    background-image: url('https://raw.github.com/chenleo/Resource/master/Images/FirstKiss1600X1200.jpg');\n",
        "    background-size: cover;\n",
        "    background-repeat: repeat;\n",
        "    background--attachment: fixed;\n",
        "}\n",
        "\n",
        "h1, h2 {\n",
        "    text-align: center;\n",
        "}\n",
        "\n",
        ".todo {\n",
        "    background-color: rgba(255,0,0,0.5);\n",
        "}\n",
        "</style>"
       ],
       "metadata": {},
       "output_type": "display_data",
       "text": [
        "<IPython.core.display.HTML at 0x3d30eb8>"
       ]
      }
     ],
     "prompt_number": 1
    },
    {
     "cell_type": "code",
     "collapsed": false,
     "input": [],
     "language": "python",
     "metadata": {},
     "outputs": []
    }
   ],
   "metadata": {}
  }
 ]
}